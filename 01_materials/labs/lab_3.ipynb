{
 "cells": [
  {
   "cell_type": "markdown",
   "metadata": {},
   "source": [
    "# Recommender Systems\n",
    "\n",
    "In this lab, we'll be using Keras to build a recommender system. We'll be using the MovieLens dataset, a common benchmark dataset for recommender systems. \n",
    "\n",
    "MovieLens is a web-based recommender system and virtual community that recommends movies for its users to watch, based on their film preferences using collaborative filtering of members' movie ratings and movie reviews. You can check out the website here: https://movielens.org/\n",
    "\n",
    "We will download a subset of the dataset containing 100k ratings. There are tens of millions of ratings in the full dataset, spanning hundreds of thousands of users and movies. The subset we'll be using is a good example to demonstrate the concepts in this lab."
   ]
  },
  {
   "cell_type": "code",
   "execution_count": 1,
   "metadata": {},
   "outputs": [],
   "source": [
    "%matplotlib inline\n",
    "import matplotlib.pyplot as plt\n",
    "import numpy as np\n",
    "from zipfile import ZipFile\n",
    "from urllib.request import urlretrieve\n",
    "from pathlib import Path\n",
    "\n",
    "ML_100K_URL = \"http://files.grouplens.org/datasets/movielens/ml-100k.zip\"\n",
    "ML_100K_FILENAME = Path(\"ml-100k.zip\")\n",
    "ML_100K_FOLDER = Path(\"ml-100k\")\n",
    "\n",
    "if not ML_100K_FOLDER.exists():\n",
    "    if not ML_100K_FILENAME.exists():\n",
    "        urlretrieve(ML_100K_URL, ML_100K_FILENAME.name)\n",
    "    with ZipFile(ML_100K_FILENAME.name) as zip_file:\n",
    "        zip_file.extractall()"
   ]
  },
  {
   "cell_type": "markdown",
   "metadata": {},
   "source": [
    "The goal of MovieLens is to enable models to predict the rating a user would give to a movie they have not yet watched. This is a classic example of a recommendation system. The dataset is huge, and contains many parts giving information about the movies, the users, and the ratings. To begin with, we will look at the ratings file. Each line in the ratings file (u.data) is formatted as:\n",
    "\n",
    "`user_id, item_id, rating, timestamp`\n",
    "\n",
    "Which tells us a single user's rating of a single movie.\n",
    "\n",
    "We will start by loading the ratings data into a pandas dataframe and then take a look at the first few rows. If you haven't used Pandas before, it's an extremely powerful library for dealing with tabular data. You can think of it as a Python version of Excel."
   ]
  },
  {
   "cell_type": "code",
   "execution_count": 2,
   "metadata": {},
   "outputs": [
    {
     "data": {
      "text/html": [
       "<div>\n",
       "<style scoped>\n",
       "    .dataframe tbody tr th:only-of-type {\n",
       "        vertical-align: middle;\n",
       "    }\n",
       "\n",
       "    .dataframe tbody tr th {\n",
       "        vertical-align: top;\n",
       "    }\n",
       "\n",
       "    .dataframe thead th {\n",
       "        text-align: right;\n",
       "    }\n",
       "</style>\n",
       "<table border=\"1\" class=\"dataframe\">\n",
       "  <thead>\n",
       "    <tr style=\"text-align: right;\">\n",
       "      <th></th>\n",
       "      <th>user_id</th>\n",
       "      <th>item_id</th>\n",
       "      <th>rating</th>\n",
       "      <th>timestamp</th>\n",
       "    </tr>\n",
       "  </thead>\n",
       "  <tbody>\n",
       "    <tr>\n",
       "      <th>0</th>\n",
       "      <td>196</td>\n",
       "      <td>242</td>\n",
       "      <td>3</td>\n",
       "      <td>881250949</td>\n",
       "    </tr>\n",
       "    <tr>\n",
       "      <th>1</th>\n",
       "      <td>186</td>\n",
       "      <td>302</td>\n",
       "      <td>3</td>\n",
       "      <td>891717742</td>\n",
       "    </tr>\n",
       "    <tr>\n",
       "      <th>2</th>\n",
       "      <td>22</td>\n",
       "      <td>377</td>\n",
       "      <td>1</td>\n",
       "      <td>878887116</td>\n",
       "    </tr>\n",
       "    <tr>\n",
       "      <th>3</th>\n",
       "      <td>244</td>\n",
       "      <td>51</td>\n",
       "      <td>2</td>\n",
       "      <td>880606923</td>\n",
       "    </tr>\n",
       "    <tr>\n",
       "      <th>4</th>\n",
       "      <td>166</td>\n",
       "      <td>346</td>\n",
       "      <td>1</td>\n",
       "      <td>886397596</td>\n",
       "    </tr>\n",
       "    <tr>\n",
       "      <th>...</th>\n",
       "      <td>...</td>\n",
       "      <td>...</td>\n",
       "      <td>...</td>\n",
       "      <td>...</td>\n",
       "    </tr>\n",
       "    <tr>\n",
       "      <th>99995</th>\n",
       "      <td>880</td>\n",
       "      <td>476</td>\n",
       "      <td>3</td>\n",
       "      <td>880175444</td>\n",
       "    </tr>\n",
       "    <tr>\n",
       "      <th>99996</th>\n",
       "      <td>716</td>\n",
       "      <td>204</td>\n",
       "      <td>5</td>\n",
       "      <td>879795543</td>\n",
       "    </tr>\n",
       "    <tr>\n",
       "      <th>99997</th>\n",
       "      <td>276</td>\n",
       "      <td>1090</td>\n",
       "      <td>1</td>\n",
       "      <td>874795795</td>\n",
       "    </tr>\n",
       "    <tr>\n",
       "      <th>99998</th>\n",
       "      <td>13</td>\n",
       "      <td>225</td>\n",
       "      <td>2</td>\n",
       "      <td>882399156</td>\n",
       "    </tr>\n",
       "    <tr>\n",
       "      <th>99999</th>\n",
       "      <td>12</td>\n",
       "      <td>203</td>\n",
       "      <td>3</td>\n",
       "      <td>879959583</td>\n",
       "    </tr>\n",
       "  </tbody>\n",
       "</table>\n",
       "<p>100000 rows × 4 columns</p>\n",
       "</div>"
      ],
      "text/plain": [
       "       user_id  item_id  rating  timestamp\n",
       "0          196      242       3  881250949\n",
       "1          186      302       3  891717742\n",
       "2           22      377       1  878887116\n",
       "3          244       51       2  880606923\n",
       "4          166      346       1  886397596\n",
       "...        ...      ...     ...        ...\n",
       "99995      880      476       3  880175444\n",
       "99996      716      204       5  879795543\n",
       "99997      276     1090       1  874795795\n",
       "99998       13      225       2  882399156\n",
       "99999       12      203       3  879959583\n",
       "\n",
       "[100000 rows x 4 columns]"
      ]
     },
     "execution_count": 2,
     "metadata": {},
     "output_type": "execute_result"
    }
   ],
   "source": [
    "import pandas as pd\n",
    "\n",
    "raw_ratings = pd.read_csv(ML_100K_FOLDER / \"u.data\", sep='\\t',\n",
    "                          names=[\"user_id\", \"item_id\", \"rating\", \"timestamp\"])\n",
    "raw_ratings"
   ]
  },
  {
   "cell_type": "markdown",
   "metadata": {},
   "source": [
    "The second file we'll look at is the movie metadata. This file (u.item) contains information about each movie, including the title and release date. Each line in the file is formatted as:\n",
    "\n",
    "`movie_id | movie_title | release_date | video_release_date | IMDb_URL | unknown | Action | Adventure | Animation | Children's | Comedy | Crime | Documentary | Drama | Fantasy | Film-Noir | Horror | Musical | Mystery | Romance | Sci-Fi | Thriller | War | Western`\n",
    "\n",
    "As you can see, the genres are binary variables. As with one-hot encoding, a 1 indicates that the movie is of that genre, and a 0 indicates that it is not. We aren't going to work with the genre data in this lab, but it's easy to imagine that it could be useful in a real-world recommendation system."
   ]
  },
  {
   "cell_type": "code",
   "execution_count": 3,
   "metadata": {},
   "outputs": [
    {
     "data": {
      "text/html": [
       "<div>\n",
       "<style scoped>\n",
       "    .dataframe tbody tr th:only-of-type {\n",
       "        vertical-align: middle;\n",
       "    }\n",
       "\n",
       "    .dataframe tbody tr th {\n",
       "        vertical-align: top;\n",
       "    }\n",
       "\n",
       "    .dataframe thead th {\n",
       "        text-align: right;\n",
       "    }\n",
       "</style>\n",
       "<table border=\"1\" class=\"dataframe\">\n",
       "  <thead>\n",
       "    <tr style=\"text-align: right;\">\n",
       "      <th></th>\n",
       "      <th>item_id</th>\n",
       "      <th>title</th>\n",
       "      <th>release_date</th>\n",
       "      <th>video_release_date</th>\n",
       "      <th>imdb_url</th>\n",
       "    </tr>\n",
       "  </thead>\n",
       "  <tbody>\n",
       "    <tr>\n",
       "      <th>0</th>\n",
       "      <td>1</td>\n",
       "      <td>Toy Story (1995)</td>\n",
       "      <td>01-Jan-1995</td>\n",
       "      <td>NaN</td>\n",
       "      <td>http://us.imdb.com/M/title-exact?Toy%20Story%2...</td>\n",
       "    </tr>\n",
       "    <tr>\n",
       "      <th>1</th>\n",
       "      <td>2</td>\n",
       "      <td>GoldenEye (1995)</td>\n",
       "      <td>01-Jan-1995</td>\n",
       "      <td>NaN</td>\n",
       "      <td>http://us.imdb.com/M/title-exact?GoldenEye%20(...</td>\n",
       "    </tr>\n",
       "    <tr>\n",
       "      <th>2</th>\n",
       "      <td>3</td>\n",
       "      <td>Four Rooms (1995)</td>\n",
       "      <td>01-Jan-1995</td>\n",
       "      <td>NaN</td>\n",
       "      <td>http://us.imdb.com/M/title-exact?Four%20Rooms%...</td>\n",
       "    </tr>\n",
       "    <tr>\n",
       "      <th>3</th>\n",
       "      <td>4</td>\n",
       "      <td>Get Shorty (1995)</td>\n",
       "      <td>01-Jan-1995</td>\n",
       "      <td>NaN</td>\n",
       "      <td>http://us.imdb.com/M/title-exact?Get%20Shorty%...</td>\n",
       "    </tr>\n",
       "    <tr>\n",
       "      <th>4</th>\n",
       "      <td>5</td>\n",
       "      <td>Copycat (1995)</td>\n",
       "      <td>01-Jan-1995</td>\n",
       "      <td>NaN</td>\n",
       "      <td>http://us.imdb.com/M/title-exact?Copycat%20(1995)</td>\n",
       "    </tr>\n",
       "    <tr>\n",
       "      <th>...</th>\n",
       "      <td>...</td>\n",
       "      <td>...</td>\n",
       "      <td>...</td>\n",
       "      <td>...</td>\n",
       "      <td>...</td>\n",
       "    </tr>\n",
       "    <tr>\n",
       "      <th>1677</th>\n",
       "      <td>1678</td>\n",
       "      <td>Mat' i syn (1997)</td>\n",
       "      <td>06-Feb-1998</td>\n",
       "      <td>NaN</td>\n",
       "      <td>http://us.imdb.com/M/title-exact?Mat%27+i+syn+...</td>\n",
       "    </tr>\n",
       "    <tr>\n",
       "      <th>1678</th>\n",
       "      <td>1679</td>\n",
       "      <td>B. Monkey (1998)</td>\n",
       "      <td>06-Feb-1998</td>\n",
       "      <td>NaN</td>\n",
       "      <td>http://us.imdb.com/M/title-exact?B%2E+Monkey+(...</td>\n",
       "    </tr>\n",
       "    <tr>\n",
       "      <th>1679</th>\n",
       "      <td>1680</td>\n",
       "      <td>Sliding Doors (1998)</td>\n",
       "      <td>01-Jan-1998</td>\n",
       "      <td>NaN</td>\n",
       "      <td>http://us.imdb.com/Title?Sliding+Doors+(1998)</td>\n",
       "    </tr>\n",
       "    <tr>\n",
       "      <th>1680</th>\n",
       "      <td>1681</td>\n",
       "      <td>You So Crazy (1994)</td>\n",
       "      <td>01-Jan-1994</td>\n",
       "      <td>NaN</td>\n",
       "      <td>http://us.imdb.com/M/title-exact?You%20So%20Cr...</td>\n",
       "    </tr>\n",
       "    <tr>\n",
       "      <th>1681</th>\n",
       "      <td>1682</td>\n",
       "      <td>Scream of Stone (Schrei aus Stein) (1991)</td>\n",
       "      <td>08-Mar-1996</td>\n",
       "      <td>NaN</td>\n",
       "      <td>http://us.imdb.com/M/title-exact?Schrei%20aus%...</td>\n",
       "    </tr>\n",
       "  </tbody>\n",
       "</table>\n",
       "<p>1682 rows × 5 columns</p>\n",
       "</div>"
      ],
      "text/plain": [
       "      item_id                                      title release_date  \\\n",
       "0           1                           Toy Story (1995)  01-Jan-1995   \n",
       "1           2                           GoldenEye (1995)  01-Jan-1995   \n",
       "2           3                          Four Rooms (1995)  01-Jan-1995   \n",
       "3           4                          Get Shorty (1995)  01-Jan-1995   \n",
       "4           5                             Copycat (1995)  01-Jan-1995   \n",
       "...       ...                                        ...          ...   \n",
       "1677     1678                          Mat' i syn (1997)  06-Feb-1998   \n",
       "1678     1679                           B. Monkey (1998)  06-Feb-1998   \n",
       "1679     1680                       Sliding Doors (1998)  01-Jan-1998   \n",
       "1680     1681                        You So Crazy (1994)  01-Jan-1994   \n",
       "1681     1682  Scream of Stone (Schrei aus Stein) (1991)  08-Mar-1996   \n",
       "\n",
       "      video_release_date                                           imdb_url  \n",
       "0                    NaN  http://us.imdb.com/M/title-exact?Toy%20Story%2...  \n",
       "1                    NaN  http://us.imdb.com/M/title-exact?GoldenEye%20(...  \n",
       "2                    NaN  http://us.imdb.com/M/title-exact?Four%20Rooms%...  \n",
       "3                    NaN  http://us.imdb.com/M/title-exact?Get%20Shorty%...  \n",
       "4                    NaN  http://us.imdb.com/M/title-exact?Copycat%20(1995)  \n",
       "...                  ...                                                ...  \n",
       "1677                 NaN  http://us.imdb.com/M/title-exact?Mat%27+i+syn+...  \n",
       "1678                 NaN  http://us.imdb.com/M/title-exact?B%2E+Monkey+(...  \n",
       "1679                 NaN      http://us.imdb.com/Title?Sliding+Doors+(1998)  \n",
       "1680                 NaN  http://us.imdb.com/M/title-exact?You%20So%20Cr...  \n",
       "1681                 NaN  http://us.imdb.com/M/title-exact?Schrei%20aus%...  \n",
       "\n",
       "[1682 rows x 5 columns]"
      ]
     },
     "execution_count": 3,
     "metadata": {},
     "output_type": "execute_result"
    }
   ],
   "source": [
    "columns_to_keep = ['item_id', 'title', 'release_date', 'video_release_date', 'imdb_url']\n",
    "items = pd.read_csv(ML_100K_FOLDER / \"u.item\", sep='|', names=columns_to_keep,\n",
    "                    encoding='latin-1', usecols=range(5))\n",
    "items"
   ]
  },
  {
   "cell_type": "markdown",
   "metadata": {},
   "source": [
    "By default, the `release_date` column is a string. We can convert it to a `datetime` object using the `pd.to_datetime` function. This will make it easier to work with in the future (if we want to do things like check which date came first, for example).\n",
    " \n",
    "We can also extract the year from the date and store it in a separate column. This will make it easier to do things like plot the number of movies released each year."
   ]
  },
  {
   "cell_type": "code",
   "execution_count": 4,
   "metadata": {},
   "outputs": [],
   "source": [
    "items['release_date'] = pd.to_datetime(items['release_date']) # Pandas makes this easy!\n",
    "items['release_year'] = items['release_date'].dt.year # For later use"
   ]
  },
  {
   "cell_type": "markdown",
   "metadata": {},
   "source": [
    "For our purposes, it will be easier to work with the data if we merge our two dataframes into a single dataframe. We can do this using the `merge` method. We'll merge the `items` dataframe into the `raw_ratings` dataframe, using the `item_id` column as the key. This will add the movie title and release year to each rating."
   ]
  },
  {
   "cell_type": "code",
   "execution_count": 5,
   "metadata": {},
   "outputs": [],
   "source": [
    "all_ratings = pd.merge(items, raw_ratings)"
   ]
  },
  {
   "cell_type": "code",
   "execution_count": 6,
   "metadata": {},
   "outputs": [
    {
     "data": {
      "text/html": [
       "<div>\n",
       "<style scoped>\n",
       "    .dataframe tbody tr th:only-of-type {\n",
       "        vertical-align: middle;\n",
       "    }\n",
       "\n",
       "    .dataframe tbody tr th {\n",
       "        vertical-align: top;\n",
       "    }\n",
       "\n",
       "    .dataframe thead th {\n",
       "        text-align: right;\n",
       "    }\n",
       "</style>\n",
       "<table border=\"1\" class=\"dataframe\">\n",
       "  <thead>\n",
       "    <tr style=\"text-align: right;\">\n",
       "      <th></th>\n",
       "      <th>item_id</th>\n",
       "      <th>title</th>\n",
       "      <th>release_date</th>\n",
       "      <th>video_release_date</th>\n",
       "      <th>imdb_url</th>\n",
       "      <th>release_year</th>\n",
       "      <th>user_id</th>\n",
       "      <th>rating</th>\n",
       "      <th>timestamp</th>\n",
       "    </tr>\n",
       "  </thead>\n",
       "  <tbody>\n",
       "    <tr>\n",
       "      <th>0</th>\n",
       "      <td>1</td>\n",
       "      <td>Toy Story (1995)</td>\n",
       "      <td>1995-01-01</td>\n",
       "      <td>NaN</td>\n",
       "      <td>http://us.imdb.com/M/title-exact?Toy%20Story%2...</td>\n",
       "      <td>1995.0</td>\n",
       "      <td>308</td>\n",
       "      <td>4</td>\n",
       "      <td>887736532</td>\n",
       "    </tr>\n",
       "    <tr>\n",
       "      <th>1</th>\n",
       "      <td>1</td>\n",
       "      <td>Toy Story (1995)</td>\n",
       "      <td>1995-01-01</td>\n",
       "      <td>NaN</td>\n",
       "      <td>http://us.imdb.com/M/title-exact?Toy%20Story%2...</td>\n",
       "      <td>1995.0</td>\n",
       "      <td>287</td>\n",
       "      <td>5</td>\n",
       "      <td>875334088</td>\n",
       "    </tr>\n",
       "    <tr>\n",
       "      <th>2</th>\n",
       "      <td>1</td>\n",
       "      <td>Toy Story (1995)</td>\n",
       "      <td>1995-01-01</td>\n",
       "      <td>NaN</td>\n",
       "      <td>http://us.imdb.com/M/title-exact?Toy%20Story%2...</td>\n",
       "      <td>1995.0</td>\n",
       "      <td>148</td>\n",
       "      <td>4</td>\n",
       "      <td>877019411</td>\n",
       "    </tr>\n",
       "    <tr>\n",
       "      <th>3</th>\n",
       "      <td>1</td>\n",
       "      <td>Toy Story (1995)</td>\n",
       "      <td>1995-01-01</td>\n",
       "      <td>NaN</td>\n",
       "      <td>http://us.imdb.com/M/title-exact?Toy%20Story%2...</td>\n",
       "      <td>1995.0</td>\n",
       "      <td>280</td>\n",
       "      <td>4</td>\n",
       "      <td>891700426</td>\n",
       "    </tr>\n",
       "    <tr>\n",
       "      <th>4</th>\n",
       "      <td>1</td>\n",
       "      <td>Toy Story (1995)</td>\n",
       "      <td>1995-01-01</td>\n",
       "      <td>NaN</td>\n",
       "      <td>http://us.imdb.com/M/title-exact?Toy%20Story%2...</td>\n",
       "      <td>1995.0</td>\n",
       "      <td>66</td>\n",
       "      <td>3</td>\n",
       "      <td>883601324</td>\n",
       "    </tr>\n",
       "  </tbody>\n",
       "</table>\n",
       "</div>"
      ],
      "text/plain": [
       "   item_id             title release_date  video_release_date  \\\n",
       "0        1  Toy Story (1995)   1995-01-01                 NaN   \n",
       "1        1  Toy Story (1995)   1995-01-01                 NaN   \n",
       "2        1  Toy Story (1995)   1995-01-01                 NaN   \n",
       "3        1  Toy Story (1995)   1995-01-01                 NaN   \n",
       "4        1  Toy Story (1995)   1995-01-01                 NaN   \n",
       "\n",
       "                                            imdb_url  release_year  user_id  \\\n",
       "0  http://us.imdb.com/M/title-exact?Toy%20Story%2...        1995.0      308   \n",
       "1  http://us.imdb.com/M/title-exact?Toy%20Story%2...        1995.0      287   \n",
       "2  http://us.imdb.com/M/title-exact?Toy%20Story%2...        1995.0      148   \n",
       "3  http://us.imdb.com/M/title-exact?Toy%20Story%2...        1995.0      280   \n",
       "4  http://us.imdb.com/M/title-exact?Toy%20Story%2...        1995.0       66   \n",
       "\n",
       "   rating  timestamp  \n",
       "0       4  887736532  \n",
       "1       5  875334088  \n",
       "2       4  877019411  \n",
       "3       4  891700426  \n",
       "4       3  883601324  "
      ]
     },
     "execution_count": 6,
     "metadata": {},
     "output_type": "execute_result"
    }
   ],
   "source": [
    "all_ratings.head()"
   ]
  },
  {
   "cell_type": "markdown",
   "metadata": {},
   "source": [
    "### Data preprocessing\n",
    "\n",
    "It's always important to understand the data you've collected. Thankfully, Pandas continues to make this easy for us. Using the `describe` method, we can get a quick statistical summary of the data."
   ]
  },
  {
   "cell_type": "code",
   "execution_count": 7,
   "metadata": {},
   "outputs": [
    {
     "data": {
      "text/html": [
       "<div>\n",
       "<style scoped>\n",
       "    .dataframe tbody tr th:only-of-type {\n",
       "        vertical-align: middle;\n",
       "    }\n",
       "\n",
       "    .dataframe tbody tr th {\n",
       "        vertical-align: top;\n",
       "    }\n",
       "\n",
       "    .dataframe thead th {\n",
       "        text-align: right;\n",
       "    }\n",
       "</style>\n",
       "<table border=\"1\" class=\"dataframe\">\n",
       "  <thead>\n",
       "    <tr style=\"text-align: right;\">\n",
       "      <th></th>\n",
       "      <th>item_id</th>\n",
       "      <th>release_date</th>\n",
       "      <th>video_release_date</th>\n",
       "      <th>release_year</th>\n",
       "      <th>user_id</th>\n",
       "      <th>rating</th>\n",
       "      <th>timestamp</th>\n",
       "    </tr>\n",
       "  </thead>\n",
       "  <tbody>\n",
       "    <tr>\n",
       "      <th>count</th>\n",
       "      <td>100000.000000</td>\n",
       "      <td>99991</td>\n",
       "      <td>0.0</td>\n",
       "      <td>99991.000000</td>\n",
       "      <td>100000.00000</td>\n",
       "      <td>100000.000000</td>\n",
       "      <td>1.000000e+05</td>\n",
       "    </tr>\n",
       "    <tr>\n",
       "      <th>mean</th>\n",
       "      <td>425.530130</td>\n",
       "      <td>1988-02-09 00:43:11.369223296</td>\n",
       "      <td>NaN</td>\n",
       "      <td>1987.956216</td>\n",
       "      <td>462.48475</td>\n",
       "      <td>3.529860</td>\n",
       "      <td>8.835289e+08</td>\n",
       "    </tr>\n",
       "    <tr>\n",
       "      <th>min</th>\n",
       "      <td>1.000000</td>\n",
       "      <td>1922-01-01 00:00:00</td>\n",
       "      <td>NaN</td>\n",
       "      <td>1922.000000</td>\n",
       "      <td>1.00000</td>\n",
       "      <td>1.000000</td>\n",
       "      <td>8.747247e+08</td>\n",
       "    </tr>\n",
       "    <tr>\n",
       "      <th>25%</th>\n",
       "      <td>175.000000</td>\n",
       "      <td>1986-01-01 00:00:00</td>\n",
       "      <td>NaN</td>\n",
       "      <td>1986.000000</td>\n",
       "      <td>254.00000</td>\n",
       "      <td>3.000000</td>\n",
       "      <td>8.794487e+08</td>\n",
       "    </tr>\n",
       "    <tr>\n",
       "      <th>50%</th>\n",
       "      <td>322.000000</td>\n",
       "      <td>1994-01-01 00:00:00</td>\n",
       "      <td>NaN</td>\n",
       "      <td>1994.000000</td>\n",
       "      <td>447.00000</td>\n",
       "      <td>4.000000</td>\n",
       "      <td>8.828269e+08</td>\n",
       "    </tr>\n",
       "    <tr>\n",
       "      <th>75%</th>\n",
       "      <td>631.000000</td>\n",
       "      <td>1996-09-28 00:00:00</td>\n",
       "      <td>NaN</td>\n",
       "      <td>1996.000000</td>\n",
       "      <td>682.00000</td>\n",
       "      <td>4.000000</td>\n",
       "      <td>8.882600e+08</td>\n",
       "    </tr>\n",
       "    <tr>\n",
       "      <th>max</th>\n",
       "      <td>1682.000000</td>\n",
       "      <td>1998-10-23 00:00:00</td>\n",
       "      <td>NaN</td>\n",
       "      <td>1998.000000</td>\n",
       "      <td>943.00000</td>\n",
       "      <td>5.000000</td>\n",
       "      <td>8.932866e+08</td>\n",
       "    </tr>\n",
       "    <tr>\n",
       "      <th>std</th>\n",
       "      <td>330.798356</td>\n",
       "      <td>NaN</td>\n",
       "      <td>NaN</td>\n",
       "      <td>14.155523</td>\n",
       "      <td>266.61442</td>\n",
       "      <td>1.125674</td>\n",
       "      <td>5.343856e+06</td>\n",
       "    </tr>\n",
       "  </tbody>\n",
       "</table>\n",
       "</div>"
      ],
      "text/plain": [
       "             item_id                   release_date  video_release_date  \\\n",
       "count  100000.000000                          99991                 0.0   \n",
       "mean      425.530130  1988-02-09 00:43:11.369223296                 NaN   \n",
       "min         1.000000            1922-01-01 00:00:00                 NaN   \n",
       "25%       175.000000            1986-01-01 00:00:00                 NaN   \n",
       "50%       322.000000            1994-01-01 00:00:00                 NaN   \n",
       "75%       631.000000            1996-09-28 00:00:00                 NaN   \n",
       "max      1682.000000            1998-10-23 00:00:00                 NaN   \n",
       "std       330.798356                            NaN                 NaN   \n",
       "\n",
       "       release_year       user_id         rating     timestamp  \n",
       "count  99991.000000  100000.00000  100000.000000  1.000000e+05  \n",
       "mean    1987.956216     462.48475       3.529860  8.835289e+08  \n",
       "min     1922.000000       1.00000       1.000000  8.747247e+08  \n",
       "25%     1986.000000     254.00000       3.000000  8.794487e+08  \n",
       "50%     1994.000000     447.00000       4.000000  8.828269e+08  \n",
       "75%     1996.000000     682.00000       4.000000  8.882600e+08  \n",
       "max     1998.000000     943.00000       5.000000  8.932866e+08  \n",
       "std       14.155523     266.61442       1.125674  5.343856e+06  "
      ]
     },
     "execution_count": 7,
     "metadata": {},
     "output_type": "execute_result"
    }
   ],
   "source": [
    "all_ratings.describe()"
   ]
  },
  {
   "cell_type": "markdown",
   "metadata": {},
   "source": [
    "Let's do a bit more pandas magic to compute the popularity of each movie (number of ratings). We will use the `groupby` method to group the dataframe by the `item_id` column and then use the `size` method to compute the number of ratings for each movie. We will use the `reset_index` method to convert the resulting Series into a dataframe with an `item_id` column."
   ]
  },
  {
   "cell_type": "code",
   "execution_count": 8,
   "metadata": {},
   "outputs": [],
   "source": [
    "popularity = all_ratings.groupby('item_id').size().reset_index(name='popularity')\n",
    "items = pd.merge(popularity, items)"
   ]
  },
  {
   "cell_type": "code",
   "execution_count": 9,
   "metadata": {},
   "outputs": [
    {
     "data": {
      "image/png": "[encoded data removed]",
      "text/plain": [
       "<Figure size 640x480 with 1 Axes>"
      ]
     },
     "metadata": {},
     "output_type": "display_data"
    }
   ],
   "source": [
    "items['popularity'].plot.hist(bins=30);"
   ]
  },
  {
   "cell_type": "code",
   "execution_count": 10,
   "metadata": {},
   "outputs": [
    {
     "data": {
      "text/plain": [
       "141"
      ]
     },
     "execution_count": 10,
     "metadata": {},
     "output_type": "execute_result"
    }
   ],
   "source": [
    "(items['popularity'] == 1).sum() # Number of movies with only one rating"
   ]
  },
  {
   "cell_type": "code",
   "execution_count": 11,
   "metadata": {},
   "outputs": [
    {
     "data": {
      "text/plain": [
       "49                  Star Wars (1977)\n",
       "257                   Contact (1997)\n",
       "99                      Fargo (1996)\n",
       "180        Return of the Jedi (1983)\n",
       "293                 Liar Liar (1997)\n",
       "285      English Patient, The (1996)\n",
       "287                    Scream (1996)\n",
       "0                   Toy Story (1995)\n",
       "299             Air Force One (1997)\n",
       "120    Independence Day (ID4) (1996)\n",
       "Name: title, dtype: object"
      ]
     },
     "execution_count": 11,
     "metadata": {},
     "output_type": "execute_result"
    }
   ],
   "source": [
    "items.nlargest(10, 'popularity')['title'] # Get the 10 most popular movies"
   ]
  },
  {
   "cell_type": "code",
   "execution_count": 12,
   "metadata": {},
   "outputs": [
    {
     "data": {
      "text/html": [
       "<div>\n",
       "<style scoped>\n",
       "    .dataframe tbody tr th:only-of-type {\n",
       "        vertical-align: middle;\n",
       "    }\n",
       "\n",
       "    .dataframe tbody tr th {\n",
       "        vertical-align: top;\n",
       "    }\n",
       "\n",
       "    .dataframe thead th {\n",
       "        text-align: right;\n",
       "    }\n",
       "</style>\n",
       "<table border=\"1\" class=\"dataframe\">\n",
       "  <thead>\n",
       "    <tr style=\"text-align: right;\">\n",
       "      <th></th>\n",
       "      <th>item_id</th>\n",
       "      <th>popularity</th>\n",
       "      <th>release_date</th>\n",
       "      <th>video_release_date</th>\n",
       "      <th>release_year</th>\n",
       "      <th>user_id</th>\n",
       "      <th>rating</th>\n",
       "      <th>timestamp</th>\n",
       "    </tr>\n",
       "  </thead>\n",
       "  <tbody>\n",
       "    <tr>\n",
       "      <th>count</th>\n",
       "      <td>100000.000000</td>\n",
       "      <td>100000.000000</td>\n",
       "      <td>99991</td>\n",
       "      <td>0.0</td>\n",
       "      <td>99991.000000</td>\n",
       "      <td>100000.00000</td>\n",
       "      <td>100000.000000</td>\n",
       "      <td>1.000000e+05</td>\n",
       "    </tr>\n",
       "    <tr>\n",
       "      <th>mean</th>\n",
       "      <td>425.530130</td>\n",
       "      <td>168.071900</td>\n",
       "      <td>1988-02-09 00:43:11.369223296</td>\n",
       "      <td>NaN</td>\n",
       "      <td>1987.956216</td>\n",
       "      <td>462.48475</td>\n",
       "      <td>3.529860</td>\n",
       "      <td>8.835289e+08</td>\n",
       "    </tr>\n",
       "    <tr>\n",
       "      <th>min</th>\n",
       "      <td>1.000000</td>\n",
       "      <td>1.000000</td>\n",
       "      <td>1922-01-01 00:00:00</td>\n",
       "      <td>NaN</td>\n",
       "      <td>1922.000000</td>\n",
       "      <td>1.00000</td>\n",
       "      <td>1.000000</td>\n",
       "      <td>8.747247e+08</td>\n",
       "    </tr>\n",
       "    <tr>\n",
       "      <th>25%</th>\n",
       "      <td>175.000000</td>\n",
       "      <td>71.000000</td>\n",
       "      <td>1986-01-01 00:00:00</td>\n",
       "      <td>NaN</td>\n",
       "      <td>1986.000000</td>\n",
       "      <td>254.00000</td>\n",
       "      <td>3.000000</td>\n",
       "      <td>8.794487e+08</td>\n",
       "    </tr>\n",
       "    <tr>\n",
       "      <th>50%</th>\n",
       "      <td>322.000000</td>\n",
       "      <td>145.000000</td>\n",
       "      <td>1994-01-01 00:00:00</td>\n",
       "      <td>NaN</td>\n",
       "      <td>1994.000000</td>\n",
       "      <td>447.00000</td>\n",
       "      <td>4.000000</td>\n",
       "      <td>8.828269e+08</td>\n",
       "    </tr>\n",
       "    <tr>\n",
       "      <th>75%</th>\n",
       "      <td>631.000000</td>\n",
       "      <td>239.000000</td>\n",
       "      <td>1996-09-28 00:00:00</td>\n",
       "      <td>NaN</td>\n",
       "      <td>1996.000000</td>\n",
       "      <td>682.00000</td>\n",
       "      <td>4.000000</td>\n",
       "      <td>8.882600e+08</td>\n",
       "    </tr>\n",
       "    <tr>\n",
       "      <th>max</th>\n",
       "      <td>1682.000000</td>\n",
       "      <td>583.000000</td>\n",
       "      <td>1998-10-23 00:00:00</td>\n",
       "      <td>NaN</td>\n",
       "      <td>1998.000000</td>\n",
       "      <td>943.00000</td>\n",
       "      <td>5.000000</td>\n",
       "      <td>8.932866e+08</td>\n",
       "    </tr>\n",
       "    <tr>\n",
       "      <th>std</th>\n",
       "      <td>330.798356</td>\n",
       "      <td>121.784558</td>\n",
       "      <td>NaN</td>\n",
       "      <td>NaN</td>\n",
       "      <td>14.155523</td>\n",
       "      <td>266.61442</td>\n",
       "      <td>1.125674</td>\n",
       "      <td>5.343856e+06</td>\n",
       "    </tr>\n",
       "  </tbody>\n",
       "</table>\n",
       "</div>"
      ],
      "text/plain": [
       "             item_id     popularity                   release_date  \\\n",
       "count  100000.000000  100000.000000                          99991   \n",
       "mean      425.530130     168.071900  1988-02-09 00:43:11.369223296   \n",
       "min         1.000000       1.000000            1922-01-01 00:00:00   \n",
       "25%       175.000000      71.000000            1986-01-01 00:00:00   \n",
       "50%       322.000000     145.000000            1994-01-01 00:00:00   \n",
       "75%       631.000000     239.000000            1996-09-28 00:00:00   \n",
       "max      1682.000000     583.000000            1998-10-23 00:00:00   \n",
       "std       330.798356     121.784558                            NaN   \n",
       "\n",
       "       video_release_date  release_year       user_id         rating  \\\n",
       "count                 0.0  99991.000000  100000.00000  100000.000000   \n",
       "mean                  NaN   1987.956216     462.48475       3.529860   \n",
       "min                   NaN   1922.000000       1.00000       1.000000   \n",
       "25%                   NaN   1986.000000     254.00000       3.000000   \n",
       "50%                   NaN   1994.000000     447.00000       4.000000   \n",
       "75%                   NaN   1996.000000     682.00000       4.000000   \n",
       "max                   NaN   1998.000000     943.00000       5.000000   \n",
       "std                   NaN     14.155523     266.61442       1.125674   \n",
       "\n",
       "          timestamp  \n",
       "count  1.000000e+05  \n",
       "mean   8.835289e+08  \n",
       "min    8.747247e+08  \n",
       "25%    8.794487e+08  \n",
       "50%    8.828269e+08  \n",
       "75%    8.882600e+08  \n",
       "max    8.932866e+08  \n",
       "std    5.343856e+06  "
      ]
     },
     "execution_count": 12,
     "metadata": {},
     "output_type": "execute_result"
    }
   ],
   "source": [
    "all_ratings = pd.merge(popularity, all_ratings)\n",
    "all_ratings.describe()"
   ]
  },
  {
   "cell_type": "code",
   "execution_count": 13,
   "metadata": {
    "collapsed": false
   },
   "outputs": [],
   "source": [
    "indexed_items = items.set_index('item_id')"
   ]
  },
  {
   "cell_type": "code",
   "execution_count": 14,
   "metadata": {},
   "outputs": [
    {
     "data": {
      "text/html": [
       "<div>\n",
       "<style scoped>\n",
       "    .dataframe tbody tr th:only-of-type {\n",
       "        vertical-align: middle;\n",
       "    }\n",
       "\n",
       "    .dataframe tbody tr th {\n",
       "        vertical-align: top;\n",
       "    }\n",
       "\n",
       "    .dataframe thead th {\n",
       "        text-align: right;\n",
       "    }\n",
       "</style>\n",
       "<table border=\"1\" class=\"dataframe\">\n",
       "  <thead>\n",
       "    <tr style=\"text-align: right;\">\n",
       "      <th></th>\n",
       "      <th>item_id</th>\n",
       "      <th>popularity</th>\n",
       "      <th>title</th>\n",
       "      <th>release_date</th>\n",
       "      <th>video_release_date</th>\n",
       "      <th>imdb_url</th>\n",
       "      <th>release_year</th>\n",
       "      <th>user_id</th>\n",
       "      <th>rating</th>\n",
       "      <th>timestamp</th>\n",
       "    </tr>\n",
       "  </thead>\n",
       "  <tbody>\n",
       "    <tr>\n",
       "      <th>0</th>\n",
       "      <td>1</td>\n",
       "      <td>452</td>\n",
       "      <td>Toy Story (1995)</td>\n",
       "      <td>1995-01-01</td>\n",
       "      <td>NaN</td>\n",
       "      <td>http://us.imdb.com/M/title-exact?Toy%20Story%2...</td>\n",
       "      <td>1995.0</td>\n",
       "      <td>308</td>\n",
       "      <td>4</td>\n",
       "      <td>887736532</td>\n",
       "    </tr>\n",
       "    <tr>\n",
       "      <th>1</th>\n",
       "      <td>1</td>\n",
       "      <td>452</td>\n",
       "      <td>Toy Story (1995)</td>\n",
       "      <td>1995-01-01</td>\n",
       "      <td>NaN</td>\n",
       "      <td>http://us.imdb.com/M/title-exact?Toy%20Story%2...</td>\n",
       "      <td>1995.0</td>\n",
       "      <td>287</td>\n",
       "      <td>5</td>\n",
       "      <td>875334088</td>\n",
       "    </tr>\n",
       "    <tr>\n",
       "      <th>2</th>\n",
       "      <td>1</td>\n",
       "      <td>452</td>\n",
       "      <td>Toy Story (1995)</td>\n",
       "      <td>1995-01-01</td>\n",
       "      <td>NaN</td>\n",
       "      <td>http://us.imdb.com/M/title-exact?Toy%20Story%2...</td>\n",
       "      <td>1995.0</td>\n",
       "      <td>148</td>\n",
       "      <td>4</td>\n",
       "      <td>877019411</td>\n",
       "    </tr>\n",
       "    <tr>\n",
       "      <th>3</th>\n",
       "      <td>1</td>\n",
       "      <td>452</td>\n",
       "      <td>Toy Story (1995)</td>\n",
       "      <td>1995-01-01</td>\n",
       "      <td>NaN</td>\n",
       "      <td>http://us.imdb.com/M/title-exact?Toy%20Story%2...</td>\n",
       "      <td>1995.0</td>\n",
       "      <td>280</td>\n",
       "      <td>4</td>\n",
       "      <td>891700426</td>\n",
       "    </tr>\n",
       "    <tr>\n",
       "      <th>4</th>\n",
       "      <td>1</td>\n",
       "      <td>452</td>\n",
       "      <td>Toy Story (1995)</td>\n",
       "      <td>1995-01-01</td>\n",
       "      <td>NaN</td>\n",
       "      <td>http://us.imdb.com/M/title-exact?Toy%20Story%2...</td>\n",
       "      <td>1995.0</td>\n",
       "      <td>66</td>\n",
       "      <td>3</td>\n",
       "      <td>883601324</td>\n",
       "    </tr>\n",
       "  </tbody>\n",
       "</table>\n",
       "</div>"
      ],
      "text/plain": [
       "   item_id  popularity             title release_date  video_release_date  \\\n",
       "0        1         452  Toy Story (1995)   1995-01-01                 NaN   \n",
       "1        1         452  Toy Story (1995)   1995-01-01                 NaN   \n",
       "2        1         452  Toy Story (1995)   1995-01-01                 NaN   \n",
       "3        1         452  Toy Story (1995)   1995-01-01                 NaN   \n",
       "4        1         452  Toy Story (1995)   1995-01-01                 NaN   \n",
       "\n",
       "                                            imdb_url  release_year  user_id  \\\n",
       "0  http://us.imdb.com/M/title-exact?Toy%20Story%2...        1995.0      308   \n",
       "1  http://us.imdb.com/M/title-exact?Toy%20Story%2...        1995.0      287   \n",
       "2  http://us.imdb.com/M/title-exact?Toy%20Story%2...        1995.0      148   \n",
       "3  http://us.imdb.com/M/title-exact?Toy%20Story%2...        1995.0      280   \n",
       "4  http://us.imdb.com/M/title-exact?Toy%20Story%2...        1995.0       66   \n",
       "\n",
       "   rating  timestamp  \n",
       "0       4  887736532  \n",
       "1       5  875334088  \n",
       "2       4  877019411  \n",
       "3       4  891700426  \n",
       "4       3  883601324  "
      ]
     },
     "execution_count": 14,
     "metadata": {},
     "output_type": "execute_result"
    }
   ],
   "source": [
    "all_ratings.head()"
   ]
  },
  {
   "cell_type": "markdown",
   "metadata": {
    "collapsed": false
   },
   "source": [
    "**Quick Exercise**:\n",
    "\n",
    "As we have seen, the `groupby` method is a powerful tool to quickly compute statistics on the data. Use it to compute the average rating for each movie.\n",
    "\n",
    "**Hint**: you can use the `mean` method after the `groupby` method."
   ]
  },
  {
   "cell_type": "code",
   "execution_count": 16,
   "metadata": {
    "collapsed": false
   },
   "outputs": [
    {
     "data": {
      "text/plain": [
       "item_id\n",
       "1    3.878319\n",
       "2    3.206107\n",
       "3    3.033333\n",
       "4    3.550239\n",
       "5    3.302326\n",
       "Name: rating, dtype: float64"
      ]
     },
     "execution_count": 16,
     "metadata": {},
     "output_type": "execute_result"
    }
   ],
   "source": [
    "# raise NotImplementedError(\"Please calculate the average rating for each movie\")\n",
    "# Compute average rating for each movie\n",
    "average_ratings = all_ratings.groupby('item_id')['rating'].mean()\n",
    "average_ratings.head()"
   ]
  },
  {
   "cell_type": "markdown",
   "metadata": {},
   "source": [
    "Let's split the enriched data in a train / test split to make it possible to do predictive modeling:"
   ]
  },
  {
   "cell_type": "code",
   "execution_count": 17,
   "metadata": {},
   "outputs": [],
   "source": [
    "from sklearn.model_selection import train_test_split\n",
    "\n",
    "ratings_train, ratings_test = train_test_split(\n",
    "    all_ratings, test_size=0.2, random_state=0)\n",
    "\n",
    "user_id_train = np.array(ratings_train['user_id'])\n",
    "item_id_train = np.array(ratings_train['item_id'])\n",
    "rating_train = np.array(ratings_train['rating'])\n",
    "\n",
    "user_id_test = np.array(ratings_test['user_id'])\n",
    "item_id_test = np.array(ratings_test['item_id'])\n",
    "rating_test = np.array(ratings_test['rating'])"
   ]
  },
  {
   "cell_type": "markdown",
   "metadata": {},
   "source": [
    "# Explicit feedback: supervised ratings prediction\n",
    "\n",
    "Now let's begin to do some recommendation! We will build a model that takes a user and a movie as input and outputs a predicted rating. We will be taking advantage of embeddings to represent users and movies. That means that each movie and user will have an abstract representation in a continuous vector space. The model will learn these representations based on the ratings."
   ]
  },
  {
   "cell_type": "markdown",
   "metadata": {},
   "source": [
    "## Predictive ratings  as a regression problem\n",
    "\n",
    "The following code implements the following architecture:\n",
    "\n",
    "<img src=\"https://raw.githubusercontent.com/UofT-DSI/deep_learning/refs/heads/main/01_materials/labs/images/rec_archi_1.svg\" style=\"width: 600px;\" />"
   ]
  },
  {
   "cell_type": "code",
   "execution_count": 18,
   "metadata": {},
   "outputs": [],
   "source": [
    "from tensorflow.keras.layers import Embedding, Flatten, Dense, Dropout\n",
    "from tensorflow.keras.layers import Dot\n",
    "from tensorflow.keras.models import Model"
   ]
  },
  {
   "cell_type": "code",
   "execution_count": 19,
   "metadata": {},
   "outputs": [],
   "source": [
    "# For each sample we input the integer identifiers\n",
    "# of a single user and a single item\n",
    "class RegressionModel(Model):\n",
    "    def __init__(self, embedding_size, max_user_id, max_item_id):\n",
    "        super().__init__()\n",
    "        \n",
    "        self.user_embedding = Embedding(output_dim=embedding_size,\n",
    "                                        input_dim=max_user_id + 1,\n",
    "                                        name='user_embedding')\n",
    "        self.item_embedding = Embedding(output_dim=embedding_size,\n",
    "                                        input_dim=max_item_id + 1,\n",
    "                                        name='item_embedding')\n",
    "        \n",
    "        # The following two layers don't have parameters.\n",
    "        self.flatten = Flatten()\n",
    "        self.dot = Dot(axes=1)\n",
    "        \n",
    "    def call(self, inputs):\n",
    "        user_inputs = inputs[0]\n",
    "        item_inputs = inputs[1]\n",
    "        \n",
    "        user_vecs = self.flatten(self.user_embedding(user_inputs))\n",
    "        item_vecs = self.flatten(self.item_embedding(item_inputs))\n",
    "        \n",
    "        y = self.dot([user_vecs, item_vecs])\n",
    "        return y\n",
    "\n",
    "\n",
    "model = RegressionModel(embedding_size=64, max_user_id=all_ratings['user_id'].max(), max_item_id=all_ratings['item_id'].max())\n",
    "model.compile(optimizer=\"adam\", loss='mae')"
   ]
  },
  {
   "cell_type": "markdown",
   "metadata": {},
   "source": [
    "### Monitoring runs\n",
    "\n",
    "When training a model with Keras, we get a `history` object back that contains lots of information about the training run. We can use this to plot the training and validation loss to see how the model has improved during training."
   ]
  },
  {
   "cell_type": "code",
   "execution_count": 20,
   "metadata": {},
   "outputs": [
    {
     "name": "stdout",
     "output_type": "stream",
     "text": [
      "Epoch 1/10\n",
      "\u001b[1m1125/1125\u001b[0m \u001b[32m━━━━━━━━━━━━━━━━━━━━\u001b[0m\u001b[37m\u001b[0m \u001b[1m2s\u001b[0m 1ms/step - loss: 3.2753 - val_loss: 1.0261\n",
      "Epoch 2/10\n",
      "\u001b[1m1125/1125\u001b[0m \u001b[32m━━━━━━━━━━━━━━━━━━━━\u001b[0m\u001b[37m\u001b[0m \u001b[1m1s\u001b[0m 1ms/step - loss: 0.9001 - val_loss: 0.7919\n",
      "Epoch 3/10\n",
      "\u001b[1m1125/1125\u001b[0m \u001b[32m━━━━━━━━━━━━━━━━━━━━\u001b[0m\u001b[37m\u001b[0m \u001b[1m1s\u001b[0m 1ms/step - loss: 0.7532 - val_loss: 0.7684\n",
      "Epoch 4/10\n",
      "\u001b[1m1125/1125\u001b[0m \u001b[32m━━━━━━━━━━━━━━━━━━━━\u001b[0m\u001b[37m\u001b[0m \u001b[1m2s\u001b[0m 1ms/step - loss: 0.7271 - val_loss: 0.7591\n",
      "Epoch 5/10\n",
      "\u001b[1m1125/1125\u001b[0m \u001b[32m━━━━━━━━━━━━━━━━━━━━\u001b[0m\u001b[37m\u001b[0m \u001b[1m1s\u001b[0m 1ms/step - loss: 0.7090 - val_loss: 0.7536\n",
      "Epoch 6/10\n",
      "\u001b[1m1125/1125\u001b[0m \u001b[32m━━━━━━━━━━━━━━━━━━━━\u001b[0m\u001b[37m\u001b[0m \u001b[1m1s\u001b[0m 1ms/step - loss: 0.6906 - val_loss: 0.7459\n",
      "Epoch 7/10\n",
      "\u001b[1m1125/1125\u001b[0m \u001b[32m━━━━━━━━━━━━━━━━━━━━\u001b[0m\u001b[37m\u001b[0m \u001b[1m1s\u001b[0m 1ms/step - loss: 0.6689 - val_loss: 0.7405\n",
      "Epoch 8/10\n",
      "\u001b[1m1125/1125\u001b[0m \u001b[32m━━━━━━━━━━━━━━━━━━━━\u001b[0m\u001b[37m\u001b[0m \u001b[1m2s\u001b[0m 1ms/step - loss: 0.6430 - val_loss: 0.7424\n",
      "Epoch 9/10\n",
      "\u001b[1m1125/1125\u001b[0m \u001b[32m━━━━━━━━━━━━━━━━━━━━\u001b[0m\u001b[37m\u001b[0m \u001b[1m1s\u001b[0m 1ms/step - loss: 0.6259 - val_loss: 0.7340\n",
      "Epoch 10/10\n",
      "\u001b[1m1125/1125\u001b[0m \u001b[32m━━━━━━━━━━━━━━━━━━━━\u001b[0m\u001b[37m\u001b[0m \u001b[1m1s\u001b[0m 1ms/step - loss: 0.6015 - val_loss: 0.7386\n",
      "CPU times: user 16.9 s, sys: 6.28 s, total: 23.1 s\n",
      "Wall time: 14.8 s\n"
     ]
    }
   ],
   "source": [
    "%%time\n",
    "\n",
    "# Training the model\n",
    "history = model.fit([user_id_train, item_id_train], rating_train,\n",
    "                    batch_size=64, epochs=10, validation_split=0.1,\n",
    "                    shuffle=True)"
   ]
  },
  {
   "cell_type": "code",
   "execution_count": 21,
   "metadata": {},
   "outputs": [
    {
     "data": {
      "image/png": "[encoded data removed]",
      "text/plain": [
       "<Figure size 640x480 with 1 Axes>"
      ]
     },
     "metadata": {},
     "output_type": "display_data"
    }
   ],
   "source": [
    "plt.plot(history.history['loss'], label='train')\n",
    "plt.plot(history.history['val_loss'], label='validation')\n",
    "plt.ylim(0, 2)\n",
    "plt.legend(loc='best')\n",
    "plt.title('Loss');"
   ]
  },
  {
   "cell_type": "markdown",
   "metadata": {},
   "source": [
    "**Questions**:\n",
    "\n",
    "- Does it look like our model has overfit? Why or why not?  \n",
    "Your Answer: If the training error is much lower than the test error, it means the model is overfitting—it performs well on training data but does not generalize to new data.\n",
    "- Suggest something we could do to prevent overfitting.  \n",
    "Your Answer: Implement early stopping during training, introduce dropout layers, and apply regularization techniques like L2 regularization.\n",
    "\n",
    "Now that the model is trained, let's check out the quality of predictions:"
   ]
  },
  {
   "cell_type": "code",
   "execution_count": 22,
   "metadata": {},
   "outputs": [],
   "source": [
    "def plot_predictions(y_true, y_pred):\n",
    "    plt.figure(figsize=(4, 4))\n",
    "    plt.xlim(-1, 6)\n",
    "    plt.xlabel(\"True rating\")\n",
    "    plt.ylim(-1, 6)\n",
    "    plt.ylabel(\"Predicted rating\")\n",
    "    plt.scatter(y_true, y_pred, s=60, alpha=0.01)"
   ]
  },
  {
   "cell_type": "code",
   "execution_count": 23,
   "metadata": {},
   "outputs": [
    {
     "name": "stdout",
     "output_type": "stream",
     "text": [
      "\u001b[1m625/625\u001b[0m \u001b[32m━━━━━━━━━━━━━━━━━━━━\u001b[0m\u001b[37m\u001b[0m \u001b[1m0s\u001b[0m 369us/step\n",
      "Final test MSE: 0.913\n",
      "Final test MAE: 0.736\n"
     ]
    },
    {
     "data": {
      "image/png": "[encoded data removed]",
      "text/plain": [
       "<Figure size 400x400 with 1 Axes>"
      ]
     },
     "metadata": {},
     "output_type": "display_data"
    }
   ],
   "source": [
    "from sklearn.metrics import mean_squared_error\n",
    "from sklearn.metrics import mean_absolute_error\n",
    "\n",
    "test_preds = model.predict([user_id_test, item_id_test])\n",
    "print(\"Final test MSE: %0.3f\" % mean_squared_error(test_preds, rating_test))\n",
    "print(\"Final test MAE: %0.3f\" % mean_absolute_error(test_preds, rating_test))\n",
    "plot_predictions(rating_test, test_preds)"
   ]
  },
  {
   "cell_type": "markdown",
   "metadata": {
    "collapsed": false
   },
   "source": [
    "This graph shows us the range of predicted ratings our model gives, organized by the true rating. We can see that generally, the higher the true rating the higher the predicted rating, although there is quite a range of predictions for each instance. That's okay - our model is very simple, and human preferences are very complex!\n",
    "\n",
    "Taking a look at the Mean Absolute Error, hopefully you got something around 0.75. This means that, on average, our predicted ratings are about 0.75 stars off from the true ratings. This is a pretty good result for a first attempt. We could probably do better with a more complex model, but we'll leave that for another time."
   ]
  },
  {
   "cell_type": "markdown",
   "metadata": {},
   "source": [
    "### Model Embeddings\n",
    "\n",
    "Our model was built with two embedding layers. These layers have learned a representation of both the users and the movies in our dataset. We can extract these representations and use them to find similar movies or users. We can also do interesting exploratory analysis, like finding the most popular movies among our users, or finding the users that are most interested in a given movie."
   ]
  },
  {
   "cell_type": "code",
   "execution_count": 24,
   "metadata": {},
   "outputs": [
    {
     "data": {
      "text/plain": [
       "[(944, 64), (1683, 64)]"
      ]
     },
     "execution_count": 24,
     "metadata": {},
     "output_type": "execute_result"
    }
   ],
   "source": [
    "# weights and shape\n",
    "weights = model.get_weights()\n",
    "[w.shape for w in weights]"
   ]
  },
  {
   "cell_type": "code",
   "execution_count": 25,
   "metadata": {},
   "outputs": [],
   "source": [
    "user_embeddings = weights[0]\n",
    "item_embeddings = weights[1]"
   ]
  },
  {
   "cell_type": "code",
   "execution_count": 26,
   "metadata": {},
   "outputs": [
    {
     "name": "stdout",
     "output_type": "stream",
     "text": [
      "Title for item_id=181: Return of the Jedi (1983)\n"
     ]
    }
   ],
   "source": [
    "item_id = 181\n",
    "print(f\"Title for item_id={item_id}: {indexed_items['title'][item_id]}\")"
   ]
  },
  {
   "cell_type": "code",
   "execution_count": 27,
   "metadata": {},
   "outputs": [
    {
     "name": "stdout",
     "output_type": "stream",
     "text": [
      "Embedding vector for item_id=181\n",
      "[-0.3925146  -0.001779    0.28575352 -0.4406364  -0.13358784  0.4228967\n",
      " -0.19000417  0.22725452 -0.07782681  0.67012626  0.29611224 -0.39047164\n",
      " -0.05842708  0.27725458  0.5461041   0.07973821  0.13956094 -0.23645668\n",
      " -0.4499889   0.24243522 -0.23223263  0.39581728  0.42456278 -0.43746457\n",
      "  0.39445347  0.1702953   0.12831114  0.38133454  0.10804777 -0.4078008\n",
      " -0.1613158  -0.5182777   0.3558224  -0.15579812  0.11058687  0.5053039\n",
      "  0.43113148  0.50505954  0.37096268 -0.28658193  0.07339789 -0.24359816\n",
      "  0.06189068  0.54094124  0.45402643 -0.21853723 -0.39779714  0.17369021\n",
      " -0.17670338  0.16567667  0.28076658  0.20843792 -0.21076766  0.17860144\n",
      " -0.4187519   0.5172353  -0.3456427   0.10922204  0.26968044 -0.17825083\n",
      "  0.27035373  0.25310144  0.308533   -0.51993906]\n",
      "shape: (64,)\n"
     ]
    }
   ],
   "source": [
    "print(f\"Embedding vector for item_id={item_id}\")\n",
    "print(item_embeddings[item_id])\n",
    "print(\"shape:\", item_embeddings[item_id].shape)"
   ]
  },
  {
   "cell_type": "markdown",
   "metadata": {
    "collapsed": false
   },
   "source": [
    "As we discussed in lecture, our embeddings are not directly interpretable - we can't look at, say, a value of 0.297 in the embedding vector and say \"this means that the movie is a drama\". As an aside, there is a field of research dedicated to making _interpretable_ embeddings, but it's not something we'll cover in this course. "
   ]
  },
  {
   "cell_type": "markdown",
   "metadata": {},
   "source": [
    "### Finding our most similar items\n",
    "\n",
    "Now we can have some fun, investigating the embeddings we've learned. We can start by finding the most similar items to a given item. We can do this by computing the cosine similarity between the item's embedding and the embedding of every other item. We can use the `cosine_similarity` function from `sklearn` to do this."
   ]
  },
  {
   "cell_type": "code",
   "execution_count": 28,
   "metadata": {
    "collapsed": false
   },
   "outputs": [],
   "source": [
    "from sklearn.metrics.pairwise import cosine_similarity\n",
    "\n",
    "def cosine(a, b):\n",
    "    # Reshape to the shape our function expects\n",
    "    a = a.reshape(1, -1)\n",
    "    b = b.reshape(1, -1)\n",
    "    return cosine_similarity(a, b)[0, 0]"
   ]
  },
  {
   "cell_type": "code",
   "execution_count": 29,
   "metadata": {},
   "outputs": [
    {
     "name": "stdout",
     "output_type": "stream",
     "text": [
      "Star Wars (1977)\n",
      "Return of the Jedi (1983)\n",
      "Cosine similarity: 0.922\n"
     ]
    }
   ],
   "source": [
    "def print_similarity(item_a, item_b, item_embeddings, titles):\n",
    "    print(titles[item_a])\n",
    "    print(titles[item_b])\n",
    "    similarity = cosine(item_embeddings[item_a],\n",
    "                        item_embeddings[item_b])\n",
    "    print(f\"Cosine similarity: {similarity:.3}\")\n",
    "    \n",
    "print_similarity(50, 181, item_embeddings, indexed_items[\"title\"])"
   ]
  },
  {
   "cell_type": "markdown",
   "metadata": {
    "collapsed": false
   },
   "source": [
    "It makes sense that the original Star Wars, and its later sequel Return of the Jedi have a high similarity. Let's try some other examples:"
   ]
  },
  {
   "cell_type": "code",
   "execution_count": 30,
   "metadata": {},
   "outputs": [
    {
     "name": "stdout",
     "output_type": "stream",
     "text": [
      "Return of the Jedi (1983)\n",
      "Scream (1996)\n",
      "Cosine similarity: 0.813\n"
     ]
    }
   ],
   "source": [
    "print_similarity(181, 288, item_embeddings, indexed_items[\"title\"])"
   ]
  },
  {
   "cell_type": "code",
   "execution_count": 31,
   "metadata": {},
   "outputs": [
    {
     "name": "stdout",
     "output_type": "stream",
     "text": [
      "Return of the Jedi (1983)\n",
      "Toy Story (1995)\n",
      "Cosine similarity: 0.867\n"
     ]
    }
   ],
   "source": [
    "print_similarity(181, 1, item_embeddings, indexed_items[\"title\"])"
   ]
  },
  {
   "cell_type": "code",
   "execution_count": 32,
   "metadata": {},
   "outputs": [
    {
     "name": "stdout",
     "output_type": "stream",
     "text": [
      "Return of the Jedi (1983)\n",
      "Return of the Jedi (1983)\n",
      "Cosine similarity: 1.0\n"
     ]
    }
   ],
   "source": [
    "print_similarity(181, 181, item_embeddings, indexed_items[\"title\"])"
   ]
  },
  {
   "cell_type": "markdown",
   "metadata": {
    "collapsed": false
   },
   "source": [
    "*Quick Exercise*:\n",
    "\n",
    "- Find some other films and compare their similarity. Do the results make sense to you? Can you find a pair of films that are very _dissimilar_?"
   ]
  },
  {
   "cell_type": "code",
   "execution_count": 33,
   "metadata": {
    "collapsed": false
   },
   "outputs": [
    {
     "name": "stdout",
     "output_type": "stream",
     "text": [
      "Target movie: Return of the Jedi (1983)\n",
      "\n",
      "Top 5 similar movies:\n",
      "Star Wars (1977) (Similarity: 0.922)\n",
      "Empire Strikes Back, The (1980) (Similarity: 0.905)\n",
      "Terminator 2: Judgment Day (1991) (Similarity: 0.890)\n",
      "Terminator, The (1984) (Similarity: 0.872)\n",
      "Toy Story (1995) (Similarity: 0.867)\n"
     ]
    }
   ],
   "source": [
    "\n",
    "\n",
    "# Step 1: Search for movie title containing \"Jedi\"\n",
    "partial_title = \"Jedi\"\n",
    "matches = indexed_items[indexed_items['title'].str.contains(partial_title, case=False, na=False)]\n",
    "\n",
    "# If multiple matches found, pick the first one (or customize this part)\n",
    "if matches.empty:\n",
    "    print(f\"No movie found with title containing '{partial_title}'\")\n",
    "else:\n",
    "    target_index = matches.index[0]\n",
    "    print(\"Target movie:\", indexed_items.loc[target_index]['title'])\n",
    "\n",
    "    # Step 2: Compute cosine similarities\n",
    "    similarities = cosine_similarity([item_embeddings[target_index]], item_embeddings)[0]\n",
    "\n",
    "    # Step 3: Get top 5 similar movies (excluding itself)\n",
    "    similar_items = np.argsort(similarities)[::-1]\n",
    "    top_similar = [i for i in similar_items if i != target_index][:5]\n",
    "\n",
    "    print(\"\\nTop 5 similar movies:\")\n",
    "    for i in top_similar:\n",
    "        title = indexed_items.loc[i]['title']\n",
    "        score = similarities[i]\n",
    "        print(f\"{title} (Similarity: {score:.3f})\")"
   ]
  },
  {
   "cell_type": "markdown",
   "metadata": {
    "collapsed": false
   },
   "source": [
    "Sometimes, even without knowing anything about a user, we can recommend films by asking them about a film that they do like. The code below compares the similarity of a given film to all others, and returns the most similar films."
   ]
  },
  {
   "cell_type": "code",
   "execution_count": 34,
   "metadata": {},
   "outputs": [
    {
     "data": {
      "text/plain": [
       "[(50, 'Star Wars (1977)', 1.0),\n",
       " (172, 'Empire Strikes Back, The (1980)', 0.93604755),\n",
       " (181, 'Return of the Jedi (1983)', 0.92209256),\n",
       " (174, 'Raiders of the Lost Ark (1981)', 0.8918797),\n",
       " (1550, 'Destiny Turns on the Radio (1995)', 0.88541067),\n",
       " (1359, 'Boys in Venice (1996)', 0.8769082),\n",
       " (96, 'Terminator 2: Judgment Day (1991)', 0.8760634),\n",
       " (12, 'Usual Suspects, The (1995)', 0.8661775),\n",
       " (168, 'Monty Python and the Holy Grail (1974)', 0.86053854),\n",
       " (1269, 'Love in the Afternoon (1957)', 0.8592013)]"
      ]
     },
     "execution_count": 34,
     "metadata": {},
     "output_type": "execute_result"
    }
   ],
   "source": [
    "def most_similar(item_id, item_embeddings, titles,\n",
    "                 top_n=30):\n",
    "    # Compute the cosine similarity between the item and all other items\n",
    "    sims = cosine_similarity(item_embeddings[item_id].reshape(1, -1),\n",
    "                             item_embeddings).ravel()\n",
    "    \n",
    "    # [::-1] makes it possible to reverse the order of a numpy\n",
    "    # array, this is required because most similar items have\n",
    "    # a larger cosine similarity value\n",
    "    sorted_indexes = np.argsort(sims)[::-1]\n",
    "    idxs = sorted_indexes[0:top_n]\n",
    "    return list(zip(idxs, titles[idxs], sims[idxs]))\n",
    "\n",
    "# Find the most similar films to \"Star Wars\"\n",
    "most_similar(50, item_embeddings, indexed_items[\"title\"], top_n=10)"
   ]
  },
  {
   "cell_type": "code",
   "execution_count": 35,
   "metadata": {},
   "outputs": [
    {
     "data": {
      "text/plain": [
       "[(227, 'Star Trek VI: The Undiscovered Country (1991)', 1.0),\n",
       " (101, 'Heavy Metal (1981)', 0.9095842),\n",
       " (1542, 'Scarlet Letter, The (1926)', 0.9037769),\n",
       " (662, 'Somewhere in Time (1980)', 0.89938664),\n",
       " (869, 'Fools Rush In (1997)', 0.8985863),\n",
       " (1345, 'Day the Sun Turned Cold, The (Tianguo niezi) (1994)', 0.88857806),\n",
       " (845, 'That Thing You Do! (1996)', 0.8878374),\n",
       " (1667, 'Next Step, The (1995)', 0.88399017),\n",
       " (1613, 'Tokyo Fist (1995)', 0.88324827),\n",
       " (1615, 'Warriors of Virtue (1997)', 0.88313586)]"
      ]
     },
     "execution_count": 35,
     "metadata": {},
     "output_type": "execute_result"
    }
   ],
   "source": [
    "# Find the most similar films to \"Star Trek VI: The Undiscovered Country\"\n",
    "most_similar(227, item_embeddings, indexed_items[\"title\"], top_n=10)"
   ]
  },
  {
   "cell_type": "markdown",
   "metadata": {},
   "source": [
    "The similarities do not always make sense: the number of ratings is low and the embedding  does not automatically capture semantic relationships in that context. Better representations arise with higher number of ratings, and less overfitting  in models or maybe better loss function, such as those based on implicit feedback."
   ]
  },
  {
   "cell_type": "markdown",
   "metadata": {},
   "source": [
    "### Visualizing embeddings using TSNE\n",
    "\n",
    "The [t-SNE](https://en.wikipedia.org/wiki/T-distributed_stochastic_neighbor_embedding) algorithm enables us to visualize high dimensional vectors in a 2D space by preserving local neighborhoods. We can use it to get a 2D visualization of the item embeddings and see if similar items are close in the embedding space."
   ]
  },
  {
   "cell_type": "code",
   "execution_count": 36,
   "metadata": {},
   "outputs": [],
   "source": [
    "from sklearn.manifold import TSNE\n",
    "\n",
    "item_tsne = TSNE(learning_rate=\"auto\", init=\"pca\", perplexity=30).fit_transform(item_embeddings)"
   ]
  },
  {
   "cell_type": "code",
   "execution_count": 37,
   "metadata": {},
   "outputs": [
    {
     "data": {
      "image/png": "[encoded data removed]",
      "text/plain": [
       "<Figure size 1000x1000 with 1 Axes>"
      ]
     },
     "metadata": {},
     "output_type": "display_data"
    }
   ],
   "source": [
    "import matplotlib.pyplot as plt\n",
    "\n",
    "plt.figure(figsize=(10, 10))\n",
    "plt.scatter(item_tsne[:, 0], item_tsne[:, 1]);\n",
    "plt.xticks(()); plt.yticks(());\n",
    "plt.show()"
   ]
  },
  {
   "cell_type": "code",
   "execution_count": null,
   "metadata": {},
   "outputs": [
    {
     "name": "stdout",
     "output_type": "stream",
     "text": [
      "Collecting plotly\n",
      "  Downloading plotly-6.2.0-py3-none-any.whl.metadata (8.5 kB)\n",
      "Collecting narwhals>=1.15.1 (from plotly)\n",
      "  Downloading narwhals-1.47.1-py3-none-any.whl.metadata (11 kB)\n",
      "Requirement already satisfied: packaging in /opt/miniconda3/envs/dsi_env/lib/python3.9/site-packages (from plotly) (25.0)\n",
      "Downloading plotly-6.2.0-py3-none-any.whl (9.6 MB)\n",
      "\u001b[2K   \u001b[90m━━━━━━━━━━━━━━━━━━━━━━━━━━━━━━━━━━━━━━━━\u001b[0m \u001b[32m9.6/9.6 MB\u001b[0m \u001b[31m35.6 MB/s\u001b[0m eta \u001b[36m0:00:00\u001b[0ma \u001b[36m0:00:01\u001b[0m\n",
      "\u001b[?25hDownloading narwhals-1.47.1-py3-none-any.whl (375 kB)\n",
      "Installing collected packages: narwhals, plotly\n",
      "\u001b[2K   \u001b[90m━━━━━━━━━━━━━━━━━━━━━━━━━━━━━━━━━━━━━━━━\u001b[0m \u001b[32m2/2\u001b[0m [plotly]2m1/2\u001b[0m [plotly]\n",
      "\u001b[1A\u001b[2KSuccessfully installed narwhals-1.47.1 plotly-6.2.0\n"
     ]
    }
   ],
   "source": [
    "#!pip install plotly"
   ]
  },
  {
   "cell_type": "code",
   "execution_count": 41,
   "metadata": {
    "tags": []
   },
   "outputs": [
    {
     "ename": "ValueError",
     "evalue": "Mime type rendering requires nbformat>=4.2.0 but it is not installed",
     "output_type": "error",
     "traceback": [
      "\u001b[0;31m---------------------------------------------------------------------------\u001b[0m",
      "\u001b[0;31mValueError\u001b[0m                                Traceback (most recent call last)",
      "File \u001b[0;32m/opt/miniconda3/envs/dsi_env/lib/python3.9/site-packages/IPython/core/formatters.py:922\u001b[0m, in \u001b[0;36mIPythonDisplayFormatter.__call__\u001b[0;34m(self, obj)\u001b[0m\n\u001b[1;32m    920\u001b[0m method \u001b[38;5;241m=\u001b[39m get_real_method(obj, \u001b[38;5;28mself\u001b[39m\u001b[38;5;241m.\u001b[39mprint_method)\n\u001b[1;32m    921\u001b[0m \u001b[38;5;28;01mif\u001b[39;00m method \u001b[38;5;129;01mis\u001b[39;00m \u001b[38;5;129;01mnot\u001b[39;00m \u001b[38;5;28;01mNone\u001b[39;00m:\n\u001b[0;32m--> 922\u001b[0m     \u001b[43mmethod\u001b[49m\u001b[43m(\u001b[49m\u001b[43m)\u001b[49m\n\u001b[1;32m    923\u001b[0m     \u001b[38;5;28;01mreturn\u001b[39;00m \u001b[38;5;28;01mTrue\u001b[39;00m\n",
      "File \u001b[0;32m/opt/miniconda3/envs/dsi_env/lib/python3.9/site-packages/plotly/basedatatypes.py:850\u001b[0m, in \u001b[0;36mBaseFigure._ipython_display_\u001b[0;34m(self)\u001b[0m\n\u001b[1;32m    847\u001b[0m \u001b[38;5;28;01mimport\u001b[39;00m\u001b[38;5;250m \u001b[39m\u001b[38;5;21;01mplotly\u001b[39;00m\u001b[38;5;21;01m.\u001b[39;00m\u001b[38;5;21;01mio\u001b[39;00m\u001b[38;5;250m \u001b[39m\u001b[38;5;28;01mas\u001b[39;00m\u001b[38;5;250m \u001b[39m\u001b[38;5;21;01mpio\u001b[39;00m\n\u001b[1;32m    849\u001b[0m \u001b[38;5;28;01mif\u001b[39;00m pio\u001b[38;5;241m.\u001b[39mrenderers\u001b[38;5;241m.\u001b[39mrender_on_display \u001b[38;5;129;01mand\u001b[39;00m pio\u001b[38;5;241m.\u001b[39mrenderers\u001b[38;5;241m.\u001b[39mdefault:\n\u001b[0;32m--> 850\u001b[0m     \u001b[43mpio\u001b[49m\u001b[38;5;241;43m.\u001b[39;49m\u001b[43mshow\u001b[49m\u001b[43m(\u001b[49m\u001b[38;5;28;43mself\u001b[39;49m\u001b[43m)\u001b[49m\n\u001b[1;32m    851\u001b[0m \u001b[38;5;28;01melse\u001b[39;00m:\n\u001b[1;32m    852\u001b[0m     \u001b[38;5;28mprint\u001b[39m(\u001b[38;5;28mrepr\u001b[39m(\u001b[38;5;28mself\u001b[39m))\n",
      "File \u001b[0;32m/opt/miniconda3/envs/dsi_env/lib/python3.9/site-packages/plotly/io/_renderers.py:415\u001b[0m, in \u001b[0;36mshow\u001b[0;34m(fig, renderer, validate, **kwargs)\u001b[0m\n\u001b[1;32m    410\u001b[0m     \u001b[38;5;28;01mraise\u001b[39;00m \u001b[38;5;167;01mValueError\u001b[39;00m(\n\u001b[1;32m    411\u001b[0m         \u001b[38;5;124m\"\u001b[39m\u001b[38;5;124mMime type rendering requires ipython but it is not installed\u001b[39m\u001b[38;5;124m\"\u001b[39m\n\u001b[1;32m    412\u001b[0m     )\n\u001b[1;32m    414\u001b[0m \u001b[38;5;28;01mif\u001b[39;00m \u001b[38;5;129;01mnot\u001b[39;00m nbformat \u001b[38;5;129;01mor\u001b[39;00m Version(nbformat\u001b[38;5;241m.\u001b[39m__version__) \u001b[38;5;241m<\u001b[39m Version(\u001b[38;5;124m\"\u001b[39m\u001b[38;5;124m4.2.0\u001b[39m\u001b[38;5;124m\"\u001b[39m):\n\u001b[0;32m--> 415\u001b[0m     \u001b[38;5;28;01mraise\u001b[39;00m \u001b[38;5;167;01mValueError\u001b[39;00m(\n\u001b[1;32m    416\u001b[0m         \u001b[38;5;124m\"\u001b[39m\u001b[38;5;124mMime type rendering requires nbformat>=4.2.0 but it is not installed\u001b[39m\u001b[38;5;124m\"\u001b[39m\n\u001b[1;32m    417\u001b[0m     )\n\u001b[1;32m    419\u001b[0m display_jupyter_version_warnings()\n\u001b[1;32m    421\u001b[0m ipython_display\u001b[38;5;241m.\u001b[39mdisplay(bundle, raw\u001b[38;5;241m=\u001b[39m\u001b[38;5;28;01mTrue\u001b[39;00m)\n",
      "\u001b[0;31mValueError\u001b[0m: Mime type rendering requires nbformat>=4.2.0 but it is not installed"
     ]
    },
    {
     "data": {
      "application/vnd.plotly.v1+json": {
       "config": {
        "plotlyServerURL": "https://plot.ly"
       },
       "data": [
        {
         "customdata": [
          [
           1,
           "Toy Story (1995)",
           452
          ],
          [
           2,
           "GoldenEye (1995)",
           131
          ],
          [
           3,
           "Four Rooms (1995)",
           90
          ],
          [
           4,
           "Get Shorty (1995)",
           209
          ],
          [
           5,
           "Copycat (1995)",
           86
          ],
          [
           6,
           "Shanghai Triad (Yao a yao yao dao waipo qiao) (1995)",
           26
          ],
          [
           7,
           "Twelve Monkeys (1995)",
           392
          ],
          [
           8,
           "Babe (1995)",
           219
          ],
          [
           9,
           "Dead Man Walking (1995)",
           299
          ],
          [
           10,
           "Richard III (1995)",
           89
          ],
          [
           11,
           "Seven (Se7en) (1995)",
           236
          ],
          [
           12,
           "Usual Suspects, The (1995)",
           267
          ],
          [
           13,
           "Mighty Aphrodite (1995)",
           184
          ],
          [
           14,
           "Postino, Il (1994)",
           183
          ],
          [
           15,
           "Mr. Holland's Opus (1995)",
           293
          ],
          [
           16,
           "French Twist (Gazon maudit) (1995)",
           39
          ],
          [
           17,
           "From Dusk Till Dawn (1996)",
           92
          ],
          [
           18,
           "White Balloon, The (1995)",
           10
          ],
          [
           19,
           "Antonia's Line (1995)",
           69
          ],
          [
           20,
           "Angels and Insects (1995)",
           72
          ],
          [
           21,
           "Muppet Treasure Island (1996)",
           84
          ],
          [
           22,
           "Braveheart (1995)",
           297
          ],
          [
           23,
           "Taxi Driver (1976)",
           182
          ],
          [
           24,
           "Rumble in the Bronx (1995)",
           174
          ],
          [
           25,
           "Birdcage, The (1996)",
           293
          ],
          [
           26,
           "Brothers McMullen, The (1995)",
           73
          ],
          [
           27,
           "Bad Boys (1995)",
           57
          ],
          [
           28,
           "Apollo 13 (1995)",
           276
          ],
          [
           29,
           "Batman Forever (1995)",
           114
          ],
          [
           30,
           "Belle de jour (1967)",
           37
          ],
          [
           31,
           "Crimson Tide (1995)",
           154
          ],
          [
           32,
           "Crumb (1994)",
           81
          ],
          [
           33,
           "Desperado (1995)",
           97
          ],
          [
           34,
           "Doom Generation, The (1995)",
           7
          ],
          [
           35,
           "Free Willy 2: The Adventure Home (1995)",
           11
          ],
          [
           36,
           "Mad Love (1995)",
           13
          ],
          [
           37,
           "Nadja (1994)",
           8
          ],
          [
           38,
           "Net, The (1995)",
           120
          ],
          [
           39,
           "Strange Days (1995)",
           87
          ],
          [
           40,
           "To Wong Foo, Thanks for Everything! Julie Newmar (1995)",
           57
          ],
          [
           41,
           "Billy Madison (1995)",
           37
          ],
          [
           42,
           "Clerks (1994)",
           148
          ],
          [
           43,
           "Disclosure (1994)",
           40
          ],
          [
           44,
           "Dolores Claiborne (1994)",
           79
          ],
          [
           45,
           "Eat Drink Man Woman (1994)",
           80
          ],
          [
           46,
           "Exotica (1994)",
           27
          ],
          [
           47,
           "Ed Wood (1994)",
           133
          ],
          [
           48,
           "Hoop Dreams (1994)",
           117
          ],
          [
           49,
           "I.Q. (1994)",
           81
          ],
          [
           50,
           "Star Wars (1977)",
           583
          ],
          [
           51,
           "Legends of the Fall (1994)",
           81
          ],
          [
           52,
           "Madness of King George, The (1994)",
           91
          ],
          [
           53,
           "Natural Born Killers (1994)",
           128
          ],
          [
           54,
           "Outbreak (1995)",
           104
          ],
          [
           55,
           "Professional, The (1994)",
           149
          ],
          [
           56,
           "Pulp Fiction (1994)",
           394
          ],
          [
           57,
           "Priest (1994)",
           40
          ],
          [
           58,
           "Quiz Show (1994)",
           175
          ],
          [
           59,
           "Three Colors: Red (1994)",
           83
          ],
          [
           60,
           "Three Colors: Blue (1993)",
           64
          ],
          [
           61,
           "Three Colors: White (1994)",
           59
          ],
          [
           62,
           "Stargate (1994)",
           127
          ],
          [
           63,
           "Santa Clause, The (1994)",
           82
          ],
          [
           64,
           "Shawshank Redemption, The (1994)",
           283
          ],
          [
           65,
           "What's Eating Gilbert Grape (1993)",
           115
          ],
          [
           66,
           "While You Were Sleeping (1995)",
           162
          ],
          [
           67,
           "Ace Ventura: Pet Detective (1994)",
           103
          ],
          [
           68,
           "Crow, The (1994)",
           134
          ],
          [
           69,
           "Forrest Gump (1994)",
           321
          ],
          [
           70,
           "Four Weddings and a Funeral (1994)",
           251
          ],
          [
           71,
           "Lion King, The (1994)",
           220
          ],
          [
           72,
           "Mask, The (1994)",
           129
          ],
          [
           73,
           "Maverick (1994)",
           128
          ],
          [
           74,
           "Faster Pussycat! Kill! Kill! (1965)",
           7
          ],
          [
           75,
           "Brother Minister: The Assassination of Malcolm X (1994)",
           5
          ],
          [
           76,
           "Carlito's Way (1993)",
           54
          ],
          [
           77,
           "Firm, The (1993)",
           151
          ],
          [
           78,
           "Free Willy (1993)",
           33
          ],
          [
           79,
           "Fugitive, The (1993)",
           336
          ],
          [
           80,
           "Hot Shots! Part Deux (1993)",
           68
          ],
          [
           81,
           "Hudsucker Proxy, The (1994)",
           110
          ],
          [
           82,
           "Jurassic Park (1993)",
           261
          ],
          [
           83,
           "Much Ado About Nothing (1993)",
           176
          ],
          [
           84,
           "Robert A. Heinlein's The Puppet Masters (1994)",
           18
          ],
          [
           85,
           "Ref, The (1994)",
           58
          ],
          [
           86,
           "Remains of the Day, The (1993)",
           150
          ],
          [
           87,
           "Searching for Bobby Fischer (1993)",
           138
          ],
          [
           88,
           "Sleepless in Seattle (1993)",
           213
          ],
          [
           89,
           "Blade Runner (1982)",
           275
          ],
          [
           90,
           "So I Married an Axe Murderer (1993)",
           95
          ],
          [
           91,
           "Nightmare Before Christmas, The (1993)",
           143
          ],
          [
           92,
           "True Romance (1993)",
           104
          ],
          [
           93,
           "Welcome to the Dollhouse (1995)",
           112
          ],
          [
           94,
           "Home Alone (1990)",
           137
          ],
          [
           95,
           "Aladdin (1992)",
           219
          ],
          [
           96,
           "Terminator 2: Judgment Day (1991)",
           295
          ],
          [
           97,
           "Dances with Wolves (1990)",
           256
          ],
          [
           98,
           "Silence of the Lambs, The (1991)",
           390
          ],
          [
           99,
           "Snow White and the Seven Dwarfs (1937)",
           172
          ],
          [
           100,
           "Fargo (1996)",
           508
          ],
          [
           101,
           "Heavy Metal (1981)",
           73
          ],
          [
           102,
           "Aristocats, The (1970)",
           54
          ],
          [
           103,
           "All Dogs Go to Heaven 2 (1996)",
           15
          ],
          [
           104,
           "Theodore Rex (1995)",
           5
          ],
          [
           105,
           "Sgt. Bilko (1996)",
           74
          ],
          [
           106,
           "Diabolique (1996)",
           71
          ],
          [
           107,
           "Moll Flanders (1996)",
           42
          ],
          [
           108,
           "Kids in the Hall: Brain Candy (1996)",
           65
          ],
          [
           109,
           "Mystery Science Theater 3000: The Movie (1996)",
           130
          ],
          [
           110,
           "Operation Dumbo Drop (1995)",
           31
          ],
          [
           111,
           "Truth About Cats & Dogs, The (1996)",
           272
          ],
          [
           112,
           "Flipper (1996)",
           20
          ],
          [
           113,
           "Horseman on the Roof, The (Hussard sur le toit, Le) (1995)",
           9
          ],
          [
           114,
           "Wallace & Gromit: The Best of Aardman Animation (1996)",
           67
          ],
          [
           115,
           "Haunted World of Edward D. Wood Jr., The (1995)",
           15
          ],
          [
           116,
           "Cold Comfort Farm (1995)",
           125
          ],
          [
           117,
           "Rock, The (1996)",
           378
          ],
          [
           118,
           "Twister (1996)",
           293
          ],
          [
           119,
           "Maya Lin: A Strong Clear Vision (1994)",
           4
          ],
          [
           120,
           "Striptease (1996)",
           67
          ],
          [
           121,
           "Independence Day (ID4) (1996)",
           429
          ],
          [
           122,
           "Cable Guy, The (1996)",
           106
          ],
          [
           123,
           "Frighteners, The (1996)",
           115
          ],
          [
           124,
           "Lone Star (1996)",
           187
          ],
          [
           125,
           "Phenomenon (1996)",
           244
          ],
          [
           126,
           "Spitfire Grill, The (1996)",
           97
          ],
          [
           127,
           "Godfather, The (1972)",
           413
          ],
          [
           128,
           "Supercop (1992)",
           65
          ],
          [
           129,
           "Bound (1996)",
           129
          ],
          [
           130,
           "Kansas City (1996)",
           23
          ],
          [
           131,
           "Breakfast at Tiffany's (1961)",
           95
          ],
          [
           132,
           "Wizard of Oz, The (1939)",
           246
          ],
          [
           133,
           "Gone with the Wind (1939)",
           171
          ],
          [
           134,
           "Citizen Kane (1941)",
           198
          ],
          [
           135,
           "2001: A Space Odyssey (1968)",
           259
          ],
          [
           136,
           "Mr. Smith Goes to Washington (1939)",
           105
          ],
          [
           137,
           "Big Night (1996)",
           171
          ],
          [
           138,
           "D3: The Mighty Ducks (1996)",
           19
          ],
          [
           139,
           "Love Bug, The (1969)",
           50
          ],
          [
           140,
           "Homeward Bound: The Incredible Journey (1993)",
           61
          ],
          [
           141,
           "20,000 Leagues Under the Sea (1954)",
           72
          ],
          [
           142,
           "Bedknobs and Broomsticks (1971)",
           57
          ],
          [
           143,
           "Sound of Music, The (1965)",
           222
          ],
          [
           144,
           "Die Hard (1988)",
           243
          ],
          [
           145,
           "Lawnmower Man, The (1992)",
           65
          ],
          [
           146,
           "Unhook the Stars (1996)",
           10
          ],
          [
           147,
           "Long Kiss Goodnight, The (1996)",
           185
          ],
          [
           148,
           "Ghost and the Darkness, The (1996)",
           128
          ],
          [
           149,
           "Jude (1996)",
           23
          ],
          [
           150,
           "Swingers (1996)",
           157
          ],
          [
           151,
           "Willy Wonka and the Chocolate Factory (1971)",
           326
          ],
          [
           152,
           "Sleeper (1973)",
           82
          ],
          [
           153,
           "Fish Called Wanda, A (1988)",
           247
          ],
          [
           154,
           "Monty Python's Life of Brian (1979)",
           174
          ],
          [
           155,
           "Dirty Dancing (1987)",
           98
          ],
          [
           156,
           "Reservoir Dogs (1992)",
           148
          ],
          [
           157,
           "Platoon (1986)",
           127
          ],
          [
           158,
           "Weekend at Bernie's (1989)",
           60
          ],
          [
           159,
           "Basic Instinct (1992)",
           101
          ],
          [
           160,
           "Glengarry Glen Ross (1992)",
           69
          ],
          [
           161,
           "Top Gun (1986)",
           220
          ],
          [
           162,
           "On Golden Pond (1981)",
           106
          ],
          [
           163,
           "Return of the Pink Panther, The (1974)",
           92
          ],
          [
           164,
           "Abyss, The (1989)",
           151
          ],
          [
           165,
           "Jean de Florette (1986)",
           64
          ],
          [
           166,
           "Manon of the Spring (Manon des sources) (1986)",
           58
          ],
          [
           167,
           "Private Benjamin (1980)",
           67
          ],
          [
           168,
           "Monty Python and the Holy Grail (1974)",
           316
          ],
          [
           169,
           "Wrong Trousers, The (1993)",
           118
          ],
          [
           170,
           "Cinema Paradiso (1988)",
           121
          ],
          [
           171,
           "Delicatessen (1991)",
           65
          ],
          [
           172,
           "Empire Strikes Back, The (1980)",
           367
          ],
          [
           173,
           "Princess Bride, The (1987)",
           324
          ],
          [
           174,
           "Raiders of the Lost Ark (1981)",
           420
          ],
          [
           175,
           "Brazil (1985)",
           208
          ],
          [
           176,
           "Aliens (1986)",
           284
          ],
          [
           177,
           "Good, The Bad and The Ugly, The (1966)",
           137
          ],
          [
           178,
           "12 Angry Men (1957)",
           125
          ],
          [
           179,
           "Clockwork Orange, A (1971)",
           221
          ],
          [
           180,
           "Apocalypse Now (1979)",
           221
          ],
          [
           181,
           "Return of the Jedi (1983)",
           507
          ],
          [
           182,
           "GoodFellas (1990)",
           226
          ],
          [
           183,
           "Alien (1979)",
           291
          ],
          [
           184,
           "Army of Darkness (1993)",
           116
          ],
          [
           185,
           "Psycho (1960)",
           239
          ],
          [
           186,
           "Blues Brothers, The (1980)",
           251
          ],
          [
           187,
           "Godfather: Part II, The (1974)",
           209
          ],
          [
           188,
           "Full Metal Jacket (1987)",
           170
          ],
          [
           189,
           "Grand Day Out, A (1992)",
           66
          ],
          [
           190,
           "Henry V (1989)",
           124
          ],
          [
           191,
           "Amadeus (1984)",
           276
          ],
          [
           192,
           "Raging Bull (1980)",
           116
          ],
          [
           193,
           "Right Stuff, The (1983)",
           157
          ],
          [
           194,
           "Sting, The (1973)",
           241
          ],
          [
           195,
           "Terminator, The (1984)",
           301
          ],
          [
           196,
           "Dead Poets Society (1989)",
           251
          ],
          [
           197,
           "Graduate, The (1967)",
           239
          ],
          [
           198,
           "Nikita (La Femme Nikita) (1990)",
           127
          ],
          [
           199,
           "Bridge on the River Kwai, The (1957)",
           165
          ],
          [
           200,
           "Shining, The (1980)",
           206
          ],
          [
           201,
           "Evil Dead II (1987)",
           89
          ],
          [
           202,
           "Groundhog Day (1993)",
           280
          ],
          [
           203,
           "Unforgiven (1992)",
           182
          ],
          [
           204,
           "Back to the Future (1985)",
           350
          ],
          [
           205,
           "Patton (1970)",
           136
          ],
          [
           206,
           "Akira (1988)",
           50
          ],
          [
           207,
           "Cyrano de Bergerac (1990)",
           66
          ],
          [
           208,
           "Young Frankenstein (1974)",
           200
          ],
          [
           209,
           "This Is Spinal Tap (1984)",
           191
          ],
          [
           210,
           "Indiana Jones and the Last Crusade (1989)",
           331
          ],
          [
           211,
           "M*A*S*H (1970)",
           206
          ],
          [
           212,
           "Unbearable Lightness of Being, The (1988)",
           92
          ],
          [
           213,
           "Room with a View, A (1986)",
           134
          ],
          [
           214,
           "Pink Floyd - The Wall (1982)",
           114
          ],
          [
           215,
           "Field of Dreams (1989)",
           212
          ],
          [
           216,
           "When Harry Met Sally... (1989)",
           290
          ],
          [
           217,
           "Bram Stoker's Dracula (1992)",
           120
          ],
          [
           218,
           "Cape Fear (1991)",
           171
          ],
          [
           219,
           "Nightmare on Elm Street, A (1984)",
           111
          ],
          [
           220,
           "Mirror Has Two Faces, The (1996)",
           66
          ],
          [
           221,
           "Breaking the Waves (1996)",
           74
          ],
          [
           222,
           "Star Trek: First Contact (1996)",
           365
          ],
          [
           223,
           "Sling Blade (1996)",
           136
          ],
          [
           224,
           "Ridicule (1996)",
           44
          ],
          [
           225,
           "101 Dalmatians (1996)",
           109
          ],
          [
           226,
           "Die Hard 2 (1990)",
           166
          ],
          [
           227,
           "Star Trek VI: The Undiscovered Country (1991)",
           161
          ],
          [
           228,
           "Star Trek: The Wrath of Khan (1982)",
           244
          ],
          [
           229,
           "Star Trek III: The Search for Spock (1984)",
           171
          ],
          [
           230,
           "Star Trek IV: The Voyage Home (1986)",
           199
          ],
          [
           231,
           "Batman Returns (1992)",
           142
          ],
          [
           232,
           "Young Guns (1988)",
           101
          ],
          [
           233,
           "Under Siege (1992)",
           124
          ],
          [
           234,
           "Jaws (1975)",
           280
          ],
          [
           235,
           "Mars Attacks! (1996)",
           217
          ],
          [
           236,
           "Citizen Ruth (1996)",
           45
          ],
          [
           237,
           "Jerry Maguire (1996)",
           384
          ],
          [
           238,
           "Raising Arizona (1987)",
           256
          ],
          [
           239,
           "Sneakers (1992)",
           150
          ],
          [
           240,
           "Beavis and Butt-head Do America (1996)",
           156
          ],
          [
           241,
           "Last of the Mohicans, The (1992)",
           128
          ],
          [
           242,
           "Kolya (1996)",
           117
          ],
          [
           243,
           "Jungle2Jungle (1997)",
           132
          ],
          [
           244,
           "Smilla's Sense of Snow (1997)",
           48
          ],
          [
           245,
           "Devil's Own, The (1997)",
           240
          ],
          [
           246,
           "Chasing Amy (1997)",
           124
          ],
          [
           247,
           "Turbo: A Power Rangers Movie (1997)",
           5
          ],
          [
           248,
           "Grosse Pointe Blank (1997)",
           160
          ],
          [
           249,
           "Austin Powers: International Man of Mystery (1997)",
           130
          ],
          [
           250,
           "Fifth Element, The (1997)",
           197
          ],
          [
           251,
           "Shall We Dance? (1996)",
           46
          ],
          [
           252,
           "Lost World: Jurassic Park, The (1997)",
           158
          ],
          [
           253,
           "Pillow Book, The (1995)",
           26
          ],
          [
           254,
           "Batman & Robin (1997)",
           62
          ],
          [
           255,
           "My Best Friend's Wedding (1997)",
           172
          ],
          [
           256,
           "When the Cats Away (Chacun cherche son chat) (1996)",
           16
          ],
          [
           257,
           "Men in Black (1997)",
           303
          ],
          [
           258,
           "Contact (1997)",
           509
          ],
          [
           259,
           "George of the Jungle (1997)",
           162
          ],
          [
           260,
           "Event Horizon (1997)",
           127
          ],
          [
           261,
           "Air Bud (1997)",
           43
          ],
          [
           262,
           "In the Company of Men (1997)",
           66
          ],
          [
           263,
           "Steel (1997)",
           19
          ],
          [
           264,
           "Mimic (1997)",
           101
          ],
          [
           265,
           "Hunt for Red October, The (1990)",
           227
          ],
          [
           266,
           "Kull the Conqueror (1997)",
           35
          ],
          [
           267,
           "unknown",
           9
          ],
          [
           268,
           "Chasing Amy (1997)",
           255
          ],
          [
           269,
           "Full Monty, The (1997)",
           315
          ],
          [
           270,
           "Gattaca (1997)",
           136
          ],
          [
           271,
           "Starship Troopers (1997)",
           211
          ],
          [
           272,
           "Good Will Hunting (1997)",
           198
          ],
          [
           273,
           "Heat (1995)",
           223
          ],
          [
           274,
           "Sabrina (1995)",
           190
          ],
          [
           275,
           "Sense and Sensibility (1995)",
           268
          ],
          [
           276,
           "Leaving Las Vegas (1995)",
           298
          ],
          [
           277,
           "Restoration (1995)",
           71
          ],
          [
           278,
           "Bed of Roses (1996)",
           60
          ],
          [
           279,
           "Once Upon a Time... When We Were Colored (1995)",
           28
          ],
          [
           280,
           "Up Close and Personal (1996)",
           85
          ],
          [
           281,
           "River Wild, The (1994)",
           146
          ],
          [
           282,
           "Time to Kill, A (1996)",
           232
          ],
          [
           283,
           "Emma (1996)",
           177
          ],
          [
           284,
           "Tin Cup (1996)",
           193
          ],
          [
           285,
           "Secrets & Lies (1996)",
           162
          ],
          [
           286,
           "English Patient, The (1996)",
           481
          ],
          [
           287,
           "Marvin's Room (1996)",
           78
          ],
          [
           288,
           "Scream (1996)",
           478
          ],
          [
           289,
           "Evita (1996)",
           259
          ],
          [
           290,
           "Fierce Creatures (1997)",
           96
          ],
          [
           291,
           "Absolute Power (1997)",
           127
          ],
          [
           292,
           "Rosewood (1997)",
           114
          ],
          [
           293,
           "Donnie Brasco (1997)",
           147
          ],
          [
           294,
           "Liar Liar (1997)",
           485
          ],
          [
           295,
           "Breakdown (1997)",
           77
          ],
          [
           296,
           "Promesse, La (1996)",
           6
          ],
          [
           297,
           "Ulee's Gold (1997)",
           50
          ],
          [
           298,
           "Face/Off (1997)",
           194
          ],
          [
           299,
           "Hoodlum (1997)",
           73
          ],
          [
           300,
           "Air Force One (1997)",
           431
          ],
          [
           301,
           "In & Out (1997)",
           230
          ],
          [
           302,
           "L.A. Confidential (1997)",
           297
          ],
          [
           303,
           "Ulee's Gold (1997)",
           134
          ],
          [
           304,
           "Fly Away Home (1996)",
           149
          ],
          [
           305,
           "Ice Storm, The (1997)",
           87
          ],
          [
           306,
           "Mrs. Brown (Her Majesty, Mrs. Brown) (1997)",
           96
          ],
          [
           307,
           "Devil's Advocate, The (1997)",
           188
          ],
          [
           308,
           "FairyTale: A True Story (1997)",
           30
          ],
          [
           309,
           "Deceiver (1997)",
           28
          ],
          [
           310,
           "Rainmaker, The (1997)",
           145
          ],
          [
           311,
           "Wings of the Dove, The (1997)",
           75
          ],
          [
           312,
           "Midnight in the Garden of Good and Evil (1997)",
           80
          ],
          [
           313,
           "Titanic (1997)",
           350
          ],
          [
           314,
           "3 Ninjas: High Noon At Mega Mountain (1998)",
           5
          ],
          [
           315,
           "Apt Pupil (1998)",
           160
          ],
          [
           316,
           "As Good As It Gets (1997)",
           112
          ],
          [
           317,
           "In the Name of the Father (1993)",
           102
          ],
          [
           318,
           "Schindler's List (1993)",
           298
          ],
          [
           319,
           "Everyone Says I Love You (1996)",
           168
          ],
          [
           320,
           "Paradise Lost: The Child Murders at Robin Hood Hills (1996)",
           20
          ],
          [
           321,
           "Mother (1996)",
           169
          ],
          [
           322,
           "Murder at 1600 (1997)",
           218
          ],
          [
           323,
           "Dante's Peak (1997)",
           240
          ],
          [
           324,
           "Lost Highway (1997)",
           125
          ],
          [
           325,
           "Crash (1996)",
           128
          ],
          [
           326,
           "G.I. Jane (1997)",
           175
          ],
          [
           327,
           "Cop Land (1997)",
           175
          ],
          [
           328,
           "Conspiracy Theory (1997)",
           295
          ],
          [
           329,
           "Desperate Measures (1998)",
           45
          ],
          [
           330,
           "187 (1997)",
           41
          ],
          [
           331,
           "Edge, The (1997)",
           113
          ],
          [
           332,
           "Kiss the Girls (1997)",
           143
          ],
          [
           333,
           "Game, The (1997)",
           251
          ],
          [
           334,
           "U Turn (1997)",
           64
          ],
          [
           335,
           "How to Be a Player (1997)",
           21
          ],
          [
           336,
           "Playing God (1997)",
           43
          ],
          [
           337,
           "House of Yes, The (1997)",
           18
          ],
          [
           338,
           "Bean (1997)",
           91
          ],
          [
           339,
           "Mad City (1997)",
           47
          ],
          [
           340,
           "Boogie Nights (1997)",
           189
          ],
          [
           341,
           "Critical Care (1997)",
           11
          ],
          [
           342,
           "Man Who Knew Too Little, The (1997)",
           52
          ],
          [
           343,
           "Alien: Resurrection (1997)",
           124
          ],
          [
           344,
           "Apostle, The (1997)",
           55
          ],
          [
           345,
           "Deconstructing Harry (1997)",
           65
          ],
          [
           346,
           "Jackie Brown (1997)",
           126
          ],
          [
           347,
           "Wag the Dog (1997)",
           137
          ],
          [
           348,
           "Desperate Measures (1998)",
           27
          ],
          [
           349,
           "Hard Rain (1998)",
           31
          ],
          [
           350,
           "Fallen (1998)",
           41
          ],
          [
           351,
           "Prophecy II, The (1998)",
           20
          ],
          [
           352,
           "Spice World (1997)",
           26
          ],
          [
           353,
           "Deep Rising (1998)",
           14
          ],
          [
           354,
           "Wedding Singer, The (1998)",
           72
          ],
          [
           355,
           "Sphere (1998)",
           41
          ],
          [
           356,
           "Client, The (1994)",
           97
          ],
          [
           357,
           "One Flew Over the Cuckoo's Nest (1975)",
           264
          ],
          [
           358,
           "Spawn (1997)",
           143
          ],
          [
           359,
           "Assignment, The (1997)",
           18
          ],
          [
           360,
           "Wonderland (1997)",
           10
          ],
          [
           361,
           "Incognito (1997)",
           10
          ],
          [
           362,
           "Blues Brothers 2000 (1998)",
           28
          ],
          [
           363,
           "Sudden Death (1995)",
           47
          ],
          [
           364,
           "Ace Ventura: When Nature Calls (1995)",
           37
          ],
          [
           365,
           "Powder (1995)",
           48
          ],
          [
           366,
           "Dangerous Minds (1995)",
           47
          ],
          [
           367,
           "Clueless (1995)",
           170
          ],
          [
           368,
           "Bio-Dome (1996)",
           31
          ],
          [
           369,
           "Black Sheep (1996)",
           55
          ],
          [
           370,
           "Mary Reilly (1996)",
           39
          ],
          [
           371,
           "Bridges of Madison County, The (1995)",
           67
          ],
          [
           372,
           "Jeffrey (1995)",
           34
          ],
          [
           373,
           "Judge Dredd (1995)",
           39
          ],
          [
           374,
           "Mighty Morphin Power Rangers: The Movie (1995)",
           11
          ],
          [
           375,
           "Showgirls (1995)",
           23
          ],
          [
           376,
           "Houseguest (1994)",
           24
          ],
          [
           377,
           "Heavyweights (1994)",
           13
          ],
          [
           378,
           "Miracle on 34th Street (1994)",
           101
          ],
          [
           379,
           "Tales From the Crypt Presents: Demon Knight (1995)",
           43
          ],
          [
           380,
           "Star Trek: Generations (1994)",
           116
          ],
          [
           381,
           "Muriel's Wedding (1994)",
           100
          ],
          [
           382,
           "Adventures of Priscilla, Queen of the Desert, The (1994)",
           111
          ],
          [
           383,
           "Flintstones, The (1994)",
           31
          ],
          [
           384,
           "Naked Gun 33 1/3: The Final Insult (1994)",
           69
          ],
          [
           385,
           "True Lies (1994)",
           208
          ],
          [
           386,
           "Addams Family Values (1993)",
           87
          ],
          [
           387,
           "Age of Innocence, The (1993)",
           65
          ],
          [
           388,
           "Beverly Hills Cop III (1994)",
           28
          ],
          [
           389,
           "Black Beauty (1994)",
           27
          ],
          [
           390,
           "Fear of a Black Hat (1993)",
           10
          ],
          [
           391,
           "Last Action Hero (1993)",
           59
          ],
          [
           392,
           "Man Without a Face, The (1993)",
           68
          ],
          [
           393,
           "Mrs. Doubtfire (1993)",
           192
          ],
          [
           394,
           "Radioland Murders (1994)",
           12
          ],
          [
           395,
           "Robin Hood: Men in Tights (1993)",
           56
          ],
          [
           396,
           "Serial Mom (1994)",
           54
          ],
          [
           397,
           "Striking Distance (1993)",
           12
          ],
          [
           398,
           "Super Mario Bros. (1993)",
           26
          ],
          [
           399,
           "Three Musketeers, The (1993)",
           89
          ],
          [
           400,
           "Little Rascals, The (1994)",
           18
          ],
          [
           401,
           "Brady Bunch Movie, The (1995)",
           76
          ],
          [
           402,
           "Ghost (1990)",
           170
          ],
          [
           403,
           "Batman (1989)",
           201
          ],
          [
           404,
           "Pinocchio (1940)",
           101
          ],
          [
           405,
           "Mission: Impossible (1996)",
           344
          ],
          [
           406,
           "Thinner (1996)",
           49
          ],
          [
           407,
           "Spy Hard (1996)",
           43
          ],
          [
           408,
           "Close Shave, A (1995)",
           112
          ],
          [
           409,
           "Jack (1996)",
           70
          ],
          [
           410,
           "Kingpin (1996)",
           162
          ],
          [
           411,
           "Nutty Professor, The (1996)",
           163
          ],
          [
           412,
           "Very Brady Sequel, A (1996)",
           93
          ],
          [
           413,
           "Tales from the Crypt Presents: Bordello of Blood (1996)",
           55
          ],
          [
           414,
           "My Favorite Year (1982)",
           62
          ],
          [
           415,
           "Apple Dumpling Gang, The (1975)",
           25
          ],
          [
           416,
           "Old Yeller (1957)",
           64
          ],
          [
           417,
           "Parent Trap, The (1961)",
           73
          ],
          [
           418,
           "Cinderella (1950)",
           129
          ],
          [
           419,
           "Mary Poppins (1964)",
           178
          ],
          [
           420,
           "Alice in Wonderland (1951)",
           81
          ],
          [
           421,
           "William Shakespeare's Romeo and Juliet (1996)",
           106
          ],
          [
           422,
           "Aladdin and the King of Thieves (1996)",
           26
          ],
          [
           423,
           "E.T. the Extra-Terrestrial (1982)",
           300
          ],
          [
           424,
           "Children of the Corn: The Gathering (1996)",
           19
          ],
          [
           425,
           "Bob Roberts (1992)",
           85
          ],
          [
           426,
           "Transformers: The Movie, The (1986)",
           32
          ],
          [
           427,
           "To Kill a Mockingbird (1962)",
           219
          ],
          [
           428,
           "Harold and Maude (1971)",
           121
          ],
          [
           429,
           "Day the Earth Stood Still, The (1951)",
           97
          ],
          [
           430,
           "Duck Soup (1933)",
           93
          ],
          [
           431,
           "Highlander (1986)",
           153
          ],
          [
           432,
           "Fantasia (1940)",
           174
          ],
          [
           433,
           "Heathers (1989)",
           171
          ],
          [
           434,
           "Forbidden Planet (1956)",
           67
          ],
          [
           435,
           "Butch Cassidy and the Sundance Kid (1969)",
           216
          ],
          [
           436,
           "American Werewolf in London, An (1981)",
           99
          ],
          [
           437,
           "Amityville 1992: It's About Time (1992)",
           5
          ],
          [
           438,
           "Amityville 3-D (1983)",
           6
          ],
          [
           439,
           "Amityville: A New Generation (1993)",
           5
          ],
          [
           440,
           "Amityville II: The Possession (1982)",
           14
          ],
          [
           441,
           "Amityville Horror, The (1979)",
           53
          ],
          [
           442,
           "Amityville Curse, The (1990)",
           4
          ],
          [
           443,
           "Birds, The (1963)",
           162
          ],
          [
           444,
           "Blob, The (1958)",
           46
          ],
          [
           445,
           "Body Snatcher, The (1945)",
           22
          ],
          [
           446,
           "Burnt Offerings (1976)",
           9
          ],
          [
           447,
           "Carrie (1976)",
           121
          ],
          [
           448,
           "Omen, The (1976)",
           85
          ],
          [
           449,
           "Star Trek: The Motion Picture (1979)",
           117
          ],
          [
           450,
           "Star Trek V: The Final Frontier (1989)",
           63
          ],
          [
           451,
           "Grease (1978)",
           170
          ],
          [
           452,
           "Jaws 2 (1978)",
           66
          ],
          [
           453,
           "Jaws 3-D (1983)",
           16
          ],
          [
           454,
           "Bastard Out of Carolina (1996)",
           16
          ],
          [
           455,
           "Jackie Chan's First Strike (1996)",
           145
          ],
          [
           456,
           "Beverly Hills Ninja (1997)",
           48
          ],
          [
           457,
           "Free Willy 3: The Rescue (1997)",
           27
          ],
          [
           458,
           "Nixon (1995)",
           90
          ],
          [
           459,
           "Cry, the Beloved Country (1995)",
           24
          ],
          [
           460,
           "Crossing Guard, The (1995)",
           28
          ],
          [
           461,
           "Smoke (1995)",
           74
          ],
          [
           462,
           "Like Water For Chocolate (Como agua para chocolate) (1992)",
           148
          ],
          [
           463,
           "Secret of Roan Inish, The (1994)",
           71
          ],
          [
           464,
           "Vanya on 42nd Street (1994)",
           27
          ],
          [
           465,
           "Jungle Book, The (1994)",
           85
          ],
          [
           466,
           "Red Rock West (1992)",
           52
          ],
          [
           467,
           "Bronx Tale, A (1993)",
           48
          ],
          [
           468,
           "Rudy (1993)",
           64
          ],
          [
           469,
           "Short Cuts (1993)",
           67
          ],
          [
           470,
           "Tombstone (1993)",
           108
          ],
          [
           471,
           "Courage Under Fire (1996)",
           221
          ],
          [
           472,
           "Dragonheart (1996)",
           158
          ],
          [
           473,
           "James and the Giant Peach (1996)",
           126
          ],
          [
           474,
           "Dr. Strangelove or: How I Learned to Stop Worrying and Love the Bomb (1963)",
           194
          ],
          [
           475,
           "Trainspotting (1996)",
           250
          ],
          [
           476,
           "First Wives Club, The (1996)",
           160
          ],
          [
           477,
           "Matilda (1996)",
           95
          ],
          [
           478,
           "Philadelphia Story, The (1940)",
           104
          ],
          [
           479,
           "Vertigo (1958)",
           179
          ],
          [
           480,
           "North by Northwest (1959)",
           179
          ],
          [
           481,
           "Apartment, The (1960)",
           63
          ],
          [
           482,
           "Some Like It Hot (1959)",
           128
          ],
          [
           483,
           "Casablanca (1942)",
           243
          ],
          [
           484,
           "Maltese Falcon, The (1941)",
           138
          ],
          [
           485,
           "My Fair Lady (1964)",
           125
          ],
          [
           486,
           "Sabrina (1954)",
           64
          ],
          [
           487,
           "Roman Holiday (1953)",
           68
          ],
          [
           488,
           "Sunset Blvd. (1950)",
           65
          ],
          [
           489,
           "Notorious (1946)",
           52
          ],
          [
           490,
           "To Catch a Thief (1955)",
           50
          ],
          [
           491,
           "Adventures of Robin Hood, The (1938)",
           67
          ],
          [
           492,
           "East of Eden (1955)",
           59
          ],
          [
           493,
           "Thin Man, The (1934)",
           60
          ],
          [
           494,
           "His Girl Friday (1940)",
           56
          ],
          [
           495,
           "Around the World in 80 Days (1956)",
           59
          ],
          [
           496,
           "It's a Wonderful Life (1946)",
           231
          ],
          [
           497,
           "Bringing Up Baby (1938)",
           68
          ],
          [
           498,
           "African Queen, The (1951)",
           152
          ],
          [
           499,
           "Cat on a Hot Tin Roof (1958)",
           62
          ],
          [
           500,
           "Fly Away Home (1996)",
           31
          ],
          [
           501,
           "Dumbo (1941)",
           123
          ],
          [
           502,
           "Bananas (1971)",
           57
          ],
          [
           503,
           "Candidate, The (1972)",
           39
          ],
          [
           504,
           "Bonnie and Clyde (1967)",
           122
          ],
          [
           505,
           "Dial M for Murder (1954)",
           68
          ],
          [
           506,
           "Rebel Without a Cause (1955)",
           90
          ],
          [
           507,
           "Streetcar Named Desire, A (1951)",
           98
          ],
          [
           508,
           "People vs. Larry Flynt, The (1996)",
           215
          ],
          [
           509,
           "My Left Foot (1989)",
           121
          ],
          [
           510,
           "Magnificent Seven, The (1954)",
           121
          ],
          [
           511,
           "Lawrence of Arabia (1962)",
           173
          ],
          [
           512,
           "Wings of Desire (1987)",
           57
          ],
          [
           513,
           "Third Man, The (1949)",
           72
          ],
          [
           514,
           "Annie Hall (1977)",
           180
          ],
          [
           515,
           "Boot, Das (1981)",
           201
          ],
          [
           516,
           "Local Hero (1983)",
           63
          ],
          [
           517,
           "Manhattan (1979)",
           91
          ],
          [
           518,
           "Miller's Crossing (1990)",
           89
          ],
          [
           519,
           "Treasure of the Sierra Madre, The (1948)",
           80
          ],
          [
           520,
           "Great Escape, The (1963)",
           124
          ],
          [
           521,
           "Deer Hunter, The (1978)",
           120
          ],
          [
           522,
           "Down by Law (1986)",
           35
          ],
          [
           523,
           "Cool Hand Luke (1967)",
           164
          ],
          [
           524,
           "Great Dictator, The (1940)",
           46
          ],
          [
           525,
           "Big Sleep, The (1946)",
           73
          ],
          [
           526,
           "Ben-Hur (1959)",
           124
          ],
          [
           527,
           "Gandhi (1982)",
           195
          ],
          [
           528,
           "Killing Fields, The (1984)",
           121
          ],
          [
           529,
           "My Life as a Dog (Mitt liv som hund) (1985)",
           93
          ],
          [
           530,
           "Man Who Would Be King, The (1975)",
           80
          ],
          [
           531,
           "Shine (1996)",
           129
          ],
          [
           532,
           "Kama Sutra: A Tale of Love (1996)",
           22
          ],
          [
           533,
           "Daytrippers, The (1996)",
           15
          ],
          [
           534,
           "Traveller (1997)",
           13
          ],
          [
           535,
           "Addicted to Love (1997)",
           54
          ],
          [
           536,
           "Ponette (1996)",
           10
          ],
          [
           537,
           "My Own Private Idaho (1991)",
           30
          ],
          [
           538,
           "Anastasia (1997)",
           66
          ],
          [
           539,
           "Mouse Hunt (1997)",
           44
          ],
          [
           540,
           "Money Train (1995)",
           43
          ],
          [
           541,
           "Mortal Kombat (1995)",
           49
          ],
          [
           542,
           "Pocahontas (1995)",
           51
          ],
          [
           543,
           "Misérables, Les (1995)",
           21
          ],
          [
           544,
           "Things to Do in Denver when You're Dead (1995)",
           71
          ],
          [
           545,
           "Vampire in Brooklyn (1995)",
           12
          ],
          [
           546,
           "Broken Arrow (1996)",
           254
          ],
          [
           547,
           "Young Poisoner's Handbook, The (1995)",
           41
          ],
          [
           548,
           "NeverEnding Story III, The (1994)",
           12
          ],
          [
           549,
           "Rob Roy (1995)",
           92
          ],
          [
           550,
           "Die Hard: With a Vengeance (1995)",
           151
          ],
          [
           551,
           "Lord of Illusions (1995)",
           24
          ],
          [
           552,
           "Species (1995)",
           45
          ],
          [
           553,
           "Walk in the Clouds, A (1995)",
           63
          ],
          [
           554,
           "Waterworld (1995)",
           102
          ],
          [
           555,
           "White Man's Burden (1995)",
           10
          ],
          [
           556,
           "Wild Bill (1995)",
           12
          ],
          [
           557,
           "Farinelli: il castrato (1994)",
           17
          ],
          [
           558,
           "Heavenly Creatures (1994)",
           70
          ],
          [
           559,
           "Interview with the Vampire (1994)",
           137
          ],
          [
           560,
           "Kid in King Arthur's Court, A (1995)",
           22
          ],
          [
           561,
           "Mary Shelley's Frankenstein (1994)",
           59
          ],
          [
           562,
           "Quick and the Dead, The (1995)",
           48
          ],
          [
           563,
           "Stephen King's The Langoliers (1995)",
           29
          ],
          [
           564,
           "Tales from the Hood (1995)",
           27
          ],
          [
           565,
           "Village of the Damned (1995)",
           22
          ],
          [
           566,
           "Clear and Present Danger (1994)",
           179
          ],
          [
           567,
           "Wes Craven's New Nightmare (1994)",
           35
          ],
          [
           568,
           "Speed (1994)",
           230
          ],
          [
           569,
           "Wolf (1994)",
           67
          ],
          [
           570,
           "Wyatt Earp (1994)",
           50
          ],
          [
           571,
           "Another Stakeout (1993)",
           28
          ],
          [
           572,
           "Blown Away (1994)",
           29
          ],
          [
           573,
           "Body Snatchers (1993)",
           33
          ],
          [
           574,
           "Boxing Helena (1993)",
           15
          ],
          [
           575,
           "City Slickers II: The Legend of Curly's Gold (1994)",
           44
          ],
          [
           576,
           "Cliffhanger (1993)",
           93
          ],
          [
           577,
           "Coneheads (1993)",
           41
          ],
          [
           578,
           "Demolition Man (1993)",
           92
          ],
          [
           579,
           "Fatal Instinct (1993)",
           19
          ],
          [
           580,
           "Englishman Who Went Up a Hill, But Came Down a Mountain, The (1995)",
           32
          ],
          [
           581,
           "Kalifornia (1993)",
           59
          ],
          [
           582,
           "Piano, The (1993)",
           168
          ],
          [
           583,
           "Romeo Is Bleeding (1993)",
           37
          ],
          [
           584,
           "Secret Garden, The (1993)",
           79
          ],
          [
           585,
           "Son in Law (1993)",
           39
          ],
          [
           586,
           "Terminal Velocity (1994)",
           34
          ],
          [
           587,
           "Hour of the Pig, The (1993)",
           14
          ],
          [
           588,
           "Beauty and the Beast (1991)",
           202
          ],
          [
           589,
           "Wild Bunch, The (1969)",
           43
          ],
          [
           590,
           "Hellraiser: Bloodline (1996)",
           18
          ],
          [
           591,
           "Primal Fear (1996)",
           178
          ],
          [
           592,
           "True Crime (1995)",
           9
          ],
          [
           593,
           "Stalingrad (1993)",
           12
          ],
          [
           594,
           "Heavy (1995)",
           5
          ],
          [
           595,
           "Fan, The (1996)",
           64
          ],
          [
           596,
           "Hunchback of Notre Dame, The (1996)",
           127
          ],
          [
           597,
           "Eraser (1996)",
           206
          ],
          [
           598,
           "Big Squeeze, The (1996)",
           4
          ],
          [
           599,
           "Police Story 4: Project S (Chao ji ji hua) (1993)",
           1
          ],
          [
           600,
           "Daniel Defoe's Robinson Crusoe (1996)",
           2
          ],
          [
           601,
           "For Whom the Bell Tolls (1943)",
           20
          ],
          [
           602,
           "American in Paris, An (1951)",
           50
          ],
          [
           603,
           "Rear Window (1954)",
           209
          ],
          [
           604,
           "It Happened One Night (1934)",
           81
          ],
          [
           605,
           "Meet Me in St. Louis (1944)",
           31
          ],
          [
           606,
           "All About Eve (1950)",
           66
          ],
          [
           607,
           "Rebecca (1940)",
           66
          ],
          [
           608,
           "Spellbound (1945)",
           30
          ],
          [
           609,
           "Father of the Bride (1950)",
           60
          ],
          [
           610,
           "Gigi (1958)",
           41
          ],
          [
           611,
           "Laura (1944)",
           40
          ],
          [
           612,
           "Lost Horizon (1937)",
           34
          ],
          [
           613,
           "My Man Godfrey (1936)",
           27
          ],
          [
           614,
           "Giant (1956)",
           51
          ],
          [
           615,
           "39 Steps, The (1935)",
           59
          ],
          [
           616,
           "Night of the Living Dead (1968)",
           64
          ],
          [
           617,
           "Blue Angel, The (Blaue Engel, Der) (1930)",
           18
          ],
          [
           618,
           "Picnic (1955)",
           18
          ],
          [
           619,
           "Extreme Measures (1996)",
           64
          ],
          [
           620,
           "Chamber, The (1996)",
           43
          ],
          [
           621,
           "Davy Crockett, King of the Wild Frontier (1955)",
           11
          ],
          [
           622,
           "Swiss Family Robinson (1960)",
           39
          ],
          [
           623,
           "Angels in the Outfield (1994)",
           39
          ],
          [
           624,
           "Three Caballeros, The (1945)",
           22
          ],
          [
           625,
           "Sword in the Stone, The (1963)",
           82
          ],
          [
           626,
           "So Dear to My Heart (1949)",
           4
          ],
          [
           627,
           "Robin Hood: Prince of Thieves (1991)",
           75
          ],
          [
           628,
           "Sleepers (1996)",
           169
          ],
          [
           629,
           "Victor/Victoria (1982)",
           77
          ],
          [
           630,
           "Great Race, The (1965)",
           31
          ],
          [
           631,
           "Crying Game, The (1992)",
           119
          ],
          [
           632,
           "Sophie's Choice (1982)",
           58
          ],
          [
           633,
           "Christmas Carol, A (1938)",
           69
          ],
          [
           634,
           "Microcosmos: Le peuple de l'herbe (1996)",
           24
          ],
          [
           635,
           "Fog, The (1980)",
           23
          ],
          [
           636,
           "Escape from New York (1981)",
           91
          ],
          [
           637,
           "Howling, The (1981)",
           38
          ],
          [
           638,
           "Return of Martin Guerre, The (Retour de Martin Guerre, Le) (1982)",
           44
          ],
          [
           639,
           "Tin Drum, The (Blechtrommel, Die) (1979)",
           40
          ],
          [
           640,
           "Cook the Thief His Wife & Her Lover, The (1989)",
           82
          ],
          [
           641,
           "Paths of Glory (1957)",
           33
          ],
          [
           642,
           "Grifters, The (1990)",
           89
          ],
          [
           643,
           "The Innocent (1994)",
           4
          ],
          [
           644,
           "Thin Blue Line, The (1988)",
           35
          ],
          [
           645,
           "Paris Is Burning (1990)",
           27
          ],
          [
           646,
           "Once Upon a Time in the West (1969)",
           38
          ],
          [
           647,
           "Ran (1985)",
           70
          ],
          [
           648,
           "Quiet Man, The (1952)",
           67
          ],
          [
           649,
           "Once Upon a Time in America (1984)",
           50
          ],
          [
           650,
           "Seventh Seal, The (Sjunde inseglet, Det) (1957)",
           72
          ],
          [
           651,
           "Glory (1989)",
           171
          ],
          [
           652,
           "Rosencrantz and Guildenstern Are Dead (1990)",
           90
          ],
          [
           653,
           "Touch of Evil (1958)",
           34
          ],
          [
           654,
           "Chinatown (1974)",
           147
          ],
          [
           655,
           "Stand by Me (1986)",
           227
          ],
          [
           656,
           "M (1931)",
           44
          ],
          [
           657,
           "Manchurian Candidate, The (1962)",
           131
          ],
          [
           658,
           "Pump Up the Volume (1990)",
           79
          ],
          [
           659,
           "Arsenic and Old Lace (1944)",
           115
          ],
          [
           660,
           "Fried Green Tomatoes (1991)",
           153
          ],
          [
           661,
           "High Noon (1952)",
           88
          ],
          [
           662,
           "Somewhere in Time (1980)",
           82
          ],
          [
           663,
           "Being There (1979)",
           116
          ],
          [
           664,
           "Paris, Texas (1984)",
           46
          ],
          [
           665,
           "Alien 3 (1992)",
           100
          ],
          [
           666,
           "Blood For Dracula (Andy Warhol's Dracula) (1974)",
           5
          ],
          [
           667,
           "Audrey Rose (1977)",
           12
          ],
          [
           668,
           "Blood Beach (1981)",
           6
          ],
          [
           669,
           "Body Parts (1991)",
           13
          ],
          [
           670,
           "Body Snatchers (1993)",
           36
          ],
          [
           671,
           "Bride of Frankenstein (1935)",
           46
          ],
          [
           672,
           "Candyman (1992)",
           65
          ],
          [
           673,
           "Cape Fear (1962)",
           86
          ],
          [
           674,
           "Cat People (1982)",
           48
          ],
          [
           675,
           "Nosferatu (Nosferatu, eine Symphonie des Grauens) (1922)",
           54
          ],
          [
           676,
           "Crucible, The (1996)",
           77
          ],
          [
           677,
           "Fire on the Mountain (1996)",
           1
          ],
          [
           678,
           "Volcano (1997)",
           219
          ],
          [
           679,
           "Conan the Barbarian (1981)",
           107
          ],
          [
           680,
           "Kull the Conqueror (1997)",
           34
          ],
          [
           681,
           "Wishmaster (1997)",
           27
          ],
          [
           682,
           "I Know What You Did Last Summer (1997)",
           100
          ],
          [
           683,
           "Rocket Man (1997)",
           49
          ],
          [
           684,
           "In the Line of Fire (1993)",
           169
          ],
          [
           685,
           "Executive Decision (1996)",
           157
          ],
          [
           686,
           "Perfect World, A (1993)",
           50
          ],
          [
           687,
           "McHale's Navy (1997)",
           69
          ],
          [
           688,
           "Leave It to Beaver (1997)",
           44
          ],
          [
           689,
           "Jackal, The (1997)",
           87
          ],
          [
           690,
           "Seven Years in Tibet (1997)",
           155
          ],
          [
           691,
           "Dark City (1998)",
           16
          ],
          [
           692,
           "American President, The (1995)",
           164
          ],
          [
           693,
           "Casino (1995)",
           91
          ],
          [
           694,
           "Persuasion (1995)",
           44
          ],
          [
           695,
           "Kicking and Screaming (1995)",
           13
          ],
          [
           696,
           "City Hall (1996)",
           79
          ],
          [
           697,
           "Basketball Diaries, The (1995)",
           40
          ],
          [
           698,
           "Browning Version, The (1994)",
           10
          ],
          [
           699,
           "Little Women (1994)",
           102
          ],
          [
           700,
           "Miami Rhapsody (1995)",
           15
          ],
          [
           701,
           "Wonderful, Horrible Life of Leni Riefenstahl, The (1993)",
           10
          ],
          [
           702,
           "Barcelona (1994)",
           53
          ],
          [
           703,
           "Widows' Peak (1994)",
           19
          ],
          [
           704,
           "House of the Spirits, The (1993)",
           24
          ],
          [
           705,
           "Singin' in the Rain (1952)",
           137
          ],
          [
           706,
           "Bad Moon (1996)",
           6
          ],
          [
           707,
           "Enchanted April (1991)",
           70
          ],
          [
           708,
           "Sex, Lies, and Videotape (1989)",
           101
          ],
          [
           709,
           "Strictly Ballroom (1992)",
           104
          ],
          [
           710,
           "Better Off Dead... (1985)",
           79
          ],
          [
           711,
           "Substance of Fire, The (1996)",
           1
          ],
          [
           712,
           "Tin Men (1987)",
           51
          ],
          [
           713,
           "Othello (1995)",
           72
          ],
          [
           714,
           "Carrington (1995)",
           13
          ],
          [
           715,
           "To Die For (1995)",
           87
          ],
          [
           716,
           "Home for the Holidays (1995)",
           58
          ],
          [
           717,
           "Juror, The (1996)",
           82
          ],
          [
           718,
           "In the Bleak Midwinter (1995)",
           16
          ],
          [
           719,
           "Canadian Bacon (1994)",
           29
          ],
          [
           720,
           "First Knight (1995)",
           86
          ],
          [
           721,
           "Mallrats (1995)",
           54
          ],
          [
           722,
           "Nine Months (1995)",
           58
          ],
          [
           723,
           "Boys on the Side (1995)",
           34
          ],
          [
           724,
           "Circle of Friends (1995)",
           76
          ],
          [
           725,
           "Exit to Eden (1994)",
           16
          ],
          [
           726,
           "Fluke (1995)",
           14
          ],
          [
           727,
           "Immortal Beloved (1994)",
           63
          ],
          [
           728,
           "Junior (1994)",
           45
          ],
          [
           729,
           "Nell (1994)",
           81
          ],
          [
           730,
           "Queen Margot (Reine Margot, La) (1994)",
           24
          ],
          [
           731,
           "Corrina, Corrina (1994)",
           39
          ],
          [
           732,
           "Dave (1993)",
           180
          ],
          [
           733,
           "Go Fish (1994)",
           15
          ],
          [
           734,
           "Made in America (1993)",
           27
          ],
          [
           735,
           "Philadelphia (1993)",
           137
          ],
          [
           736,
           "Shadowlands (1993)",
           78
          ],
          [
           737,
           "Sirens (1994)",
           59
          ],
          [
           738,
           "Threesome (1994)",
           31
          ],
          [
           739,
           "Pretty Woman (1990)",
           164
          ],
          [
           740,
           "Jane Eyre (1996)",
           63
          ],
          [
           741,
           "Last Supper, The (1995)",
           58
          ],
          [
           742,
           "Ransom (1996)",
           267
          ],
          [
           743,
           "Crow: City of Angels, The (1996)",
           39
          ],
          [
           744,
           "Michael Collins (1996)",
           92
          ],
          [
           745,
           "Ruling Class, The (1972)",
           16
          ],
          [
           746,
           "Real Genius (1985)",
           119
          ],
          [
           747,
           "Benny & Joon (1993)",
           102
          ],
          [
           748,
           "Saint, The (1997)",
           316
          ],
          [
           749,
           "MatchMaker, The (1997)",
           51
          ],
          [
           750,
           "Amistad (1997)",
           124
          ],
          [
           751,
           "Tomorrow Never Dies (1997)",
           180
          ],
          [
           752,
           "Replacement Killers, The (1998)",
           39
          ],
          [
           753,
           "Burnt By the Sun (1994)",
           24
          ],
          [
           754,
           "Red Corner (1997)",
           57
          ],
          [
           755,
           "Jumanji (1995)",
           96
          ],
          [
           756,
           "Father of the Bride Part II (1995)",
           128
          ],
          [
           757,
           "Across the Sea of Time (1995)",
           4
          ],
          [
           758,
           "Lawnmower Man 2: Beyond Cyberspace (1996)",
           21
          ],
          [
           759,
           "Fair Game (1995)",
           11
          ],
          [
           760,
           "Screamers (1995)",
           46
          ],
          [
           761,
           "Nick of Time (1995)",
           44
          ],
          [
           762,
           "Beautiful Girls (1996)",
           115
          ],
          [
           763,
           "Happy Gilmore (1996)",
           149
          ],
          [
           764,
           "If Lucy Fell (1996)",
           29
          ],
          [
           765,
           "Boomerang (1992)",
           32
          ],
          [
           766,
           "Man of the Year (1995)",
           9
          ],
          [
           767,
           "Addiction, The (1995)",
           11
          ],
          [
           768,
           "Casper (1995)",
           52
          ],
          [
           769,
           "Congo (1995)",
           42
          ],
          [
           770,
           "Devil in a Blue Dress (1995)",
           57
          ],
          [
           771,
           "Johnny Mnemonic (1995)",
           41
          ],
          [
           772,
           "Kids (1995)",
           49
          ],
          [
           773,
           "Mute Witness (1994)",
           17
          ],
          [
           774,
           "Prophecy, The (1995)",
           32
          ],
          [
           775,
           "Something to Talk About (1995)",
           26
          ],
          [
           776,
           "Three Wishes (1995)",
           9
          ],
          [
           777,
           "Castle Freak (1995)",
           4
          ],
          [
           778,
           "Don Juan DeMarco (1995)",
           76
          ],
          [
           779,
           "Drop Zone (1994)",
           31
          ],
          [
           780,
           "Dumb & Dumber (1994)",
           69
          ],
          [
           781,
           "French Kiss (1995)",
           84
          ],
          [
           782,
           "Little Odessa (1994)",
           10
          ],
          [
           783,
           "Milk Money (1994)",
           37
          ],
          [
           784,
           "Beyond Bedlam (1993)",
           2
          ],
          [
           785,
           "Only You (1994)",
           39
          ],
          [
           786,
           "Perez Family, The (1995)",
           14
          ],
          [
           787,
           "Roommates (1995)",
           13
          ],
          [
           788,
           "Relative Fear (1994)",
           3
          ],
          [
           789,
           "Swimming with Sharks (1995)",
           47
          ],
          [
           790,
           "Tommy Boy (1995)",
           66
          ],
          [
           791,
           "Baby-Sitters Club, The (1995)",
           10
          ],
          [
           792,
           "Bullets Over Broadway (1994)",
           86
          ],
          [
           793,
           "Crooklyn (1994)",
           10
          ],
          [
           794,
           "It Could Happen to You (1994)",
           46
          ],
          [
           795,
           "Richie Rich (1994)",
           21
          ],
          [
           796,
           "Speechless (1994)",
           36
          ],
          [
           797,
           "Timecop (1994)",
           31
          ],
          [
           798,
           "Bad Company (1995)",
           9
          ],
          [
           799,
           "Boys Life (1995)",
           5
          ],
          [
           800,
           "In the Mouth of Madness (1995)",
           26
          ],
          [
           801,
           "Air Up There, The (1994)",
           16
          ],
          [
           802,
           "Hard Target (1993)",
           40
          ],
          [
           803,
           "Heaven & Earth (1993)",
           9
          ],
          [
           804,
           "Jimmy Hollywood (1994)",
           8
          ],
          [
           805,
           "Manhattan Murder Mystery (1993)",
           27
          ],
          [
           806,
           "Menace II Society (1993)",
           50
          ],
          [
           807,
           "Poetic Justice (1993)",
           9
          ],
          [
           808,
           "Program, The (1993)",
           31
          ],
          [
           809,
           "Rising Sun (1993)",
           43
          ],
          [
           810,
           "Shadow, The (1994)",
           45
          ],
          [
           811,
           "Thirty-Two Short Films About Glenn Gould (1993)",
           18
          ],
          [
           812,
           "Andre (1994)",
           18
          ],
          [
           813,
           "Celluloid Closet, The (1995)",
           56
          ],
          [
           814,
           "Great Day in Harlem, A (1994)",
           1
          ],
          [
           815,
           "One Fine Day (1996)",
           112
          ],
          [
           816,
           "Candyman: Farewell to the Flesh (1995)",
           21
          ],
          [
           817,
           "Frisk (1995)",
           3
          ],
          [
           818,
           "Girl 6 (1996)",
           25
          ],
          [
           819,
           "Eddie (1996)",
           40
          ],
          [
           820,
           "Space Jam (1996)",
           93
          ],
          [
           821,
           "Mrs. Winterbourne (1996)",
           22
          ],
          [
           822,
           "Faces (1968)",
           4
          ],
          [
           823,
           "Mulholland Falls (1996)",
           82
          ],
          [
           824,
           "Great White Hype, The (1996)",
           49
          ],
          [
           825,
           "Arrival, The (1996)",
           83
          ],
          [
           826,
           "Phantom, The (1996)",
           80
          ],
          [
           827,
           "Daylight (1996)",
           57
          ],
          [
           828,
           "Alaska (1996)",
           13
          ],
          [
           829,
           "Fled (1996)",
           34
          ],
          [
           830,
           "Power 98 (1995)",
           1
          ],
          [
           831,
           "Escape from L.A. (1996)",
           91
          ],
          [
           832,
           "Bogus (1996)",
           22
          ],
          [
           833,
           "Bulletproof (1996)",
           49
          ],
          [
           834,
           "Halloween: The Curse of Michael Myers (1995)",
           25
          ],
          [
           835,
           "Gay Divorcee, The (1934)",
           15
          ],
          [
           836,
           "Ninotchka (1939)",
           26
          ],
          [
           837,
           "Meet John Doe (1941)",
           25
          ],
          [
           838,
           "In the Line of Duty 2 (1987)",
           4
          ],
          [
           839,
           "Loch Ness (1995)",
           4
          ],
          [
           840,
           "Last Man Standing (1996)",
           53
          ],
          [
           841,
           "Glimmer Man, The (1996)",
           48
          ],
          [
           842,
           "Pollyanna (1960)",
           27
          ],
          [
           843,
           "Shaggy Dog, The (1959)",
           30
          ],
          [
           844,
           "Freeway (1996)",
           42
          ],
          [
           845,
           "That Thing You Do! (1996)",
           176
          ],
          [
           846,
           "To Gillian on Her 37th Birthday (1996)",
           44
          ],
          [
           847,
           "Looking for Richard (1996)",
           55
          ],
          [
           848,
           "Murder, My Sweet (1944)",
           9
          ],
          [
           849,
           "Days of Thunder (1990)",
           53
          ],
          [
           850,
           "Perfect Candidate, A (1996)",
           4
          ],
          [
           851,
           "Two or Three Things I Know About Her (1966)",
           4
          ],
          [
           852,
           "Bloody Child, The (1996)",
           1
          ],
          [
           853,
           "Braindead (1992)",
           14
          ],
          [
           854,
           "Bad Taste (1987)",
           16
          ],
          [
           855,
           "Diva (1981)",
           66
          ],
          [
           856,
           "Night on Earth (1991)",
           36
          ],
          [
           857,
           "Paris Was a Woman (1995)",
           1
          ],
          [
           858,
           "Amityville: Dollhouse (1996)",
           3
          ],
          [
           859,
           "April Fool's Day (1986)",
           15
          ],
          [
           860,
           "Believers, The (1987)",
           16
          ],
          [
           861,
           "Nosferatu a Venezia (1986)",
           3
          ],
          [
           862,
           "Jingle All the Way (1996)",
           18
          ],
          [
           863,
           "Garden of Finzi-Contini, The (Giardino dei Finzi-Contini, Il) (1970)",
           24
          ],
          [
           864,
           "My Fellow Americans (1996)",
           86
          ],
          [
           865,
           "Ice Storm, The (1997)",
           21
          ],
          [
           866,
           "Michael (1996)",
           119
          ],
          [
           867,
           "Whole Wide World, The (1996)",
           6
          ],
          [
           868,
           "Hearts and Minds (1996)",
           5
          ],
          [
           869,
           "Fools Rush In (1997)",
           24
          ],
          [
           870,
           "Touch (1997)",
           9
          ],
          [
           871,
           "Vegas Vacation (1997)",
           75
          ],
          [
           872,
           "Love Jones (1997)",
           42
          ],
          [
           873,
           "Picture Perfect (1997)",
           81
          ],
          [
           874,
           "Career Girls (1997)",
           39
          ],
          [
           875,
           "She's So Lovely (1997)",
           53
          ],
          [
           876,
           "Money Talks (1997)",
           47
          ],
          [
           877,
           "Excess Baggage (1997)",
           52
          ],
          [
           878,
           "That Darn Cat! (1997)",
           33
          ],
          [
           879,
           "Peacemaker, The (1997)",
           136
          ],
          [
           880,
           "Soul Food (1997)",
           59
          ],
          [
           881,
           "Money Talks (1997)",
           45
          ],
          [
           882,
           "Washington Square (1997)",
           34
          ],
          [
           883,
           "Telling Lies in America (1997)",
           13
          ],
          [
           884,
           "Year of the Horse (1997)",
           7
          ],
          [
           885,
           "Phantoms (1998)",
           13
          ],
          [
           886,
           "Life Less Ordinary, A (1997)",
           53
          ],
          [
           887,
           "Eve's Bayou (1997)",
           64
          ],
          [
           888,
           "One Night Stand (1997)",
           15
          ],
          [
           889,
           "Tango Lesson, The (1997)",
           13
          ],
          [
           890,
           "Mortal Kombat: Annihilation (1997)",
           43
          ],
          [
           891,
           "Bent (1997)",
           6
          ],
          [
           892,
           "Flubber (1997)",
           53
          ],
          [
           893,
           "For Richer or Poorer (1997)",
           14
          ],
          [
           894,
           "Home Alone 3 (1997)",
           19
          ],
          [
           895,
           "Scream 2 (1997)",
           106
          ],
          [
           896,
           "Sweet Hereafter, The (1997)",
           44
          ],
          [
           897,
           "Time Tracers (1995)",
           2
          ],
          [
           898,
           "Postman, The (1997)",
           58
          ],
          [
           899,
           "Winter Guest, The (1997)",
           9
          ],
          [
           900,
           "Kundun (1997)",
           42
          ],
          [
           901,
           "Mr. Magoo (1997)",
           12
          ],
          [
           902,
           "Big Lebowski, The (1998)",
           42
          ],
          [
           903,
           "Afterglow (1997)",
           18
          ],
          [
           904,
           "Ma vie en rose (My Life in Pink) (1997)",
           20
          ],
          [
           905,
           "Great Expectations (1998)",
           27
          ],
          [
           906,
           "Oscar & Lucinda (1997)",
           21
          ],
          [
           907,
           "Vermin (1998)",
           2
          ],
          [
           908,
           "Half Baked (1998)",
           20
          ],
          [
           909,
           "Dangerous Beauty (1998)",
           13
          ],
          [
           910,
           "Nil By Mouth (1997)",
           4
          ],
          [
           911,
           "Twilight (1998)",
           4
          ],
          [
           912,
           "U.S. Marshalls (1998)",
           9
          ],
          [
           913,
           "Love and Death on Long Island (1997)",
           2
          ],
          [
           914,
           "Wild Things (1998)",
           11
          ],
          [
           915,
           "Primary Colors (1998)",
           13
          ],
          [
           916,
           "Lost in Space (1998)",
           18
          ],
          [
           917,
           "Mercury Rising (1998)",
           7
          ],
          [
           918,
           "City of Angels (1998)",
           8
          ],
          [
           919,
           "City of Lost Children, The (1995)",
           96
          ],
          [
           920,
           "Two Bits (1995)",
           5
          ],
          [
           921,
           "Farewell My Concubine (1993)",
           46
          ],
          [
           922,
           "Dead Man (1995)",
           34
          ],
          [
           923,
           "Raise the Red Lantern (1991)",
           58
          ],
          [
           924,
           "White Squall (1996)",
           85
          ],
          [
           925,
           "Unforgettable (1996)",
           34
          ],
          [
           926,
           "Down Periscope (1996)",
           101
          ],
          [
           927,
           "Flower of My Secret, The (Flor de mi secreto, La) (1995)",
           6
          ],
          [
           928,
           "Craft, The (1996)",
           104
          ],
          [
           929,
           "Harriet the Spy (1996)",
           40
          ],
          [
           930,
           "Chain Reaction (1996)",
           80
          ],
          [
           931,
           "Island of Dr. Moreau, The (1996)",
           57
          ],
          [
           932,
           "First Kid (1996)",
           40
          ],
          [
           933,
           "Funeral, The (1996)",
           21
          ],
          [
           934,
           "Preacher's Wife, The (1996)",
           68
          ],
          [
           935,
           "Paradise Road (1997)",
           7
          ],
          [
           936,
           "Brassed Off (1996)",
           32
          ],
          [
           937,
           "Thousand Acres, A (1997)",
           37
          ],
          [
           938,
           "Smile Like Yours, A (1997)",
           25
          ],
          [
           939,
           "Murder in the First (1995)",
           60
          ],
          [
           940,
           "Airheads (1994)",
           32
          ],
          [
           941,
           "With Honors (1994)",
           46
          ],
          [
           942,
           "What's Love Got to Do with It (1993)",
           45
          ],
          [
           943,
           "Killing Zoe (1994)",
           40
          ],
          [
           944,
           "Renaissance Man (1994)",
           43
          ],
          [
           945,
           "Charade (1963)",
           40
          ],
          [
           946,
           "Fox and the Hound, The (1981)",
           61
          ],
          [
           947,
           "Big Blue, The (Grand bleu, Le) (1988)",
           17
          ],
          [
           948,
           "Booty Call (1997)",
           48
          ],
          [
           949,
           "How to Make an American Quilt (1995)",
           71
          ],
          [
           950,
           "Georgia (1995)",
           30
          ],
          [
           951,
           "Indian in the Cupboard, The (1995)",
           39
          ],
          [
           952,
           "Blue in the Face (1995)",
           45
          ],
          [
           953,
           "Unstrung Heroes (1995)",
           22
          ],
          [
           954,
           "Unzipped (1995)",
           11
          ],
          [
           955,
           "Before Sunrise (1995)",
           49
          ],
          [
           956,
           "Nobody's Fool (1994)",
           46
          ],
          [
           957,
           "Pushing Hands (1992)",
           2
          ],
          [
           958,
           "To Live (Huozhe) (1994)",
           14
          ],
          [
           959,
           "Dazed and Confused (1993)",
           64
          ],
          [
           960,
           "Naked (1993)",
           25
          ],
          [
           961,
           "Orlando (1993)",
           34
          ],
          [
           962,
           "Ruby in Paradise (1993)",
           23
          ],
          [
           963,
           "Some Folks Call It a Sling Blade (1993)",
           41
          ],
          [
           964,
           "Month by the Lake, A (1995)",
           9
          ],
          [
           965,
           "Funny Face (1957)",
           21
          ],
          [
           966,
           "Affair to Remember, An (1957)",
           26
          ],
          [
           967,
           "Little Lord Fauntleroy (1936)",
           12
          ],
          [
           968,
           "Inspector General, The (1949)",
           18
          ],
          [
           969,
           "Winnie the Pooh and the Blustery Day (1968)",
           75
          ],
          [
           970,
           "Hear My Song (1991)",
           8
          ],
          [
           971,
           "Mediterraneo (1991)",
           34
          ],
          [
           972,
           "Passion Fish (1992)",
           28
          ],
          [
           973,
           "Grateful Dead (1995)",
           4
          ],
          [
           974,
           "Eye for an Eye (1996)",
           32
          ],
          [
           975,
           "Fear (1996)",
           44
          ],
          [
           976,
           "Solo (1996)",
           12
          ],
          [
           977,
           "Substitute, The (1996)",
           49
          ],
          [
           978,
           "Heaven's Prisoners (1996)",
           27
          ],
          [
           979,
           "Trigger Effect, The (1996)",
           35
          ],
          [
           980,
           "Mother Night (1996)",
           22
          ],
          [
           981,
           "Dangerous Ground (1997)",
           8
          ],
          [
           982,
           "Maximum Risk (1996)",
           20
          ],
          [
           983,
           "Rich Man's Wife, The (1996)",
           15
          ],
          [
           984,
           "Shadow Conspiracy (1997)",
           44
          ],
          [
           985,
           "Blood & Wine (1997)",
           22
          ],
          [
           986,
           "Turbulence (1997)",
           23
          ],
          [
           987,
           "Underworld (1997)",
           4
          ],
          [
           988,
           "Beautician and the Beast, The (1997)",
           86
          ],
          [
           989,
           "Cats Don't Dance (1997)",
           32
          ],
          [
           990,
           "Anna Karenina (1997)",
           33
          ],
          [
           991,
           "Keys to Tulsa (1997)",
           25
          ],
          [
           992,
           "Head Above Water (1996)",
           4
          ],
          [
           993,
           "Hercules (1997)",
           66
          ],
          [
           994,
           "Last Time I Committed Suicide, The (1997)",
           7
          ],
          [
           995,
           "Kiss Me, Guido (1997)",
           31
          ],
          [
           996,
           "Big Green, The (1995)",
           14
          ],
          [
           997,
           "Stuart Saves His Family (1995)",
           16
          ],
          [
           998,
           "Cabin Boy (1994)",
           16
          ],
          [
           999,
           "Clean Slate (1994)",
           10
          ],
          [
           1000,
           "Lightning Jack (1994)",
           10
          ],
          [
           1001,
           "Stupids, The (1996)",
           17
          ],
          [
           1002,
           "Pest, The (1997)",
           8
          ],
          [
           1003,
           "That Darn Cat! (1997)",
           8
          ],
          [
           1004,
           "Geronimo: An American Legend (1993)",
           9
          ],
          [
           1005,
           "Double vie de Véronique, La (Double Life of Veronique, The) (1991)",
           22
          ],
          [
           1006,
           "Until the End of the World (Bis ans Ende der Welt) (1991)",
           23
          ],
          [
           1007,
           "Waiting for Guffman (1996)",
           47
          ],
          [
           1008,
           "I Shot Andy Warhol (1996)",
           37
          ],
          [
           1009,
           "Stealing Beauty (1996)",
           64
          ],
          [
           1010,
           "Basquiat (1996)",
           44
          ],
          [
           1011,
           "2 Days in the Valley (1996)",
           93
          ],
          [
           1012,
           "Private Parts (1997)",
           100
          ],
          [
           1013,
           "Anaconda (1997)",
           38
          ],
          [
           1014,
           "Romy and Michele's High School Reunion (1997)",
           98
          ],
          [
           1015,
           "Shiloh (1997)",
           12
          ],
          [
           1016,
           "Con Air (1997)",
           137
          ],
          [
           1017,
           "Trees Lounge (1996)",
           50
          ],
          [
           1018,
           "Tie Me Up! Tie Me Down! (1990)",
           32
          ],
          [
           1019,
           "Die xue shuang xiong (Killer, The) (1989)",
           31
          ],
          [
           1020,
           "Gaslight (1944)",
           35
          ],
          [
           1021,
           "8 1/2 (1963)",
           38
          ],
          [
           1022,
           "Fast, Cheap & Out of Control (1997)",
           32
          ],
          [
           1023,
           "Fathers' Day (1997)",
           31
          ],
          [
           1024,
           "Mrs. Dalloway (1997)",
           15
          ],
          [
           1025,
           "Fire Down Below (1997)",
           44
          ],
          [
           1026,
           "Lay of the Land, The (1997)",
           4
          ],
          [
           1027,
           "Shooter, The (1995)",
           3
          ],
          [
           1028,
           "Grumpier Old Men (1995)",
           148
          ],
          [
           1029,
           "Jury Duty (1995)",
           14
          ],
          [
           1030,
           "Beverly Hillbillies, The (1993)",
           20
          ],
          [
           1031,
           "Lassie (1994)",
           7
          ],
          [
           1032,
           "Little Big League (1994)",
           16
          ],
          [
           1033,
           "Homeward Bound II: Lost in San Francisco (1996)",
           32
          ],
          [
           1034,
           "Quest, The (1996)",
           27
          ],
          [
           1035,
           "Cool Runnings (1993)",
           68
          ],
          [
           1036,
           "Drop Dead Fred (1991)",
           24
          ],
          [
           1037,
           "Grease 2 (1982)",
           24
          ],
          [
           1038,
           "Switchback (1997)",
           17
          ],
          [
           1039,
           "Hamlet (1996)",
           90
          ],
          [
           1040,
           "Two if by Sea (1996)",
           25
          ],
          [
           1041,
           "Forget Paris (1995)",
           62
          ],
          [
           1042,
           "Just Cause (1995)",
           28
          ],
          [
           1043,
           "Rent-a-Kid (1995)",
           8
          ],
          [
           1044,
           "Paper, The (1994)",
           40
          ],
          [
           1045,
           "Fearless (1993)",
           25
          ],
          [
           1046,
           "Malice (1993)",
           46
          ],
          [
           1047,
           "Multiplicity (1996)",
           134
          ],
          [
           1048,
           "She's the One (1996)",
           73
          ],
          [
           1049,
           "House Arrest (1996)",
           25
          ],
          [
           1050,
           "Ghost and Mrs. Muir, The (1947)",
           43
          ],
          [
           1051,
           "Associate, The (1996)",
           41
          ],
          [
           1052,
           "Dracula: Dead and Loving It (1995)",
           25
          ],
          [
           1053,
           "Now and Then (1995)",
           24
          ],
          [
           1054,
           "Mr. Wrong (1996)",
           23
          ],
          [
           1055,
           "Simple Twist of Fate, A (1994)",
           10
          ],
          [
           1056,
           "Cronos (1992)",
           10
          ],
          [
           1057,
           "Pallbearer, The (1996)",
           22
          ],
          [
           1058,
           "War, The (1994)",
           15
          ],
          [
           1059,
           "Don't Be a Menace to South Central While Drinking Your Juice in the Hood (1996)",
           35
          ],
          [
           1060,
           "Adventures of Pinocchio, The (1996)",
           39
          ],
          [
           1061,
           "Evening Star, The (1996)",
           29
          ],
          [
           1062,
           "Four Days in September (1997)",
           12
          ],
          [
           1063,
           "Little Princess, A (1995)",
           41
          ],
          [
           1064,
           "Crossfire (1947)",
           4
          ],
          [
           1065,
           "Koyaanisqatsi (1983)",
           53
          ],
          [
           1066,
           "Balto (1995)",
           16
          ],
          [
           1067,
           "Bottle Rocket (1996)",
           44
          ],
          [
           1068,
           "Star Maker, The (Uomo delle stelle, L') (1995)",
           12
          ],
          [
           1069,
           "Amateur (1994)",
           18
          ],
          [
           1070,
           "Living in Oblivion (1995)",
           27
          ],
          [
           1071,
           "Party Girl (1995)",
           16
          ],
          [
           1072,
           "Pyromaniac's Love Story, A (1995)",
           7
          ],
          [
           1073,
           "Shallow Grave (1994)",
           66
          ],
          [
           1074,
           "Reality Bites (1994)",
           77
          ],
          [
           1075,
           "Man of No Importance, A (1994)",
           7
          ],
          [
           1076,
           "Pagemaster, The (1994)",
           12
          ],
          [
           1077,
           "Love and a .45 (1994)",
           8
          ],
          [
           1078,
           "Oliver & Company (1988)",
           22
          ],
          [
           1079,
           "Joe's Apartment (1996)",
           45
          ],
          [
           1080,
           "Celestial Clockwork (1994)",
           2
          ],
          [
           1081,
           "Curdled (1996)",
           8
          ],
          [
           1082,
           "Female Perversions (1996)",
           8
          ],
          [
           1083,
           "Albino Alligator (1996)",
           6
          ],
          [
           1084,
           "Anne Frank Remembered (1995)",
           21
          ],
          [
           1085,
           "Carried Away (1996)",
           11
          ],
          [
           1086,
           "It's My Party (1995)",
           21
          ],
          [
           1087,
           "Bloodsport 2 (1995)",
           10
          ],
          [
           1088,
           "Double Team (1997)",
           13
          ],
          [
           1089,
           "Speed 2: Cruise Control (1997)",
           38
          ],
          [
           1090,
           "Sliver (1993)",
           37
          ],
          [
           1091,
           "Pete's Dragon (1977)",
           43
          ],
          [
           1092,
           "Dear God (1996)",
           12
          ],
          [
           1093,
           "Live Nude Girls (1995)",
           23
          ],
          [
           1094,
           "Thin Line Between Love and Hate, A (1996)",
           12
          ],
          [
           1095,
           "High School High (1996)",
           29
          ],
          [
           1096,
           "Commandments (1997)",
           3
          ],
          [
           1097,
           "Hate (Haine, La) (1995)",
           18
          ],
          [
           1098,
           "Flirting With Disaster (1996)",
           42
          ],
          [
           1099,
           "Red Firecracker, Green Firecracker (1994)",
           13
          ],
          [
           1100,
           "What Happened Was... (1994)",
           8
          ],
          [
           1101,
           "Six Degrees of Separation (1993)",
           74
          ],
          [
           1102,
           "Two Much (1996)",
           7
          ],
          [
           1103,
           "Trust (1990)",
           19
          ],
          [
           1104,
           "C'est arrivé près de chez vous (1992)",
           4
          ],
          [
           1105,
           "Firestorm (1998)",
           18
          ],
          [
           1106,
           "Newton Boys, The (1998)",
           4
          ],
          [
           1107,
           "Beyond Rangoon (1995)",
           18
          ],
          [
           1108,
           "Feast of July (1995)",
           5
          ],
          [
           1109,
           "Death and the Maiden (1994)",
           28
          ],
          [
           1110,
           "Tank Girl (1995)",
           41
          ],
          [
           1111,
           "Double Happiness (1994)",
           7
          ],
          [
           1112,
           "Cobb (1994)",
           15
          ],
          [
           1113,
           "Mrs. Parker and the Vicious Circle (1994)",
           22
          ],
          [
           1114,
           "Faithful (1996)",
           10
          ],
          [
           1115,
           "Twelfth Night (1996)",
           29
          ],
          [
           1116,
           "Mark of Zorro, The (1940)",
           13
          ],
          [
           1117,
           "Surviving Picasso (1996)",
           19
          ],
          [
           1118,
           "Up in Smoke (1978)",
           47
          ],
          [
           1119,
           "Some Kind of Wonderful (1987)",
           59
          ],
          [
           1120,
           "I'm Not Rappaport (1996)",
           17
          ],
          [
           1121,
           "Umbrellas of Cherbourg, The (Parapluies de Cherbourg, Les) (1964)",
           21
          ],
          [
           1122,
           "They Made Me a Criminal (1939)",
           1
          ],
          [
           1123,
           "Last Time I Saw Paris, The (1954)",
           3
          ],
          [
           1124,
           "Farewell to Arms, A (1932)",
           12
          ],
          [
           1125,
           "Innocents, The (1961)",
           4
          ],
          [
           1126,
           "Old Man and the Sea, The (1958)",
           32
          ],
          [
           1127,
           "Truman Show, The (1998)",
           11
          ],
          [
           1128,
           "Heidi Fleiss: Hollywood Madam (1995) ",
           13
          ],
          [
           1129,
           "Chungking Express (1994)",
           28
          ],
          [
           1130,
           "Jupiter's Wife (1994)",
           1
          ],
          [
           1131,
           "Safe (1995)",
           13
          ],
          [
           1132,
           "Feeling Minnesota (1996)",
           32
          ],
          [
           1133,
           "Escape to Witch Mountain (1975)",
           30
          ],
          [
           1134,
           "Get on the Bus (1996)",
           38
          ],
          [
           1135,
           "Doors, The (1991)",
           46
          ],
          [
           1136,
           "Ghosts of Mississippi (1996)",
           29
          ],
          [
           1137,
           "Beautiful Thing (1996)",
           29
          ],
          [
           1138,
           "Best Men (1997)",
           5
          ],
          [
           1139,
           "Hackers (1995)",
           33
          ],
          [
           1140,
           "Road to Wellville, The (1994)",
           17
          ],
          [
           1141,
           "War Room, The (1993)",
           9
          ],
          [
           1142,
           "When We Were Kings (1996)",
           44
          ],
          [
           1143,
           "Hard Eight (1996)",
           15
          ],
          [
           1144,
           "Quiet Room, The (1996)",
           3
          ],
          [
           1145,
           "Blue Chips (1994)",
           9
          ],
          [
           1146,
           "Calendar Girl (1993)",
           3
          ],
          [
           1147,
           "My Family (1995)",
           21
          ],
          [
           1148,
           "Tom & Viv (1994)",
           9
          ],
          [
           1149,
           "Walkabout (1971)",
           26
          ],
          [
           1150,
           "Last Dance (1996)",
           9
          ],
          [
           1151,
           "Original Gangstas (1996)",
           7
          ],
          [
           1152,
           "In Love and War (1996)",
           28
          ],
          [
           1153,
           "Backbeat (1993)",
           19
          ],
          [
           1154,
           "Alphaville (1965)",
           12
          ],
          [
           1155,
           "Rendezvous in Paris (Rendez-vous de Paris, Les) (1995)",
           3
          ],
          [
           1156,
           "Cyclo (1995)",
           1
          ],
          [
           1157,
           "Relic, The (1997)",
           25
          ],
          [
           1158,
           "Fille seule, La (A Single Girl) (1995)",
           4
          ],
          [
           1159,
           "Stalker (1979)",
           11
          ],
          [
           1160,
           "Love! Valour! Compassion! (1997)",
           26
          ],
          [
           1161,
           "Palookaville (1996)",
           13
          ],
          [
           1162,
           "Phat Beach (1996)",
           5
          ],
          [
           1163,
           "Portrait of a Lady, The (1996)",
           25
          ],
          [
           1164,
           "Zeus and Roxanne (1997)",
           6
          ],
          [
           1165,
           "Big Bully (1996)",
           14
          ],
          [
           1166,
           "Love & Human Remains (1993)",
           12
          ],
          [
           1167,
           "Sum of Us, The (1994)",
           11
          ],
          [
           1168,
           "Little Buddha (1993)",
           22
          ],
          [
           1169,
           "Fresh (1994)",
           10
          ],
          [
           1170,
           "Spanking the Monkey (1994)",
           27
          ],
          [
           1171,
           "Wild Reeds (1994)",
           14
          ],
          [
           1172,
           "Women, The (1939)",
           15
          ],
          [
           1173,
           "Bliss (1997)",
           7
          ],
          [
           1174,
           "Caught (1996)",
           8
          ],
          [
           1175,
           "Hugo Pool (1997)",
           5
          ],
          [
           1176,
           "Welcome To Sarajevo (1997)",
           22
          ],
          [
           1177,
           "Dunston Checks In (1996)",
           7
          ],
          [
           1178,
           "Major Payne (1994)",
           19
          ],
          [
           1179,
           "Man of the House (1995)",
           9
          ],
          [
           1180,
           "I Love Trouble (1994)",
           10
          ],
          [
           1181,
           "Low Down Dirty Shame, A (1994)",
           10
          ],
          [
           1182,
           "Cops and Robbersons (1994)",
           13
          ],
          [
           1183,
           "Cowboy Way, The (1994)",
           19
          ],
          [
           1184,
           "Endless Summer 2, The (1994)",
           10
          ],
          [
           1185,
           "In the Army Now (1994)",
           18
          ],
          [
           1186,
           "Inkwell, The (1994)",
           3
          ],
          [
           1187,
           "Switchblade Sisters (1975)",
           13
          ],
          [
           1188,
           "Young Guns II (1990)",
           44
          ],
          [
           1189,
           "Prefontaine (1997)",
           3
          ],
          [
           1190,
           "That Old Feeling (1997)",
           11
          ],
          [
           1191,
           "Letter From Death Row, A (1998)",
           3
          ],
          [
           1192,
           "Boys of St. Vincent, The (1993)",
           13
          ],
          [
           1193,
           "Before the Rain (Pred dozhdot) (1994)",
           10
          ],
          [
           1194,
           "Once Were Warriors (1994)",
           31
          ],
          [
           1195,
           "Strawberry and Chocolate (Fresa y chocolate) (1993)",
           11
          ],
          [
           1196,
           "Savage Nights (Nuits fauves, Les) (1992)",
           3
          ],
          [
           1197,
           "Family Thing, A (1996)",
           45
          ],
          [
           1198,
           "Purple Noon (1960)",
           7
          ],
          [
           1199,
           "Cemetery Man (Dellamorte Dellamore) (1994)",
           23
          ],
          [
           1200,
           "Kim (1950)",
           7
          ],
          [
           1201,
           "Marlene Dietrich: Shadow and Light (1996) ",
           1
          ],
          [
           1202,
           "Maybe, Maybe Not (Bewegte Mann, Der) (1994)",
           8
          ],
          [
           1203,
           "Top Hat (1935)",
           21
          ],
          [
           1204,
           "To Be or Not to Be (1942)",
           18
          ],
          [
           1205,
           "Secret Agent, The (1996)",
           6
          ],
          [
           1206,
           "Amos & Andrew (1993)",
           19
          ],
          [
           1207,
           "Jade (1995)",
           17
          ],
          [
           1208,
           "Kiss of Death (1995)",
           20
          ],
          [
           1209,
           "Mixed Nuts (1994)",
           15
          ],
          [
           1210,
           "Virtuosity (1995)",
           38
          ],
          [
           1211,
           "Blue Sky (1994)",
           12
          ],
          [
           1212,
           "Flesh and Bone (1993)",
           6
          ],
          [
           1213,
           "Guilty as Sin (1993)",
           6
          ],
          [
           1214,
           "In the Realm of the Senses (Ai no corrida) (1976)",
           9
          ],
          [
           1215,
           "Barb Wire (1996)",
           30
          ],
          [
           1216,
           "Kissed (1996)",
           6
          ],
          [
           1217,
           "Assassins (1995)",
           39
          ],
          [
           1218,
           "Friday (1995)",
           26
          ],
          [
           1219,
           "Goofy Movie, A (1995)",
           20
          ],
          [
           1220,
           "Higher Learning (1995)",
           30
          ],
          [
           1221,
           "When a Man Loves a Woman (1994)",
           39
          ],
          [
           1222,
           "Judgment Night (1993)",
           25
          ],
          [
           1223,
           "King of the Hill (1993)",
           4
          ],
          [
           1224,
           "Scout, The (1994)",
           12
          ],
          [
           1225,
           "Angus (1995)",
           14
          ],
          [
           1226,
           "Night Falls on Manhattan (1997)",
           32
          ],
          [
           1227,
           "Awfully Big Adventure, An (1995)",
           8
          ],
          [
           1228,
           "Under Siege 2: Dark Territory (1995)",
           48
          ],
          [
           1229,
           "Poison Ivy II (1995)",
           13
          ],
          [
           1230,
           "Ready to Wear (Pret-A-Porter) (1994)",
           18
          ],
          [
           1231,
           "Marked for Death (1990)",
           22
          ],
          [
           1232,
           "Madonna: Truth or Dare (1991)",
           17
          ],
          [
           1233,
           "Nénette et Boni (1996)",
           6
          ],
          [
           1234,
           "Chairman of the Board (1998)",
           8
          ],
          [
           1235,
           "Big Bang Theory, The (1994)",
           1
          ],
          [
           1236,
           "Other Voices, Other Rooms (1997)",
           1
          ],
          [
           1237,
           "Twisted (1996)",
           6
          ],
          [
           1238,
           "Full Speed (1996)",
           8
          ],
          [
           1239,
           "Cutthroat Island (1995)",
           18
          ],
          [
           1240,
           "Ghost in the Shell (Kokaku kidotai) (1995)",
           26
          ],
          [
           1241,
           "Van, The (1996)",
           6
          ],
          [
           1242,
           "Old Lady Who Walked in the Sea, The (Vieille qui marchait dans la mer, La) (1991)",
           5
          ],
          [
           1243,
           "Night Flier (1997)",
           7
          ],
          [
           1244,
           "Metro (1997)",
           36
          ],
          [
           1245,
           "Gridlock'd (1997)",
           19
          ],
          [
           1246,
           "Bushwhacked (1995)",
           7
          ],
          [
           1247,
           "Bad Girls (1994)",
           6
          ],
          [
           1248,
           "Blink (1994)",
           19
          ],
          [
           1249,
           "For Love or Money (1993)",
           12
          ],
          [
           1250,
           "Best of the Best 3: No Turning Back (1995)",
           6
          ],
          [
           1251,
           "A Chef in Love (1996)",
           8
          ],
          [
           1252,
           "Contempt (Mépris, Le) (1963)",
           9
          ],
          [
           1253,
           "Tie That Binds, The (1995)",
           7
          ],
          [
           1254,
           "Gone Fishin' (1997)",
           11
          ],
          [
           1255,
           "Broken English (1996)",
           8
          ],
          [
           1256,
           "Designated Mourner, The (1997)",
           3
          ],
          [
           1257,
           "Designated Mourner, The (1997)",
           4
          ],
          [
           1258,
           "Trial and Error (1997)",
           23
          ],
          [
           1259,
           "Pie in the Sky (1995)",
           4
          ],
          [
           1260,
           "Total Eclipse (1995)",
           4
          ],
          [
           1261,
           "Run of the Country, The (1995)",
           4
          ],
          [
           1262,
           "Walking and Talking (1996)",
           8
          ],
          [
           1263,
           "Foxfire (1996)",
           15
          ],
          [
           1264,
           "Nothing to Lose (1994)",
           7
          ],
          [
           1265,
           "Star Maps (1997)",
           19
          ],
          [
           1266,
           "Bread and Chocolate (Pane e cioccolata) (1973)",
           12
          ],
          [
           1267,
           "Clockers (1995)",
           33
          ],
          [
           1268,
           "Bitter Moon (1992)",
           10
          ],
          [
           1269,
           "Love in the Afternoon (1957)",
           10
          ],
          [
           1270,
           "Life with Mikey (1993)",
           7
          ],
          [
           1271,
           "North (1994)",
           7
          ],
          [
           1272,
           "Talking About Sex (1994)",
           5
          ],
          [
           1273,
           "Color of Night (1994)",
           15
          ],
          [
           1274,
           "Robocop 3 (1993)",
           11
          ],
          [
           1275,
           "Killer (Bulletproof Heart) (1994)",
           4
          ],
          [
           1276,
           "Sunset Park (1996)",
           8
          ],
          [
           1277,
           "Set It Off (1996)",
           19
          ],
          [
           1278,
           "Selena (1997)",
           16
          ],
          [
           1279,
           "Wild America (1997)",
           9
          ],
          [
           1280,
           "Gang Related (1997)",
           16
          ],
          [
           1281,
           "Manny & Lo (1996)",
           13
          ],
          [
           1282,
           "Grass Harp, The (1995)",
           9
          ],
          [
           1283,
           "Out to Sea (1997)",
           19
          ],
          [
           1284,
           "Before and After (1996)",
           26
          ],
          [
           1285,
           "Princess Caraboo (1994)",
           15
          ],
          [
           1286,
           "Shall We Dance? (1937)",
           17
          ],
          [
           1287,
           "Ed (1996)",
           6
          ],
          [
           1288,
           "Denise Calls Up (1995)",
           7
          ],
          [
           1289,
           "Jack and Sarah (1995)",
           7
          ],
          [
           1290,
           "Country Life (1994)",
           2
          ],
          [
           1291,
           "Celtic Pride (1996)",
           15
          ],
          [
           1292,
           "Simple Wish, A (1997)",
           3
          ],
          [
           1293,
           "Star Kid (1997)",
           3
          ],
          [
           1294,
           "Ayn Rand: A Sense of Life (1997)",
           7
          ],
          [
           1295,
           "Kicked in the Head (1997)",
           7
          ],
          [
           1296,
           "Indian Summer (1996)",
           20
          ],
          [
           1297,
           "Love Affair (1994)",
           12
          ],
          [
           1298,
           "Band Wagon, The (1953)",
           9
          ],
          [
           1299,
           "Penny Serenade (1941)",
           8
          ],
          [
           1300,
           "'Til There Was You (1997)",
           9
          ],
          [
           1301,
           "Stripes (1981)",
           5
          ],
          [
           1302,
           "Late Bloomers (1996)",
           5
          ],
          [
           1303,
           "Getaway, The (1994)",
           18
          ],
          [
           1304,
           "New York Cop (1996)",
           2
          ],
          [
           1305,
           "National Lampoon's Senior Trip (1995)",
           7
          ],
          [
           1306,
           "Delta of Venus (1994)",
           2
          ],
          [
           1307,
           "Carmen Miranda: Bananas Is My Business (1994)",
           2
          ],
          [
           1308,
           "Babyfever (1994)",
           2
          ],
          [
           1309,
           "Very Natural Thing, A (1974)",
           1
          ],
          [
           1310,
           "Walk in the Sun, A (1945)",
           1
          ],
          [
           1311,
           "Waiting to Exhale (1995)",
           16
          ],
          [
           1312,
           "Pompatus of Love, The (1996)",
           7
          ],
          [
           1313,
           "Palmetto (1998)",
           14
          ],
          [
           1314,
           "Surviving the Game (1994)",
           11
          ],
          [
           1315,
           "Inventing the Abbotts (1997)",
           23
          ],
          [
           1316,
           "Horse Whisperer, The (1998)",
           7
          ],
          [
           1317,
           "Journey of August King, The (1995)",
           4
          ],
          [
           1318,
           "Catwalk (1995)",
           3
          ],
          [
           1319,
           "Neon Bible, The (1995)",
           4
          ],
          [
           1320,
           "Homage (1995)",
           1
          ],
          [
           1321,
           "Open Season (1996)",
           2
          ],
          [
           1322,
           "Metisse (Café au Lait) (1993)",
           6
          ],
          [
           1323,
           "Wooden Man's Bride, The (Wu Kui) (1994)",
           3
          ],
          [
           1324,
           "Loaded (1994)",
           5
          ],
          [
           1325,
           "August (1996)",
           1
          ],
          [
           1326,
           "Boys (1996)",
           6
          ],
          [
           1327,
           "Captives (1994)",
           3
          ],
          [
           1328,
           "Of Love and Shadows (1994)",
           6
          ],
          [
           1329,
           "Low Life, The (1994)",
           1
          ],
          [
           1330,
           "An Unforgettable Summer (1994)",
           4
          ],
          [
           1331,
           "Last Klezmer: Leopold Kozlowski, His Life and Music, The (1995)",
           4
          ],
          [
           1332,
           "My Life and Times With Antonin Artaud (En compagnie d'Antonin Artaud) (1993)",
           2
          ],
          [
           1333,
           "Midnight Dancers (Sibak) (1994)",
           5
          ],
          [
           1334,
           "Somebody to Love (1994)",
           2
          ],
          [
           1335,
           "American Buffalo (1996)",
           11
          ],
          [
           1336,
           "Kazaam (1996)",
           10
          ],
          [
           1337,
           "Larger Than Life (1996)",
           9
          ],
          [
           1338,
           "Two Deaths (1995)",
           4
          ],
          [
           1339,
           "Stefano Quantestorie (1993)",
           1
          ],
          [
           1340,
           "Crude Oasis, The (1995)",
           1
          ],
          [
           1341,
           "Hedd Wyn (1992)",
           1
          ],
          [
           1342,
           "Convent, The (Convento, O) (1995)",
           2
          ],
          [
           1343,
           "Lotto Land (1995)",
           1
          ],
          [
           1344,
           "Story of Xinghua, The (1993)",
           5
          ],
          [
           1345,
           "Day the Sun Turned Cold, The (Tianguo niezi) (1994)",
           2
          ],
          [
           1346,
           "Dingo (1992)",
           5
          ],
          [
           1347,
           "Ballad of Narayama, The (Narayama Bushiko) (1958)",
           4
          ],
          [
           1348,
           "Every Other Weekend (1990)",
           1
          ],
          [
           1349,
           "Mille bolle blu (1993)",
           1
          ],
          [
           1350,
           "Crows and Sparrows (1949)",
           2
          ],
          [
           1351,
           "Lover's Knot (1996)",
           3
          ],
          [
           1352,
           "Shadow of Angels (Schatten der Engel) (1976)",
           1
          ],
          [
           1353,
           "1-900 (1994)",
           5
          ],
          [
           1354,
           "Venice/Venice (1992)",
           2
          ],
          [
           1355,
           "Infinity (1996)",
           6
          ],
          [
           1356,
           "Ed's Next Move (1996)",
           3
          ],
          [
           1357,
           "For the Moment (1994)",
           3
          ],
          [
           1358,
           "The Deadly Cure (1996)",
           2
          ],
          [
           1359,
           "Boys in Venice (1996)",
           2
          ],
          [
           1360,
           "Sexual Life of the Belgians, The (1994)",
           2
          ],
          [
           1361,
           "Search for One-eye Jimmy, The (1996)",
           3
          ],
          [
           1362,
           "American Strays (1996)",
           2
          ],
          [
           1363,
           "Leopard Son, The (1996)",
           1
          ],
          [
           1364,
           "Bird of Prey (1996)",
           1
          ],
          [
           1365,
           "Johnny 100 Pesos (1993)",
           2
          ],
          [
           1366,
           "JLG/JLG - autoportrait de décembre (1994)",
           1
          ],
          [
           1367,
           "Faust (1994)",
           5
          ],
          [
           1368,
           "Mina Tannenbaum (1994)",
           6
          ],
          [
           1369,
           "Forbidden Christ, The (Cristo proibito, Il) (1950)",
           4
          ],
          [
           1370,
           "I Can't Sleep (J'ai pas sommeil) (1994)",
           3
          ],
          [
           1371,
           "Machine, The (1994)",
           2
          ],
          [
           1372,
           "Stranger, The (1994)",
           3
          ],
          [
           1373,
           "Good Morning (1971)",
           1
          ],
          [
           1374,
           "Falling in Love Again (1980)",
           2
          ],
          [
           1375,
           "Cement Garden, The (1993)",
           10
          ],
          [
           1376,
           "Meet Wally Sparks (1997)",
           7
          ],
          [
           1377,
           "Hotel de Love (1996)",
           4
          ],
          [
           1378,
           "Rhyme & Reason (1997)",
           5
          ],
          [
           1379,
           "Love and Other Catastrophes (1996)",
           7
          ],
          [
           1380,
           "Hollow Reed (1996)",
           6
          ],
          [
           1381,
           "Losing Chase (1996)",
           8
          ],
          [
           1382,
           "Bonheur, Le (1965)",
           4
          ],
          [
           1383,
           "Second Jungle Book: Mowgli & Baloo, The (1997)",
           6
          ],
          [
           1384,
           "Squeeze (1996)",
           3
          ],
          [
           1385,
           "Roseanna's Grave (For Roseanna) (1997)",
           5
          ],
          [
           1386,
           "Tetsuo II: Body Hammer (1992)",
           6
          ],
          [
           1387,
           "Fall (1997)",
           3
          ],
          [
           1388,
           "Gabbeh (1996)",
           6
          ],
          [
           1389,
           "Mondo (1996)",
           3
          ],
          [
           1390,
           "Innocent Sleep, The (1995)",
           2
          ],
          [
           1391,
           "For Ever Mozart (1996)",
           3
          ],
          [
           1392,
           "Locusts, The (1997)",
           5
          ],
          [
           1393,
           "Stag (1997)",
           9
          ],
          [
           1394,
           "Swept from the Sea (1997)",
           7
          ],
          [
           1395,
           "Hurricane Streets (1998)",
           6
          ],
          [
           1396,
           "Stonewall (1995)",
           5
          ],
          [
           1397,
           "Of Human Bondage (1934)",
           5
          ],
          [
           1398,
           "Anna (1996)",
           2
          ],
          [
           1399,
           "Stranger in the House (1997)",
           7
          ],
          [
           1400,
           "Picture Bride (1995)",
           10
          ],
          [
           1401,
           "M. Butterfly (1993)",
           18
          ],
          [
           1402,
           "Ciao, Professore! (1993)",
           4
          ],
          [
           1403,
           "Caro Diario (Dear Diary) (1994)",
           4
          ],
          [
           1404,
           "Withnail and I (1987)",
           13
          ],
          [
           1405,
           "Boy's Life 2 (1997)",
           6
          ],
          [
           1406,
           "When Night Is Falling (1995)",
           5
          ],
          [
           1407,
           "Specialist, The (1994)",
           20
          ],
          [
           1408,
           "Gordy (1995)",
           3
          ],
          [
           1409,
           "Swan Princess, The (1994)",
           7
          ],
          [
           1410,
           "Harlem (1993)",
           4
          ],
          [
           1411,
           "Barbarella (1968)",
           28
          ],
          [
           1412,
           "Land Before Time III: The Time of the Great Giving (1995) (V)",
           6
          ],
          [
           1413,
           "Street Fighter (1994)",
           8
          ],
          [
           1414,
           "Coldblooded (1995)",
           1
          ],
          [
           1415,
           "Next Karate Kid, The (1994)",
           9
          ],
          [
           1416,
           "No Escape (1994)",
           5
          ],
          [
           1417,
           "Turning, The (1992)",
           2
          ],
          [
           1418,
           "Joy Luck Club, The (1993)",
           3
          ],
          [
           1419,
           "Highlander III: The Sorcerer (1994)",
           16
          ],
          [
           1420,
           "Gilligan's Island: The Movie (1998)",
           3
          ],
          [
           1421,
           "My Crazy Life (Mi vida loca) (1993)",
           11
          ],
          [
           1422,
           "Suture (1993)",
           4
          ],
          [
           1423,
           "Walking Dead, The (1995)",
           4
          ],
          [
           1424,
           "I Like It Like That (1994)",
           3
          ],
          [
           1425,
           "I'll Do Anything (1994)",
           10
          ],
          [
           1426,
           "Grace of My Heart (1996)",
           8
          ],
          [
           1427,
           "Drunks (1995)",
           5
          ],
          [
           1428,
           "SubUrbia (1997)",
           12
          ],
          [
           1429,
           "Sliding Doors (1998)",
           4
          ],
          [
           1430,
           "Ill Gotten Gains (1997)",
           3
          ],
          [
           1431,
           "Legal Deceit (1997)",
           5
          ],
          [
           1432,
           "Mighty, The (1998)",
           3
          ],
          [
           1433,
           "Men of Means (1998)",
           2
          ],
          [
           1434,
           "Shooting Fish (1997)",
           10
          ],
          [
           1435,
           "Steal Big, Steal Little (1995)",
           7
          ],
          [
           1436,
           "Mr. Jones (1993)",
           2
          ],
          [
           1437,
           "House Party 3 (1994)",
           9
          ],
          [
           1438,
           "Panther (1995)",
           5
          ],
          [
           1439,
           "Jason's Lyric (1994)",
           8
          ],
          [
           1440,
           "Above the Rim (1994)",
           5
          ],
          [
           1441,
           "Moonlight and Valentino (1995)",
           7
          ],
          [
           1442,
           "Scarlet Letter, The (1995)",
           5
          ],
          [
           1443,
           "8 Seconds (1994)",
           4
          ],
          [
           1444,
           "That Darn Cat! (1965)",
           19
          ],
          [
           1445,
           "Ladybird Ladybird (1994)",
           4
          ],
          [
           1446,
           "Bye Bye, Love (1995)",
           15
          ],
          [
           1447,
           "Century (1993)",
           1
          ],
          [
           1448,
           "My Favorite Season (1993)",
           3
          ],
          [
           1449,
           "Pather Panchali (1955)",
           8
          ],
          [
           1450,
           "Golden Earrings (1947)",
           2
          ],
          [
           1451,
           "Foreign Correspondent (1940)",
           15
          ],
          [
           1452,
           "Lady of Burlesque (1943)",
           1
          ],
          [
           1453,
           "Angel on My Shoulder (1946)",
           1
          ],
          [
           1454,
           "Angel and the Badman (1947)",
           6
          ],
          [
           1455,
           "Outlaw, The (1943)",
           2
          ],
          [
           1456,
           "Beat the Devil (1954)",
           7
          ],
          [
           1457,
           "Love Is All There Is (1996)",
           1
          ],
          [
           1458,
           "Damsel in Distress, A (1937)",
           1
          ],
          [
           1459,
           "Madame Butterfly (1995)",
           7
          ],
          [
           1460,
           "Sleepover (1995)",
           1
          ],
          [
           1461,
           "Here Comes Cookie (1935)",
           1
          ],
          [
           1462,
           "Thieves (Voleurs, Les) (1996)",
           7
          ],
          [
           1463,
           "Boys, Les (1997)",
           3
          ],
          [
           1464,
           "Stars Fell on Henrietta, The (1995)",
           3
          ],
          [
           1465,
           "Last Summer in the Hamptons (1995)",
           3
          ],
          [
           1466,
           "Margaret's Museum (1995)",
           6
          ],
          [
           1467,
           "Saint of Fort Washington, The (1993)",
           2
          ],
          [
           1468,
           "Cure, The (1995)",
           6
          ],
          [
           1469,
           "Tom and Huck (1995)",
           12
          ],
          [
           1470,
           "Gumby: The Movie (1995)",
           5
          ],
          [
           1471,
           "Hideaway (1995)",
           9
          ],
          [
           1472,
           "Visitors, The (Visiteurs, Les) (1993)",
           2
          ],
          [
           1473,
           "Little Princess, The (1939)",
           9
          ],
          [
           1474,
           "Nina Takes a Lover (1994)",
           6
          ],
          [
           1475,
           "Bhaji on the Beach (1993)",
           8
          ],
          [
           1476,
           "Raw Deal (1948)",
           1
          ],
          [
           1477,
           "Nightwatch (1997)",
           2
          ],
          [
           1478,
           "Dead Presidents (1995)",
           18
          ],
          [
           1479,
           "Reckless (1995)",
           8
          ],
          [
           1480,
           "Herbie Rides Again (1974)",
           11
          ],
          [
           1481,
           "S.F.W. (1994)",
           2
          ],
          [
           1482,
           "Gate of Heavenly Peace, The (1995)",
           1
          ],
          [
           1483,
           "Man in the Iron Mask, The (1998)",
           12
          ],
          [
           1484,
           "Jerky Boys, The (1994)",
           3
          ],
          [
           1485,
           "Colonel Chabert, Le (1994)",
           4
          ],
          [
           1486,
           "Girl in the Cadillac (1995)",
           1
          ],
          [
           1487,
           "Even Cowgirls Get the Blues (1993)",
           5
          ],
          [
           1488,
           "Germinal (1993)",
           4
          ],
          [
           1489,
           "Chasers (1994)",
           5
          ],
          [
           1490,
           "Fausto (1993)",
           3
          ],
          [
           1491,
           "Tough and Deadly (1995)",
           2
          ],
          [
           1492,
           "Window to Paris (1994)",
           1
          ],
          [
           1493,
           "Modern Affair, A (1995)",
           1
          ],
          [
           1494,
           "Mostro, Il (1994)",
           1
          ],
          [
           1495,
           "Flirt (1995)",
           5
          ],
          [
           1496,
           "Carpool (1996)",
           5
          ],
          [
           1497,
           "Line King: Al Hirschfeld, The (1996)",
           2
          ],
          [
           1498,
           "Farmer & Chase (1995)",
           1
          ],
          [
           1499,
           "Grosse Fatigue (1994)",
           4
          ],
          [
           1500,
           "Santa with Muscles (1996)",
           2
          ],
          [
           1501,
           "Prisoner of the Mountains (Kavkazsky Plennik) (1996)",
           5
          ],
          [
           1502,
           "Naked in New York (1994)",
           2
          ],
          [
           1503,
           "Gold Diggers: The Secret of Bear Mountain (1995)",
           10
          ],
          [
           1504,
           "Bewegte Mann, Der (1994)",
           3
          ],
          [
           1505,
           "Killer: A Journal of Murder (1995)",
           1
          ],
          [
           1506,
           "Nelly & Monsieur Arnaud (1995)",
           3
          ],
          [
           1507,
           "Three Lives and Only One Death (1996)",
           1
          ],
          [
           1508,
           "Babysitter, The (1995)",
           3
          ],
          [
           1509,
           "Getting Even with Dad (1994)",
           5
          ],
          [
           1510,
           "Mad Dog Time (1996)",
           1
          ],
          [
           1511,
           "Children of the Revolution (1996)",
           5
          ],
          [
           1512,
           "World of Apu, The (Apur Sansar) (1959)",
           6
          ],
          [
           1513,
           "Sprung (1997)",
           3
          ],
          [
           1514,
           "Dream With the Fishes (1997)",
           7
          ],
          [
           1515,
           "Wings of Courage (1995)",
           1
          ],
          [
           1516,
           "Wedding Gift, The (1994)",
           3
          ],
          [
           1517,
           "Race the Sun (1996)",
           5
          ],
          [
           1518,
           "Losing Isaiah (1995)",
           12
          ],
          [
           1519,
           "New Jersey Drive (1995)",
           2
          ],
          [
           1520,
           "Fear, The (1995)",
           1
          ],
          [
           1521,
           "Mr. Wonderful (1993)",
           4
          ],
          [
           1522,
           "Trial by Jury (1994)",
           7
          ],
          [
           1523,
           "Good Man in Africa, A (1994)",
           2
          ],
          [
           1524,
           "Kaspar Hauser (1993)",
           8
          ],
          [
           1525,
           "Object of My Affection, The (1998)",
           1
          ],
          [
           1526,
           "Witness (1985)",
           1
          ],
          [
           1527,
           "Senseless (1998)",
           7
          ],
          [
           1528,
           "Nowhere (1997)",
           3
          ],
          [
           1529,
           "Underground (1995)",
           5
          ],
          [
           1530,
           "Jefferson in Paris (1995)",
           5
          ],
          [
           1531,
           "Far From Home: The Adventures of Yellow Dog (1995)",
           7
          ],
          [
           1532,
           "Foreign Student (1994)",
           2
          ],
          [
           1533,
           "I Don't Want to Talk About It (De eso no se habla) (1993)",
           1
          ],
          [
           1534,
           "Twin Town (1997)",
           6
          ],
          [
           1535,
           "Enfer, L' (1994)",
           4
          ],
          [
           1536,
           "Aiqing wansui (1994)",
           1
          ],
          [
           1537,
           "Cosi (1996)",
           4
          ],
          [
           1538,
           "All Over Me (1997)",
           3
          ],
          [
           1539,
           "Being Human (1993)",
           4
          ],
          [
           1540,
           "Amazing Panda Adventure, The (1995)",
           10
          ],
          [
           1541,
           "Beans of Egypt, Maine, The (1994)",
           2
          ],
          [
           1542,
           "Scarlet Letter, The (1926)",
           2
          ],
          [
           1543,
           "Johns (1996)",
           1
          ],
          [
           1544,
           "It Takes Two (1995)",
           3
          ],
          [
           1545,
           "Frankie Starlight (1995)",
           4
          ],
          [
           1546,
           "Shadows (Cienie) (1988)",
           1
          ],
          [
           1547,
           "Show, The (1995)",
           2
          ],
          [
           1548,
           "The Courtyard (1995)",
           1
          ],
          [
           1549,
           "Dream Man (1995)",
           2
          ],
          [
           1550,
           "Destiny Turns on the Radio (1995)",
           2
          ],
          [
           1551,
           "Glass Shield, The (1994)",
           2
          ],
          [
           1552,
           "Hunted, The (1995)",
           3
          ],
          [
           1553,
           "Underneath, The (1995)",
           4
          ],
          [
           1554,
           "Safe Passage (1994)",
           2
          ],
          [
           1555,
           "Secret Adventures of Tom Thumb, The (1993)",
           5
          ],
          [
           1556,
           "Condition Red (1995)",
           2
          ],
          [
           1557,
           "Yankee Zulu (1994)",
           1
          ],
          [
           1558,
           "Aparajito (1956)",
           7
          ],
          [
           1559,
           "Hostile Intentions (1994)",
           1
          ],
          [
           1560,
           "Clean Slate (Coup de Torchon) (1981)",
           4
          ],
          [
           1561,
           "Tigrero: A Film That Was Never Made (1994)",
           1
          ],
          [
           1562,
           "Eye of Vichy, The (Oeil de Vichy, L') (1993)",
           1
          ],
          [
           1563,
           "Promise, The (Versprechen, Das) (1994)",
           1
          ],
          [
           1564,
           "To Cross the Rubicon (1991)",
           1
          ],
          [
           1565,
           "Daens (1992)",
           1
          ],
          [
           1566,
           "Man from Down Under, The (1943)",
           1
          ],
          [
           1567,
           "Careful (1992)",
           1
          ],
          [
           1568,
           "Vermont Is For Lovers (1992)",
           1
          ],
          [
           1569,
           "Vie est belle, La (Life is Rosey) (1987)",
           1
          ],
          [
           1570,
           "Quartier Mozart (1992)",
           1
          ],
          [
           1571,
           "Touki Bouki (Journey of the Hyena) (1973)",
           1
          ],
          [
           1572,
           "Wend Kuuni (God's Gift) (1982)",
           1
          ],
          [
           1573,
           "Spirits of the Dead (Tre passi nel delirio) (1968)",
           2
          ],
          [
           1574,
           "Pharaoh's Army (1995)",
           1
          ],
          [
           1575,
           "I, Worst of All (Yo, la peor de todas) (1990)",
           1
          ],
          [
           1576,
           "Hungarian Fairy Tale, A (1987)",
           1
          ],
          [
           1577,
           "Death in the Garden (Mort en ce jardin, La) (1956)",
           1
          ],
          [
           1578,
           "Collectionneuse, La (1967)",
           2
          ],
          [
           1579,
           "Baton Rouge (1988)",
           1
          ],
          [
           1580,
           "Liebelei (1933)",
           1
          ],
          [
           1581,
           "Woman in Question, The (1950)",
           1
          ],
          [
           1582,
           "T-Men (1947)",
           1
          ],
          [
           1583,
           "Invitation, The (Zaproszenie) (1986)",
           1
          ],
          [
           1584,
           "Symphonie pastorale, La (1946)",
           1
          ],
          [
           1585,
           "American Dream (1990)",
           2
          ],
          [
           1586,
           "Lashou shentan (1992)",
           1
          ],
          [
           1587,
           "Terror in a Texas Town (1958)",
           1
          ],
          [
           1588,
           "Salut cousin! (1996)",
           2
          ],
          [
           1589,
           "Schizopolis (1996)",
           4
          ],
          [
           1590,
           "To Have, or Not (1995)",
           2
          ],
          [
           1591,
           "Duoluo tianshi (1995)",
           6
          ],
          [
           1592,
           "Magic Hour, The (1998)",
           5
          ],
          [
           1593,
           "Death in Brunswick (1991)",
           1
          ],
          [
           1594,
           "Everest (1998)",
           2
          ],
          [
           1595,
           "Shopping (1994)",
           1
          ],
          [
           1596,
           "Nemesis 2: Nebula (1995)",
           1
          ],
          [
           1597,
           "Romper Stomper (1992)",
           5
          ],
          [
           1598,
           "City of Industry (1997)",
           6
          ],
          [
           1599,
           "Someone Else's America (1995)",
           1
          ],
          [
           1600,
           "Guantanamera (1994)",
           4
          ],
          [
           1601,
           "Office Killer (1997)",
           1
          ],
          [
           1602,
           "Price Above Rubies, A (1998)",
           3
          ],
          [
           1603,
           "Angela (1995)",
           1
          ],
          [
           1604,
           "He Walked by Night (1948)",
           1
          ],
          [
           1605,
           "Love Serenade (1996)",
           4
          ],
          [
           1606,
           "Deceiver (1997)",
           1
          ],
          [
           1607,
           "Hurricane Streets (1998)",
           3
          ],
          [
           1608,
           "Buddy (1997)",
           4
          ],
          [
           1609,
           "B*A*P*S (1997)",
           3
          ],
          [
           1610,
           "Truth or Consequences, N.M. (1997)",
           3
          ],
          [
           1611,
           "Intimate Relations (1996)",
           2
          ],
          [
           1612,
           "Leading Man, The (1996)",
           4
          ],
          [
           1613,
           "Tokyo Fist (1995)",
           1
          ],
          [
           1614,
           "Reluctant Debutante, The (1958)",
           1
          ],
          [
           1615,
           "Warriors of Virtue (1997)",
           10
          ],
          [
           1616,
           "Desert Winds (1995)",
           1
          ],
          [
           1617,
           "Hugo Pool (1997)",
           2
          ],
          [
           1618,
           "King of New York (1990)",
           1
          ],
          [
           1619,
           "All Things Fair (1996)",
           1
          ],
          [
           1620,
           "Sixth Man, The (1997)",
           9
          ],
          [
           1621,
           "Butterfly Kiss (1995)",
           1
          ],
          [
           1622,
           "Paris, France (1993)",
           3
          ],
          [
           1623,
           "Cérémonie, La (1995)",
           3
          ],
          [
           1624,
           "Hush (1998)",
           1
          ],
          [
           1625,
           "Nightwatch (1997)",
           1
          ],
          [
           1626,
           "Nobody Loves Me (Keiner liebt mich) (1994)",
           1
          ],
          [
           1627,
           "Wife, The (1995)",
           1
          ],
          [
           1628,
           "Lamerica (1994)",
           4
          ],
          [
           1629,
           "Nico Icon (1995)",
           2
          ],
          [
           1630,
           "Silence of the Palace, The (Saimt el Qusur) (1994)",
           1
          ],
          [
           1631,
           "Slingshot, The (1993)",
           2
          ],
          [
           1632,
           "Land and Freedom (Tierra y libertad) (1995)",
           1
          ],
          [
           1633,
           "Á köldum klaka (Cold Fever) (1994)",
           1
          ],
          [
           1634,
           "Etz Hadomim Tafus (Under the Domin Tree) (1994)",
           1
          ],
          [
           1635,
           "Two Friends (1986) ",
           1
          ],
          [
           1636,
           "Brothers in Trouble (1995)",
           1
          ],
          [
           1637,
           "Girls Town (1996)",
           1
          ],
          [
           1638,
           "Normal Life (1996)",
           1
          ],
          [
           1639,
           "Bitter Sugar (Azucar Amargo) (1996)",
           3
          ],
          [
           1640,
           "Eighth Day, The (1996)",
           1
          ],
          [
           1641,
           "Dadetown (1995)",
           1
          ],
          [
           1642,
           "Some Mother's Son (1996)",
           2
          ],
          [
           1643,
           "Angel Baby (1995)",
           4
          ],
          [
           1644,
           "Sudden Manhattan (1996)",
           2
          ],
          [
           1645,
           "Butcher Boy, The (1998)",
           1
          ],
          [
           1646,
           "Men With Guns (1997)",
           2
          ],
          [
           1647,
           "Hana-bi (1997)",
           1
          ],
          [
           1648,
           "Niagara, Niagara (1997)",
           1
          ],
          [
           1649,
           "Big One, The (1997)",
           1
          ],
          [
           1650,
           "Butcher Boy, The (1998)",
           1
          ],
          [
           1651,
           "Spanish Prisoner, The (1997)",
           1
          ],
          [
           1652,
           "Temptress Moon (Feng Yue) (1996)",
           3
          ],
          [
           1653,
           "Entertaining Angels: The Dorothy Day Story (1996)",
           1
          ],
          [
           1654,
           "Chairman of the Board (1998)",
           1
          ],
          [
           1655,
           "Favor, The (1994)",
           1
          ],
          [
           1656,
           "Little City (1998)",
           2
          ],
          [
           1657,
           "Target (1995)",
           1
          ],
          [
           1658,
           "Substance of Fire, The (1996)",
           3
          ],
          [
           1659,
           "Getting Away With Murder (1996)",
           1
          ],
          [
           1660,
           "Small Faces (1995)",
           1
          ],
          [
           1661,
           "New Age, The (1994)",
           1
          ],
          [
           1662,
           "Rough Magic (1995)",
           2
          ],
          [
           1663,
           "Nothing Personal (1995)",
           1
          ],
          [
           1664,
           "8 Heads in a Duffel Bag (1997)",
           4
          ],
          [
           1665,
           "Brother's Kiss, A (1997)",
           1
          ],
          [
           1666,
           "Ripe (1996)",
           1
          ],
          [
           1667,
           "Next Step, The (1995)",
           1
          ],
          [
           1668,
           "Wedding Bell Blues (1996)",
           1
          ],
          [
           1669,
           "MURDER and murder (1996)",
           1
          ],
          [
           1670,
           "Tainted (1998)",
           1
          ],
          [
           1671,
           "Further Gesture, A (1996)",
           1
          ],
          [
           1672,
           "Kika (1993)",
           2
          ],
          [
           1673,
           "Mirage (1995)",
           1
          ],
          [
           1674,
           "Mamma Roma (1962)",
           1
          ],
          [
           1675,
           "Sunchaser, The (1996)",
           1
          ],
          [
           1676,
           "War at Home, The (1996)",
           1
          ],
          [
           1677,
           "Sweet Nothing (1995)",
           1
          ],
          [
           1678,
           "Mat' i syn (1997)",
           1
          ],
          [
           1679,
           "B. Monkey (1998)",
           1
          ],
          [
           1680,
           "Sliding Doors (1998)",
           1
          ],
          [
           1681,
           "You So Crazy (1994)",
           1
          ],
          [
           1682,
           "Scream of Stone (Schrei aus Stein) (1991)",
           1
          ]
         ],
         "hovertemplate": "tsne_1=%{x}<br>tsne_2=%{y}<br>item_id=%{customdata[0]}<br>title=%{customdata[1]}<br>popularity=%{marker.color}<extra></extra>",
         "legendgroup": "",
         "marker": {
          "color": {
           "bdata": "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",
           "dtype": "i2"
          },
          "coloraxis": "coloraxis",
          "symbol": "circle"
         },
         "mode": "markers",
         "name": "",
         "showlegend": false,
         "type": "scattergl",
         "x": {
          "bdata": "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",
          "dtype": "f4"
         },
         "xaxis": "x",
         "y": {
          "bdata": "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",
          "dtype": "f4"
         },
         "yaxis": "y"
        }
       ],
       "layout": {
        "coloraxis": {
         "colorbar": {
          "title": {
           "text": "popularity"
          }
         },
         "colorscale": [
          [
           0,
           "#0d0887"
          ],
          [
           0.1111111111111111,
           "#46039f"
          ],
          [
           0.2222222222222222,
           "#7201a8"
          ],
          [
           0.3333333333333333,
           "#9c179e"
          ],
          [
           0.4444444444444444,
           "#bd3786"
          ],
          [
           0.5555555555555556,
           "#d8576b"
          ],
          [
           0.6666666666666666,
           "#ed7953"
          ],
          [
           0.7777777777777778,
           "#fb9f3a"
          ],
          [
           0.8888888888888888,
           "#fdca26"
          ],
          [
           1,
           "#f0f921"
          ]
         ]
        },
        "legend": {
         "tracegroupgap": 0
        },
        "margin": {
         "t": 60
        },
        "template": {
         "data": {
          "bar": [
           {
            "error_x": {
             "color": "#2a3f5f"
            },
            "error_y": {
             "color": "#2a3f5f"
            },
            "marker": {
             "line": {
              "color": "#E5ECF6",
              "width": 0.5
             },
             "pattern": {
              "fillmode": "overlay",
              "size": 10,
              "solidity": 0.2
             }
            },
            "type": "bar"
           }
          ],
          "barpolar": [
           {
            "marker": {
             "line": {
              "color": "#E5ECF6",
              "width": 0.5
             },
             "pattern": {
              "fillmode": "overlay",
              "size": 10,
              "solidity": 0.2
             }
            },
            "type": "barpolar"
           }
          ],
          "carpet": [
           {
            "aaxis": {
             "endlinecolor": "#2a3f5f",
             "gridcolor": "white",
             "linecolor": "white",
             "minorgridcolor": "white",
             "startlinecolor": "#2a3f5f"
            },
            "baxis": {
             "endlinecolor": "#2a3f5f",
             "gridcolor": "white",
             "linecolor": "white",
             "minorgridcolor": "white",
             "startlinecolor": "#2a3f5f"
            },
            "type": "carpet"
           }
          ],
          "choropleth": [
           {
            "colorbar": {
             "outlinewidth": 0,
             "ticks": ""
            },
            "type": "choropleth"
           }
          ],
          "contour": [
           {
            "colorbar": {
             "outlinewidth": 0,
             "ticks": ""
            },
            "colorscale": [
             [
              0,
              "#0d0887"
             ],
             [
              0.1111111111111111,
              "#46039f"
             ],
             [
              0.2222222222222222,
              "#7201a8"
             ],
             [
              0.3333333333333333,
              "#9c179e"
             ],
             [
              0.4444444444444444,
              "#bd3786"
             ],
             [
              0.5555555555555556,
              "#d8576b"
             ],
             [
              0.6666666666666666,
              "#ed7953"
             ],
             [
              0.7777777777777778,
              "#fb9f3a"
             ],
             [
              0.8888888888888888,
              "#fdca26"
             ],
             [
              1,
              "#f0f921"
             ]
            ],
            "type": "contour"
           }
          ],
          "contourcarpet": [
           {
            "colorbar": {
             "outlinewidth": 0,
             "ticks": ""
            },
            "type": "contourcarpet"
           }
          ],
          "heatmap": [
           {
            "colorbar": {
             "outlinewidth": 0,
             "ticks": ""
            },
            "colorscale": [
             [
              0,
              "#0d0887"
             ],
             [
              0.1111111111111111,
              "#46039f"
             ],
             [
              0.2222222222222222,
              "#7201a8"
             ],
             [
              0.3333333333333333,
              "#9c179e"
             ],
             [
              0.4444444444444444,
              "#bd3786"
             ],
             [
              0.5555555555555556,
              "#d8576b"
             ],
             [
              0.6666666666666666,
              "#ed7953"
             ],
             [
              0.7777777777777778,
              "#fb9f3a"
             ],
             [
              0.8888888888888888,
              "#fdca26"
             ],
             [
              1,
              "#f0f921"
             ]
            ],
            "type": "heatmap"
           }
          ],
          "histogram": [
           {
            "marker": {
             "pattern": {
              "fillmode": "overlay",
              "size": 10,
              "solidity": 0.2
             }
            },
            "type": "histogram"
           }
          ],
          "histogram2d": [
           {
            "colorbar": {
             "outlinewidth": 0,
             "ticks": ""
            },
            "colorscale": [
             [
              0,
              "#0d0887"
             ],
             [
              0.1111111111111111,
              "#46039f"
             ],
             [
              0.2222222222222222,
              "#7201a8"
             ],
             [
              0.3333333333333333,
              "#9c179e"
             ],
             [
              0.4444444444444444,
              "#bd3786"
             ],
             [
              0.5555555555555556,
              "#d8576b"
             ],
             [
              0.6666666666666666,
              "#ed7953"
             ],
             [
              0.7777777777777778,
              "#fb9f3a"
             ],
             [
              0.8888888888888888,
              "#fdca26"
             ],
             [
              1,
              "#f0f921"
             ]
            ],
            "type": "histogram2d"
           }
          ],
          "histogram2dcontour": [
           {
            "colorbar": {
             "outlinewidth": 0,
             "ticks": ""
            },
            "colorscale": [
             [
              0,
              "#0d0887"
             ],
             [
              0.1111111111111111,
              "#46039f"
             ],
             [
              0.2222222222222222,
              "#7201a8"
             ],
             [
              0.3333333333333333,
              "#9c179e"
             ],
             [
              0.4444444444444444,
              "#bd3786"
             ],
             [
              0.5555555555555556,
              "#d8576b"
             ],
             [
              0.6666666666666666,
              "#ed7953"
             ],
             [
              0.7777777777777778,
              "#fb9f3a"
             ],
             [
              0.8888888888888888,
              "#fdca26"
             ],
             [
              1,
              "#f0f921"
             ]
            ],
            "type": "histogram2dcontour"
           }
          ],
          "mesh3d": [
           {
            "colorbar": {
             "outlinewidth": 0,
             "ticks": ""
            },
            "type": "mesh3d"
           }
          ],
          "parcoords": [
           {
            "line": {
             "colorbar": {
              "outlinewidth": 0,
              "ticks": ""
             }
            },
            "type": "parcoords"
           }
          ],
          "pie": [
           {
            "automargin": true,
            "type": "pie"
           }
          ],
          "scatter": [
           {
            "fillpattern": {
             "fillmode": "overlay",
             "size": 10,
             "solidity": 0.2
            },
            "type": "scatter"
           }
          ],
          "scatter3d": [
           {
            "line": {
             "colorbar": {
              "outlinewidth": 0,
              "ticks": ""
             }
            },
            "marker": {
             "colorbar": {
              "outlinewidth": 0,
              "ticks": ""
             }
            },
            "type": "scatter3d"
           }
          ],
          "scattercarpet": [
           {
            "marker": {
             "colorbar": {
              "outlinewidth": 0,
              "ticks": ""
             }
            },
            "type": "scattercarpet"
           }
          ],
          "scattergeo": [
           {
            "marker": {
             "colorbar": {
              "outlinewidth": 0,
              "ticks": ""
             }
            },
            "type": "scattergeo"
           }
          ],
          "scattergl": [
           {
            "marker": {
             "colorbar": {
              "outlinewidth": 0,
              "ticks": ""
             }
            },
            "type": "scattergl"
           }
          ],
          "scattermap": [
           {
            "marker": {
             "colorbar": {
              "outlinewidth": 0,
              "ticks": ""
             }
            },
            "type": "scattermap"
           }
          ],
          "scattermapbox": [
           {
            "marker": {
             "colorbar": {
              "outlinewidth": 0,
              "ticks": ""
             }
            },
            "type": "scattermapbox"
           }
          ],
          "scatterpolar": [
           {
            "marker": {
             "colorbar": {
              "outlinewidth": 0,
              "ticks": ""
             }
            },
            "type": "scatterpolar"
           }
          ],
          "scatterpolargl": [
           {
            "marker": {
             "colorbar": {
              "outlinewidth": 0,
              "ticks": ""
             }
            },
            "type": "scatterpolargl"
           }
          ],
          "scatterternary": [
           {
            "marker": {
             "colorbar": {
              "outlinewidth": 0,
              "ticks": ""
             }
            },
            "type": "scatterternary"
           }
          ],
          "surface": [
           {
            "colorbar": {
             "outlinewidth": 0,
             "ticks": ""
            },
            "colorscale": [
             [
              0,
              "#0d0887"
             ],
             [
              0.1111111111111111,
              "#46039f"
             ],
             [
              0.2222222222222222,
              "#7201a8"
             ],
             [
              0.3333333333333333,
              "#9c179e"
             ],
             [
              0.4444444444444444,
              "#bd3786"
             ],
             [
              0.5555555555555556,
              "#d8576b"
             ],
             [
              0.6666666666666666,
              "#ed7953"
             ],
             [
              0.7777777777777778,
              "#fb9f3a"
             ],
             [
              0.8888888888888888,
              "#fdca26"
             ],
             [
              1,
              "#f0f921"
             ]
            ],
            "type": "surface"
           }
          ],
          "table": [
           {
            "cells": {
             "fill": {
              "color": "#EBF0F8"
             },
             "line": {
              "color": "white"
             }
            },
            "header": {
             "fill": {
              "color": "#C8D4E3"
             },
             "line": {
              "color": "white"
             }
            },
            "type": "table"
           }
          ]
         },
         "layout": {
          "annotationdefaults": {
           "arrowcolor": "#2a3f5f",
           "arrowhead": 0,
           "arrowwidth": 1
          },
          "autotypenumbers": "strict",
          "coloraxis": {
           "colorbar": {
            "outlinewidth": 0,
            "ticks": ""
           }
          },
          "colorscale": {
           "diverging": [
            [
             0,
             "#8e0152"
            ],
            [
             0.1,
             "#c51b7d"
            ],
            [
             0.2,
             "#de77ae"
            ],
            [
             0.3,
             "#f1b6da"
            ],
            [
             0.4,
             "#fde0ef"
            ],
            [
             0.5,
             "#f7f7f7"
            ],
            [
             0.6,
             "#e6f5d0"
            ],
            [
             0.7,
             "#b8e186"
            ],
            [
             0.8,
             "#7fbc41"
            ],
            [
             0.9,
             "#4d9221"
            ],
            [
             1,
             "#276419"
            ]
           ],
           "sequential": [
            [
             0,
             "#0d0887"
            ],
            [
             0.1111111111111111,
             "#46039f"
            ],
            [
             0.2222222222222222,
             "#7201a8"
            ],
            [
             0.3333333333333333,
             "#9c179e"
            ],
            [
             0.4444444444444444,
             "#bd3786"
            ],
            [
             0.5555555555555556,
             "#d8576b"
            ],
            [
             0.6666666666666666,
             "#ed7953"
            ],
            [
             0.7777777777777778,
             "#fb9f3a"
            ],
            [
             0.8888888888888888,
             "#fdca26"
            ],
            [
             1,
             "#f0f921"
            ]
           ],
           "sequentialminus": [
            [
             0,
             "#0d0887"
            ],
            [
             0.1111111111111111,
             "#46039f"
            ],
            [
             0.2222222222222222,
             "#7201a8"
            ],
            [
             0.3333333333333333,
             "#9c179e"
            ],
            [
             0.4444444444444444,
             "#bd3786"
            ],
            [
             0.5555555555555556,
             "#d8576b"
            ],
            [
             0.6666666666666666,
             "#ed7953"
            ],
            [
             0.7777777777777778,
             "#fb9f3a"
            ],
            [
             0.8888888888888888,
             "#fdca26"
            ],
            [
             1,
             "#f0f921"
            ]
           ]
          },
          "colorway": [
           "#636efa",
           "#EF553B",
           "#00cc96",
           "#ab63fa",
           "#FFA15A",
           "#19d3f3",
           "#FF6692",
           "#B6E880",
           "#FF97FF",
           "#FECB52"
          ],
          "font": {
           "color": "#2a3f5f"
          },
          "geo": {
           "bgcolor": "white",
           "lakecolor": "white",
           "landcolor": "#E5ECF6",
           "showlakes": true,
           "showland": true,
           "subunitcolor": "white"
          },
          "hoverlabel": {
           "align": "left"
          },
          "hovermode": "closest",
          "mapbox": {
           "style": "light"
          },
          "paper_bgcolor": "white",
          "plot_bgcolor": "#E5ECF6",
          "polar": {
           "angularaxis": {
            "gridcolor": "white",
            "linecolor": "white",
            "ticks": ""
           },
           "bgcolor": "#E5ECF6",
           "radialaxis": {
            "gridcolor": "white",
            "linecolor": "white",
            "ticks": ""
           }
          },
          "scene": {
           "xaxis": {
            "backgroundcolor": "#E5ECF6",
            "gridcolor": "white",
            "gridwidth": 2,
            "linecolor": "white",
            "showbackground": true,
            "ticks": "",
            "zerolinecolor": "white"
           },
           "yaxis": {
            "backgroundcolor": "#E5ECF6",
            "gridcolor": "white",
            "gridwidth": 2,
            "linecolor": "white",
            "showbackground": true,
            "ticks": "",
            "zerolinecolor": "white"
           },
           "zaxis": {
            "backgroundcolor": "#E5ECF6",
            "gridcolor": "white",
            "gridwidth": 2,
            "linecolor": "white",
            "showbackground": true,
            "ticks": "",
            "zerolinecolor": "white"
           }
          },
          "shapedefaults": {
           "line": {
            "color": "#2a3f5f"
           }
          },
          "ternary": {
           "aaxis": {
            "gridcolor": "white",
            "linecolor": "white",
            "ticks": ""
           },
           "baxis": {
            "gridcolor": "white",
            "linecolor": "white",
            "ticks": ""
           },
           "bgcolor": "#E5ECF6",
           "caxis": {
            "gridcolor": "white",
            "linecolor": "white",
            "ticks": ""
           }
          },
          "title": {
           "x": 0.05
          },
          "xaxis": {
           "automargin": true,
           "gridcolor": "white",
           "linecolor": "white",
           "ticks": "",
           "title": {
            "standoff": 15
           },
           "zerolinecolor": "white",
           "zerolinewidth": 2
          },
          "yaxis": {
           "automargin": true,
           "gridcolor": "white",
           "linecolor": "white",
           "ticks": "",
           "title": {
            "standoff": 15
           },
           "zerolinecolor": "white",
           "zerolinewidth": 2
          }
         }
        },
        "xaxis": {
         "anchor": "y",
         "domain": [
          0,
          1
         ],
         "title": {
          "text": "tsne_1"
         }
        },
        "yaxis": {
         "anchor": "x",
         "domain": [
          0,
          1
         ],
         "title": {
          "text": "tsne_2"
         }
        }
       }
      },
      "text/html": [
       "<div>                        <script type=\"text/javascript\">window.PlotlyConfig = {MathJaxConfig: 'local'};</script>\n",
       "        <script charset=\"utf-8\" src=\"https://cdn.plot.ly/plotly-3.0.1.min.js\" integrity=\"sha256-oy6Be7Eh6eiQFs5M7oXuPxxm9qbJXEtTpfSI93dW16Q=\" crossorigin=\"anonymous\"></script>                <div id=\"44f38680-fdbe-4898-b156-7871fd9b1dd8\" class=\"plotly-graph-div\" style=\"height:100%; width:100%;\"></div>            <script type=\"text/javascript\">                window.PLOTLYENV=window.PLOTLYENV || {};                                if (document.getElementById(\"44f38680-fdbe-4898-b156-7871fd9b1dd8\")) {                    Plotly.newPlot(                        \"44f38680-fdbe-4898-b156-7871fd9b1dd8\",                        [{\"customdata\":[[1,\"Toy Story (1995)\",452],[2,\"GoldenEye (1995)\",131],[3,\"Four Rooms (1995)\",90],[4,\"Get Shorty (1995)\",209],[5,\"Copycat (1995)\",86],[6,\"Shanghai Triad (Yao a yao yao dao waipo qiao) (1995)\",26],[7,\"Twelve Monkeys (1995)\",392],[8,\"Babe (1995)\",219],[9,\"Dead Man Walking (1995)\",299],[10,\"Richard III (1995)\",89],[11,\"Seven (Se7en) (1995)\",236],[12,\"Usual Suspects, The (1995)\",267],[13,\"Mighty Aphrodite (1995)\",184],[14,\"Postino, Il (1994)\",183],[15,\"Mr. Holland's Opus (1995)\",293],[16,\"French Twist (Gazon maudit) (1995)\",39],[17,\"From Dusk Till Dawn (1996)\",92],[18,\"White Balloon, The (1995)\",10],[19,\"Antonia's Line (1995)\",69],[20,\"Angels and Insects (1995)\",72],[21,\"Muppet Treasure Island (1996)\",84],[22,\"Braveheart (1995)\",297],[23,\"Taxi Driver (1976)\",182],[24,\"Rumble in the Bronx (1995)\",174],[25,\"Birdcage, The (1996)\",293],[26,\"Brothers McMullen, The (1995)\",73],[27,\"Bad Boys (1995)\",57],[28,\"Apollo 13 (1995)\",276],[29,\"Batman Forever (1995)\",114],[30,\"Belle de jour (1967)\",37],[31,\"Crimson Tide (1995)\",154],[32,\"Crumb (1994)\",81],[33,\"Desperado (1995)\",97],[34,\"Doom Generation, The (1995)\",7],[35,\"Free Willy 2: The Adventure Home (1995)\",11],[36,\"Mad Love (1995)\",13],[37,\"Nadja (1994)\",8],[38,\"Net, The (1995)\",120],[39,\"Strange Days (1995)\",87],[40,\"To Wong Foo, Thanks for Everything! Julie Newmar (1995)\",57],[41,\"Billy Madison (1995)\",37],[42,\"Clerks (1994)\",148],[43,\"Disclosure (1994)\",40],[44,\"Dolores Claiborne (1994)\",79],[45,\"Eat Drink Man Woman (1994)\",80],[46,\"Exotica (1994)\",27],[47,\"Ed Wood (1994)\",133],[48,\"Hoop Dreams (1994)\",117],[49,\"I.Q. (1994)\",81],[50,\"Star Wars (1977)\",583],[51,\"Legends of the Fall (1994)\",81],[52,\"Madness of King George, The (1994)\",91],[53,\"Natural Born Killers (1994)\",128],[54,\"Outbreak (1995)\",104],[55,\"Professional, The (1994)\",149],[56,\"Pulp Fiction (1994)\",394],[57,\"Priest (1994)\",40],[58,\"Quiz Show (1994)\",175],[59,\"Three Colors: Red (1994)\",83],[60,\"Three Colors: Blue (1993)\",64],[61,\"Three Colors: White (1994)\",59],[62,\"Stargate (1994)\",127],[63,\"Santa Clause, The (1994)\",82],[64,\"Shawshank Redemption, The (1994)\",283],[65,\"What's Eating Gilbert Grape (1993)\",115],[66,\"While You Were Sleeping (1995)\",162],[67,\"Ace Ventura: Pet Detective (1994)\",103],[68,\"Crow, The (1994)\",134],[69,\"Forrest Gump (1994)\",321],[70,\"Four Weddings and a Funeral (1994)\",251],[71,\"Lion King, The (1994)\",220],[72,\"Mask, The (1994)\",129],[73,\"Maverick (1994)\",128],[74,\"Faster Pussycat! Kill! Kill! (1965)\",7],[75,\"Brother Minister: The Assassination of Malcolm X (1994)\",5],[76,\"Carlito's Way (1993)\",54],[77,\"Firm, The (1993)\",151],[78,\"Free Willy (1993)\",33],[79,\"Fugitive, The (1993)\",336],[80,\"Hot Shots! Part Deux (1993)\",68],[81,\"Hudsucker Proxy, The (1994)\",110],[82,\"Jurassic Park (1993)\",261],[83,\"Much Ado About Nothing (1993)\",176],[84,\"Robert A. Heinlein's The Puppet Masters (1994)\",18],[85,\"Ref, The (1994)\",58],[86,\"Remains of the Day, The (1993)\",150],[87,\"Searching for Bobby Fischer (1993)\",138],[88,\"Sleepless in Seattle (1993)\",213],[89,\"Blade Runner (1982)\",275],[90,\"So I Married an Axe Murderer (1993)\",95],[91,\"Nightmare Before Christmas, The (1993)\",143],[92,\"True Romance (1993)\",104],[93,\"Welcome to the Dollhouse (1995)\",112],[94,\"Home Alone (1990)\",137],[95,\"Aladdin (1992)\",219],[96,\"Terminator 2: Judgment Day (1991)\",295],[97,\"Dances with Wolves (1990)\",256],[98,\"Silence of the Lambs, The (1991)\",390],[99,\"Snow White and the Seven Dwarfs (1937)\",172],[100,\"Fargo (1996)\",508],[101,\"Heavy Metal (1981)\",73],[102,\"Aristocats, The (1970)\",54],[103,\"All Dogs Go to Heaven 2 (1996)\",15],[104,\"Theodore Rex (1995)\",5],[105,\"Sgt. Bilko (1996)\",74],[106,\"Diabolique (1996)\",71],[107,\"Moll Flanders (1996)\",42],[108,\"Kids in the Hall: Brain Candy (1996)\",65],[109,\"Mystery Science Theater 3000: The Movie (1996)\",130],[110,\"Operation Dumbo Drop (1995)\",31],[111,\"Truth About Cats & Dogs, The (1996)\",272],[112,\"Flipper (1996)\",20],[113,\"Horseman on the Roof, The (Hussard sur le toit, Le) (1995)\",9],[114,\"Wallace & Gromit: The Best of Aardman Animation (1996)\",67],[115,\"Haunted World of Edward D. Wood Jr., The (1995)\",15],[116,\"Cold Comfort Farm (1995)\",125],[117,\"Rock, The (1996)\",378],[118,\"Twister (1996)\",293],[119,\"Maya Lin: A Strong Clear Vision (1994)\",4],[120,\"Striptease (1996)\",67],[121,\"Independence Day (ID4) (1996)\",429],[122,\"Cable Guy, The (1996)\",106],[123,\"Frighteners, The (1996)\",115],[124,\"Lone Star (1996)\",187],[125,\"Phenomenon (1996)\",244],[126,\"Spitfire Grill, The (1996)\",97],[127,\"Godfather, The (1972)\",413],[128,\"Supercop (1992)\",65],[129,\"Bound (1996)\",129],[130,\"Kansas City (1996)\",23],[131,\"Breakfast at Tiffany's (1961)\",95],[132,\"Wizard of Oz, The (1939)\",246],[133,\"Gone with the Wind (1939)\",171],[134,\"Citizen Kane (1941)\",198],[135,\"2001: A Space Odyssey (1968)\",259],[136,\"Mr. Smith Goes to Washington (1939)\",105],[137,\"Big Night (1996)\",171],[138,\"D3: The Mighty Ducks (1996)\",19],[139,\"Love Bug, The (1969)\",50],[140,\"Homeward Bound: The Incredible Journey (1993)\",61],[141,\"20,000 Leagues Under the Sea (1954)\",72],[142,\"Bedknobs and Broomsticks (1971)\",57],[143,\"Sound of Music, The (1965)\",222],[144,\"Die Hard (1988)\",243],[145,\"Lawnmower Man, The (1992)\",65],[146,\"Unhook the Stars (1996)\",10],[147,\"Long Kiss Goodnight, The (1996)\",185],[148,\"Ghost and the Darkness, The (1996)\",128],[149,\"Jude (1996)\",23],[150,\"Swingers (1996)\",157],[151,\"Willy Wonka and the Chocolate Factory (1971)\",326],[152,\"Sleeper (1973)\",82],[153,\"Fish Called Wanda, A (1988)\",247],[154,\"Monty Python's Life of Brian (1979)\",174],[155,\"Dirty Dancing (1987)\",98],[156,\"Reservoir Dogs (1992)\",148],[157,\"Platoon (1986)\",127],[158,\"Weekend at Bernie's (1989)\",60],[159,\"Basic Instinct (1992)\",101],[160,\"Glengarry Glen Ross (1992)\",69],[161,\"Top Gun (1986)\",220],[162,\"On Golden Pond (1981)\",106],[163,\"Return of the Pink Panther, The (1974)\",92],[164,\"Abyss, The (1989)\",151],[165,\"Jean de Florette (1986)\",64],[166,\"Manon of the Spring (Manon des sources) (1986)\",58],[167,\"Private Benjamin (1980)\",67],[168,\"Monty Python and the Holy Grail (1974)\",316],[169,\"Wrong Trousers, The (1993)\",118],[170,\"Cinema Paradiso (1988)\",121],[171,\"Delicatessen (1991)\",65],[172,\"Empire Strikes Back, The (1980)\",367],[173,\"Princess Bride, The (1987)\",324],[174,\"Raiders of the Lost Ark (1981)\",420],[175,\"Brazil (1985)\",208],[176,\"Aliens (1986)\",284],[177,\"Good, The Bad and The Ugly, The (1966)\",137],[178,\"12 Angry Men (1957)\",125],[179,\"Clockwork Orange, A (1971)\",221],[180,\"Apocalypse Now (1979)\",221],[181,\"Return of the Jedi (1983)\",507],[182,\"GoodFellas (1990)\",226],[183,\"Alien (1979)\",291],[184,\"Army of Darkness (1993)\",116],[185,\"Psycho (1960)\",239],[186,\"Blues Brothers, The (1980)\",251],[187,\"Godfather: Part II, The (1974)\",209],[188,\"Full Metal Jacket (1987)\",170],[189,\"Grand Day Out, A (1992)\",66],[190,\"Henry V (1989)\",124],[191,\"Amadeus (1984)\",276],[192,\"Raging Bull (1980)\",116],[193,\"Right Stuff, The (1983)\",157],[194,\"Sting, The (1973)\",241],[195,\"Terminator, The (1984)\",301],[196,\"Dead Poets Society (1989)\",251],[197,\"Graduate, The (1967)\",239],[198,\"Nikita (La Femme Nikita) (1990)\",127],[199,\"Bridge on the River Kwai, The (1957)\",165],[200,\"Shining, The (1980)\",206],[201,\"Evil Dead II (1987)\",89],[202,\"Groundhog Day (1993)\",280],[203,\"Unforgiven (1992)\",182],[204,\"Back to the Future (1985)\",350],[205,\"Patton (1970)\",136],[206,\"Akira (1988)\",50],[207,\"Cyrano de Bergerac (1990)\",66],[208,\"Young Frankenstein (1974)\",200],[209,\"This Is Spinal Tap (1984)\",191],[210,\"Indiana Jones and the Last Crusade (1989)\",331],[211,\"M*A*S*H (1970)\",206],[212,\"Unbearable Lightness of Being, The (1988)\",92],[213,\"Room with a View, A (1986)\",134],[214,\"Pink Floyd - The Wall (1982)\",114],[215,\"Field of Dreams (1989)\",212],[216,\"When Harry Met Sally... (1989)\",290],[217,\"Bram Stoker's Dracula (1992)\",120],[218,\"Cape Fear (1991)\",171],[219,\"Nightmare on Elm Street, A (1984)\",111],[220,\"Mirror Has Two Faces, The (1996)\",66],[221,\"Breaking the Waves (1996)\",74],[222,\"Star Trek: First Contact (1996)\",365],[223,\"Sling Blade (1996)\",136],[224,\"Ridicule (1996)\",44],[225,\"101 Dalmatians (1996)\",109],[226,\"Die Hard 2 (1990)\",166],[227,\"Star Trek VI: The Undiscovered Country (1991)\",161],[228,\"Star Trek: The Wrath of Khan (1982)\",244],[229,\"Star Trek III: The Search for Spock (1984)\",171],[230,\"Star Trek IV: The Voyage Home (1986)\",199],[231,\"Batman Returns (1992)\",142],[232,\"Young Guns (1988)\",101],[233,\"Under Siege (1992)\",124],[234,\"Jaws (1975)\",280],[235,\"Mars Attacks! (1996)\",217],[236,\"Citizen Ruth (1996)\",45],[237,\"Jerry Maguire (1996)\",384],[238,\"Raising Arizona (1987)\",256],[239,\"Sneakers (1992)\",150],[240,\"Beavis and Butt-head Do America (1996)\",156],[241,\"Last of the Mohicans, The (1992)\",128],[242,\"Kolya (1996)\",117],[243,\"Jungle2Jungle (1997)\",132],[244,\"Smilla's Sense of Snow (1997)\",48],[245,\"Devil's Own, The (1997)\",240],[246,\"Chasing Amy (1997)\",124],[247,\"Turbo: A Power Rangers Movie (1997)\",5],[248,\"Grosse Pointe Blank (1997)\",160],[249,\"Austin Powers: International Man of Mystery (1997)\",130],[250,\"Fifth Element, The (1997)\",197],[251,\"Shall We Dance? (1996)\",46],[252,\"Lost World: Jurassic Park, The (1997)\",158],[253,\"Pillow Book, The (1995)\",26],[254,\"Batman & Robin (1997)\",62],[255,\"My Best Friend's Wedding (1997)\",172],[256,\"When the Cats Away (Chacun cherche son chat) (1996)\",16],[257,\"Men in Black (1997)\",303],[258,\"Contact (1997)\",509],[259,\"George of the Jungle (1997)\",162],[260,\"Event Horizon (1997)\",127],[261,\"Air Bud (1997)\",43],[262,\"In the Company of Men (1997)\",66],[263,\"Steel (1997)\",19],[264,\"Mimic (1997)\",101],[265,\"Hunt for Red October, The (1990)\",227],[266,\"Kull the Conqueror (1997)\",35],[267,\"unknown\",9],[268,\"Chasing Amy (1997)\",255],[269,\"Full Monty, The (1997)\",315],[270,\"Gattaca (1997)\",136],[271,\"Starship Troopers (1997)\",211],[272,\"Good Will Hunting (1997)\",198],[273,\"Heat (1995)\",223],[274,\"Sabrina (1995)\",190],[275,\"Sense and Sensibility (1995)\",268],[276,\"Leaving Las Vegas (1995)\",298],[277,\"Restoration (1995)\",71],[278,\"Bed of Roses (1996)\",60],[279,\"Once Upon a Time... When We Were Colored (1995)\",28],[280,\"Up Close and Personal (1996)\",85],[281,\"River Wild, The (1994)\",146],[282,\"Time to Kill, A (1996)\",232],[283,\"Emma (1996)\",177],[284,\"Tin Cup (1996)\",193],[285,\"Secrets & Lies (1996)\",162],[286,\"English Patient, The (1996)\",481],[287,\"Marvin's Room (1996)\",78],[288,\"Scream (1996)\",478],[289,\"Evita (1996)\",259],[290,\"Fierce Creatures (1997)\",96],[291,\"Absolute Power (1997)\",127],[292,\"Rosewood (1997)\",114],[293,\"Donnie Brasco (1997)\",147],[294,\"Liar Liar (1997)\",485],[295,\"Breakdown (1997)\",77],[296,\"Promesse, La (1996)\",6],[297,\"Ulee's Gold (1997)\",50],[298,\"Face\\u002fOff (1997)\",194],[299,\"Hoodlum (1997)\",73],[300,\"Air Force One (1997)\",431],[301,\"In & Out (1997)\",230],[302,\"L.A. Confidential (1997)\",297],[303,\"Ulee's Gold (1997)\",134],[304,\"Fly Away Home (1996)\",149],[305,\"Ice Storm, The (1997)\",87],[306,\"Mrs. Brown (Her Majesty, Mrs. Brown) (1997)\",96],[307,\"Devil's Advocate, The (1997)\",188],[308,\"FairyTale: A True Story (1997)\",30],[309,\"Deceiver (1997)\",28],[310,\"Rainmaker, The (1997)\",145],[311,\"Wings of the Dove, The (1997)\",75],[312,\"Midnight in the Garden of Good and Evil (1997)\",80],[313,\"Titanic (1997)\",350],[314,\"3 Ninjas: High Noon At Mega Mountain (1998)\",5],[315,\"Apt Pupil (1998)\",160],[316,\"As Good As It Gets (1997)\",112],[317,\"In the Name of the Father (1993)\",102],[318,\"Schindler's List (1993)\",298],[319,\"Everyone Says I Love You (1996)\",168],[320,\"Paradise Lost: The Child Murders at Robin Hood Hills (1996)\",20],[321,\"Mother (1996)\",169],[322,\"Murder at 1600 (1997)\",218],[323,\"Dante's Peak (1997)\",240],[324,\"Lost Highway (1997)\",125],[325,\"Crash (1996)\",128],[326,\"G.I. Jane (1997)\",175],[327,\"Cop Land (1997)\",175],[328,\"Conspiracy Theory (1997)\",295],[329,\"Desperate Measures (1998)\",45],[330,\"187 (1997)\",41],[331,\"Edge, The (1997)\",113],[332,\"Kiss the Girls (1997)\",143],[333,\"Game, The (1997)\",251],[334,\"U Turn (1997)\",64],[335,\"How to Be a Player (1997)\",21],[336,\"Playing God (1997)\",43],[337,\"House of Yes, The (1997)\",18],[338,\"Bean (1997)\",91],[339,\"Mad City (1997)\",47],[340,\"Boogie Nights (1997)\",189],[341,\"Critical Care (1997)\",11],[342,\"Man Who Knew Too Little, The (1997)\",52],[343,\"Alien: Resurrection (1997)\",124],[344,\"Apostle, The (1997)\",55],[345,\"Deconstructing Harry (1997)\",65],[346,\"Jackie Brown (1997)\",126],[347,\"Wag the Dog (1997)\",137],[348,\"Desperate Measures (1998)\",27],[349,\"Hard Rain (1998)\",31],[350,\"Fallen (1998)\",41],[351,\"Prophecy II, The (1998)\",20],[352,\"Spice World (1997)\",26],[353,\"Deep Rising (1998)\",14],[354,\"Wedding Singer, The (1998)\",72],[355,\"Sphere (1998)\",41],[356,\"Client, The (1994)\",97],[357,\"One Flew Over the Cuckoo's Nest (1975)\",264],[358,\"Spawn (1997)\",143],[359,\"Assignment, The (1997)\",18],[360,\"Wonderland (1997)\",10],[361,\"Incognito (1997)\",10],[362,\"Blues Brothers 2000 (1998)\",28],[363,\"Sudden Death (1995)\",47],[364,\"Ace Ventura: When Nature Calls (1995)\",37],[365,\"Powder (1995)\",48],[366,\"Dangerous Minds (1995)\",47],[367,\"Clueless (1995)\",170],[368,\"Bio-Dome (1996)\",31],[369,\"Black Sheep (1996)\",55],[370,\"Mary Reilly (1996)\",39],[371,\"Bridges of Madison County, The (1995)\",67],[372,\"Jeffrey (1995)\",34],[373,\"Judge Dredd (1995)\",39],[374,\"Mighty Morphin Power Rangers: The Movie (1995)\",11],[375,\"Showgirls (1995)\",23],[376,\"Houseguest (1994)\",24],[377,\"Heavyweights (1994)\",13],[378,\"Miracle on 34th Street (1994)\",101],[379,\"Tales From the Crypt Presents: Demon Knight (1995)\",43],[380,\"Star Trek: Generations (1994)\",116],[381,\"Muriel's Wedding (1994)\",100],[382,\"Adventures of Priscilla, Queen of the Desert, The (1994)\",111],[383,\"Flintstones, The (1994)\",31],[384,\"Naked Gun 33 1\\u002f3: The Final Insult (1994)\",69],[385,\"True Lies (1994)\",208],[386,\"Addams Family Values (1993)\",87],[387,\"Age of Innocence, The (1993)\",65],[388,\"Beverly Hills Cop III (1994)\",28],[389,\"Black Beauty (1994)\",27],[390,\"Fear of a Black Hat (1993)\",10],[391,\"Last Action Hero (1993)\",59],[392,\"Man Without a Face, The (1993)\",68],[393,\"Mrs. Doubtfire (1993)\",192],[394,\"Radioland Murders (1994)\",12],[395,\"Robin Hood: Men in Tights (1993)\",56],[396,\"Serial Mom (1994)\",54],[397,\"Striking Distance (1993)\",12],[398,\"Super Mario Bros. (1993)\",26],[399,\"Three Musketeers, The (1993)\",89],[400,\"Little Rascals, The (1994)\",18],[401,\"Brady Bunch Movie, The (1995)\",76],[402,\"Ghost (1990)\",170],[403,\"Batman (1989)\",201],[404,\"Pinocchio (1940)\",101],[405,\"Mission: Impossible (1996)\",344],[406,\"Thinner (1996)\",49],[407,\"Spy Hard (1996)\",43],[408,\"Close Shave, A (1995)\",112],[409,\"Jack (1996)\",70],[410,\"Kingpin (1996)\",162],[411,\"Nutty Professor, The (1996)\",163],[412,\"Very Brady Sequel, A (1996)\",93],[413,\"Tales from the Crypt Presents: Bordello of Blood (1996)\",55],[414,\"My Favorite Year (1982)\",62],[415,\"Apple Dumpling Gang, The (1975)\",25],[416,\"Old Yeller (1957)\",64],[417,\"Parent Trap, The (1961)\",73],[418,\"Cinderella (1950)\",129],[419,\"Mary Poppins (1964)\",178],[420,\"Alice in Wonderland (1951)\",81],[421,\"William Shakespeare's Romeo and Juliet (1996)\",106],[422,\"Aladdin and the King of Thieves (1996)\",26],[423,\"E.T. the Extra-Terrestrial (1982)\",300],[424,\"Children of the Corn: The Gathering (1996)\",19],[425,\"Bob Roberts (1992)\",85],[426,\"Transformers: The Movie, The (1986)\",32],[427,\"To Kill a Mockingbird (1962)\",219],[428,\"Harold and Maude (1971)\",121],[429,\"Day the Earth Stood Still, The (1951)\",97],[430,\"Duck Soup (1933)\",93],[431,\"Highlander (1986)\",153],[432,\"Fantasia (1940)\",174],[433,\"Heathers (1989)\",171],[434,\"Forbidden Planet (1956)\",67],[435,\"Butch Cassidy and the Sundance Kid (1969)\",216],[436,\"American Werewolf in London, An (1981)\",99],[437,\"Amityville 1992: It's About Time (1992)\",5],[438,\"Amityville 3-D (1983)\",6],[439,\"Amityville: A New Generation (1993)\",5],[440,\"Amityville II: The Possession (1982)\",14],[441,\"Amityville Horror, The (1979)\",53],[442,\"Amityville Curse, The (1990)\",4],[443,\"Birds, The (1963)\",162],[444,\"Blob, The (1958)\",46],[445,\"Body Snatcher, The (1945)\",22],[446,\"Burnt Offerings (1976)\",9],[447,\"Carrie (1976)\",121],[448,\"Omen, The (1976)\",85],[449,\"Star Trek: The Motion Picture (1979)\",117],[450,\"Star Trek V: The Final Frontier (1989)\",63],[451,\"Grease (1978)\",170],[452,\"Jaws 2 (1978)\",66],[453,\"Jaws 3-D (1983)\",16],[454,\"Bastard Out of Carolina (1996)\",16],[455,\"Jackie Chan's First Strike (1996)\",145],[456,\"Beverly Hills Ninja (1997)\",48],[457,\"Free Willy 3: The Rescue (1997)\",27],[458,\"Nixon (1995)\",90],[459,\"Cry, the Beloved Country (1995)\",24],[460,\"Crossing Guard, The (1995)\",28],[461,\"Smoke (1995)\",74],[462,\"Like Water For Chocolate (Como agua para chocolate) (1992)\",148],[463,\"Secret of Roan Inish, The (1994)\",71],[464,\"Vanya on 42nd Street (1994)\",27],[465,\"Jungle Book, The (1994)\",85],[466,\"Red Rock West (1992)\",52],[467,\"Bronx Tale, A (1993)\",48],[468,\"Rudy (1993)\",64],[469,\"Short Cuts (1993)\",67],[470,\"Tombstone (1993)\",108],[471,\"Courage Under Fire (1996)\",221],[472,\"Dragonheart (1996)\",158],[473,\"James and the Giant Peach (1996)\",126],[474,\"Dr. Strangelove or: How I Learned to Stop Worrying and Love the Bomb (1963)\",194],[475,\"Trainspotting (1996)\",250],[476,\"First Wives Club, The (1996)\",160],[477,\"Matilda (1996)\",95],[478,\"Philadelphia Story, The (1940)\",104],[479,\"Vertigo (1958)\",179],[480,\"North by Northwest (1959)\",179],[481,\"Apartment, The (1960)\",63],[482,\"Some Like It Hot (1959)\",128],[483,\"Casablanca (1942)\",243],[484,\"Maltese Falcon, The (1941)\",138],[485,\"My Fair Lady (1964)\",125],[486,\"Sabrina (1954)\",64],[487,\"Roman Holiday (1953)\",68],[488,\"Sunset Blvd. (1950)\",65],[489,\"Notorious (1946)\",52],[490,\"To Catch a Thief (1955)\",50],[491,\"Adventures of Robin Hood, The (1938)\",67],[492,\"East of Eden (1955)\",59],[493,\"Thin Man, The (1934)\",60],[494,\"His Girl Friday (1940)\",56],[495,\"Around the World in 80 Days (1956)\",59],[496,\"It's a Wonderful Life (1946)\",231],[497,\"Bringing Up Baby (1938)\",68],[498,\"African Queen, The (1951)\",152],[499,\"Cat on a Hot Tin Roof (1958)\",62],[500,\"Fly Away Home (1996)\",31],[501,\"Dumbo (1941)\",123],[502,\"Bananas (1971)\",57],[503,\"Candidate, The (1972)\",39],[504,\"Bonnie and Clyde (1967)\",122],[505,\"Dial M for Murder (1954)\",68],[506,\"Rebel Without a Cause (1955)\",90],[507,\"Streetcar Named Desire, A (1951)\",98],[508,\"People vs. Larry Flynt, The (1996)\",215],[509,\"My Left Foot (1989)\",121],[510,\"Magnificent Seven, The (1954)\",121],[511,\"Lawrence of Arabia (1962)\",173],[512,\"Wings of Desire (1987)\",57],[513,\"Third Man, The (1949)\",72],[514,\"Annie Hall (1977)\",180],[515,\"Boot, Das (1981)\",201],[516,\"Local Hero (1983)\",63],[517,\"Manhattan (1979)\",91],[518,\"Miller's Crossing (1990)\",89],[519,\"Treasure of the Sierra Madre, The (1948)\",80],[520,\"Great Escape, The (1963)\",124],[521,\"Deer Hunter, The (1978)\",120],[522,\"Down by Law (1986)\",35],[523,\"Cool Hand Luke (1967)\",164],[524,\"Great Dictator, The (1940)\",46],[525,\"Big Sleep, The (1946)\",73],[526,\"Ben-Hur (1959)\",124],[527,\"Gandhi (1982)\",195],[528,\"Killing Fields, The (1984)\",121],[529,\"My Life as a Dog (Mitt liv som hund) (1985)\",93],[530,\"Man Who Would Be King, The (1975)\",80],[531,\"Shine (1996)\",129],[532,\"Kama Sutra: A Tale of Love (1996)\",22],[533,\"Daytrippers, The (1996)\",15],[534,\"Traveller (1997)\",13],[535,\"Addicted to Love (1997)\",54],[536,\"Ponette (1996)\",10],[537,\"My Own Private Idaho (1991)\",30],[538,\"Anastasia (1997)\",66],[539,\"Mouse Hunt (1997)\",44],[540,\"Money Train (1995)\",43],[541,\"Mortal Kombat (1995)\",49],[542,\"Pocahontas (1995)\",51],[543,\"Mis\\u00e9rables, Les (1995)\",21],[544,\"Things to Do in Denver when You're Dead (1995)\",71],[545,\"Vampire in Brooklyn (1995)\",12],[546,\"Broken Arrow (1996)\",254],[547,\"Young Poisoner's Handbook, The (1995)\",41],[548,\"NeverEnding Story III, The (1994)\",12],[549,\"Rob Roy (1995)\",92],[550,\"Die Hard: With a Vengeance (1995)\",151],[551,\"Lord of Illusions (1995)\",24],[552,\"Species (1995)\",45],[553,\"Walk in the Clouds, A (1995)\",63],[554,\"Waterworld (1995)\",102],[555,\"White Man's Burden (1995)\",10],[556,\"Wild Bill (1995)\",12],[557,\"Farinelli: il castrato (1994)\",17],[558,\"Heavenly Creatures (1994)\",70],[559,\"Interview with the Vampire (1994)\",137],[560,\"Kid in King Arthur's Court, A (1995)\",22],[561,\"Mary Shelley's Frankenstein (1994)\",59],[562,\"Quick and the Dead, The (1995)\",48],[563,\"Stephen King's The Langoliers (1995)\",29],[564,\"Tales from the Hood (1995)\",27],[565,\"Village of the Damned (1995)\",22],[566,\"Clear and Present Danger (1994)\",179],[567,\"Wes Craven's New Nightmare (1994)\",35],[568,\"Speed (1994)\",230],[569,\"Wolf (1994)\",67],[570,\"Wyatt Earp (1994)\",50],[571,\"Another Stakeout (1993)\",28],[572,\"Blown Away (1994)\",29],[573,\"Body Snatchers (1993)\",33],[574,\"Boxing Helena (1993)\",15],[575,\"City Slickers II: The Legend of Curly's Gold (1994)\",44],[576,\"Cliffhanger (1993)\",93],[577,\"Coneheads (1993)\",41],[578,\"Demolition Man (1993)\",92],[579,\"Fatal Instinct (1993)\",19],[580,\"Englishman Who Went Up a Hill, But Came Down a Mountain, The (1995)\",32],[581,\"Kalifornia (1993)\",59],[582,\"Piano, The (1993)\",168],[583,\"Romeo Is Bleeding (1993)\",37],[584,\"Secret Garden, The (1993)\",79],[585,\"Son in Law (1993)\",39],[586,\"Terminal Velocity (1994)\",34],[587,\"Hour of the Pig, The (1993)\",14],[588,\"Beauty and the Beast (1991)\",202],[589,\"Wild Bunch, The (1969)\",43],[590,\"Hellraiser: Bloodline (1996)\",18],[591,\"Primal Fear (1996)\",178],[592,\"True Crime (1995)\",9],[593,\"Stalingrad (1993)\",12],[594,\"Heavy (1995)\",5],[595,\"Fan, The (1996)\",64],[596,\"Hunchback of Notre Dame, The (1996)\",127],[597,\"Eraser (1996)\",206],[598,\"Big Squeeze, The (1996)\",4],[599,\"Police Story 4: Project S (Chao ji ji hua) (1993)\",1],[600,\"Daniel Defoe's Robinson Crusoe (1996)\",2],[601,\"For Whom the Bell Tolls (1943)\",20],[602,\"American in Paris, An (1951)\",50],[603,\"Rear Window (1954)\",209],[604,\"It Happened One Night (1934)\",81],[605,\"Meet Me in St. Louis (1944)\",31],[606,\"All About Eve (1950)\",66],[607,\"Rebecca (1940)\",66],[608,\"Spellbound (1945)\",30],[609,\"Father of the Bride (1950)\",60],[610,\"Gigi (1958)\",41],[611,\"Laura (1944)\",40],[612,\"Lost Horizon (1937)\",34],[613,\"My Man Godfrey (1936)\",27],[614,\"Giant (1956)\",51],[615,\"39 Steps, The (1935)\",59],[616,\"Night of the Living Dead (1968)\",64],[617,\"Blue Angel, The (Blaue Engel, Der) (1930)\",18],[618,\"Picnic (1955)\",18],[619,\"Extreme Measures (1996)\",64],[620,\"Chamber, The (1996)\",43],[621,\"Davy Crockett, King of the Wild Frontier (1955)\",11],[622,\"Swiss Family Robinson (1960)\",39],[623,\"Angels in the Outfield (1994)\",39],[624,\"Three Caballeros, The (1945)\",22],[625,\"Sword in the Stone, The (1963)\",82],[626,\"So Dear to My Heart (1949)\",4],[627,\"Robin Hood: Prince of Thieves (1991)\",75],[628,\"Sleepers (1996)\",169],[629,\"Victor\\u002fVictoria (1982)\",77],[630,\"Great Race, The (1965)\",31],[631,\"Crying Game, The (1992)\",119],[632,\"Sophie's Choice (1982)\",58],[633,\"Christmas Carol, A (1938)\",69],[634,\"Microcosmos: Le peuple de l'herbe (1996)\",24],[635,\"Fog, The (1980)\",23],[636,\"Escape from New York (1981)\",91],[637,\"Howling, The (1981)\",38],[638,\"Return of Martin Guerre, The (Retour de Martin Guerre, Le) (1982)\",44],[639,\"Tin Drum, The (Blechtrommel, Die) (1979)\",40],[640,\"Cook the Thief His Wife & Her Lover, The (1989)\",82],[641,\"Paths of Glory (1957)\",33],[642,\"Grifters, The (1990)\",89],[643,\"The Innocent (1994)\",4],[644,\"Thin Blue Line, The (1988)\",35],[645,\"Paris Is Burning (1990)\",27],[646,\"Once Upon a Time in the West (1969)\",38],[647,\"Ran (1985)\",70],[648,\"Quiet Man, The (1952)\",67],[649,\"Once Upon a Time in America (1984)\",50],[650,\"Seventh Seal, The (Sjunde inseglet, Det) (1957)\",72],[651,\"Glory (1989)\",171],[652,\"Rosencrantz and Guildenstern Are Dead (1990)\",90],[653,\"Touch of Evil (1958)\",34],[654,\"Chinatown (1974)\",147],[655,\"Stand by Me (1986)\",227],[656,\"M (1931)\",44],[657,\"Manchurian Candidate, The (1962)\",131],[658,\"Pump Up the Volume (1990)\",79],[659,\"Arsenic and Old Lace (1944)\",115],[660,\"Fried Green Tomatoes (1991)\",153],[661,\"High Noon (1952)\",88],[662,\"Somewhere in Time (1980)\",82],[663,\"Being There (1979)\",116],[664,\"Paris, Texas (1984)\",46],[665,\"Alien 3 (1992)\",100],[666,\"Blood For Dracula (Andy Warhol's Dracula) (1974)\",5],[667,\"Audrey Rose (1977)\",12],[668,\"Blood Beach (1981)\",6],[669,\"Body Parts (1991)\",13],[670,\"Body Snatchers (1993)\",36],[671,\"Bride of Frankenstein (1935)\",46],[672,\"Candyman (1992)\",65],[673,\"Cape Fear (1962)\",86],[674,\"Cat People (1982)\",48],[675,\"Nosferatu (Nosferatu, eine Symphonie des Grauens) (1922)\",54],[676,\"Crucible, The (1996)\",77],[677,\"Fire on the Mountain (1996)\",1],[678,\"Volcano (1997)\",219],[679,\"Conan the Barbarian (1981)\",107],[680,\"Kull the Conqueror (1997)\",34],[681,\"Wishmaster (1997)\",27],[682,\"I Know What You Did Last Summer (1997)\",100],[683,\"Rocket Man (1997)\",49],[684,\"In the Line of Fire (1993)\",169],[685,\"Executive Decision (1996)\",157],[686,\"Perfect World, A (1993)\",50],[687,\"McHale's Navy (1997)\",69],[688,\"Leave It to Beaver (1997)\",44],[689,\"Jackal, The (1997)\",87],[690,\"Seven Years in Tibet (1997)\",155],[691,\"Dark City (1998)\",16],[692,\"American President, The (1995)\",164],[693,\"Casino (1995)\",91],[694,\"Persuasion (1995)\",44],[695,\"Kicking and Screaming (1995)\",13],[696,\"City Hall (1996)\",79],[697,\"Basketball Diaries, The (1995)\",40],[698,\"Browning Version, The (1994)\",10],[699,\"Little Women (1994)\",102],[700,\"Miami Rhapsody (1995)\",15],[701,\"Wonderful, Horrible Life of Leni Riefenstahl, The (1993)\",10],[702,\"Barcelona (1994)\",53],[703,\"Widows' Peak (1994)\",19],[704,\"House of the Spirits, The (1993)\",24],[705,\"Singin' in the Rain (1952)\",137],[706,\"Bad Moon (1996)\",6],[707,\"Enchanted April (1991)\",70],[708,\"Sex, Lies, and Videotape (1989)\",101],[709,\"Strictly Ballroom (1992)\",104],[710,\"Better Off Dead... (1985)\",79],[711,\"Substance of Fire, The (1996)\",1],[712,\"Tin Men (1987)\",51],[713,\"Othello (1995)\",72],[714,\"Carrington (1995)\",13],[715,\"To Die For (1995)\",87],[716,\"Home for the Holidays (1995)\",58],[717,\"Juror, The (1996)\",82],[718,\"In the Bleak Midwinter (1995)\",16],[719,\"Canadian Bacon (1994)\",29],[720,\"First Knight (1995)\",86],[721,\"Mallrats (1995)\",54],[722,\"Nine Months (1995)\",58],[723,\"Boys on the Side (1995)\",34],[724,\"Circle of Friends (1995)\",76],[725,\"Exit to Eden (1994)\",16],[726,\"Fluke (1995)\",14],[727,\"Immortal Beloved (1994)\",63],[728,\"Junior (1994)\",45],[729,\"Nell (1994)\",81],[730,\"Queen Margot (Reine Margot, La) (1994)\",24],[731,\"Corrina, Corrina (1994)\",39],[732,\"Dave (1993)\",180],[733,\"Go Fish (1994)\",15],[734,\"Made in America (1993)\",27],[735,\"Philadelphia (1993)\",137],[736,\"Shadowlands (1993)\",78],[737,\"Sirens (1994)\",59],[738,\"Threesome (1994)\",31],[739,\"Pretty Woman (1990)\",164],[740,\"Jane Eyre (1996)\",63],[741,\"Last Supper, The (1995)\",58],[742,\"Ransom (1996)\",267],[743,\"Crow: City of Angels, The (1996)\",39],[744,\"Michael Collins (1996)\",92],[745,\"Ruling Class, The (1972)\",16],[746,\"Real Genius (1985)\",119],[747,\"Benny & Joon (1993)\",102],[748,\"Saint, The (1997)\",316],[749,\"MatchMaker, The (1997)\",51],[750,\"Amistad (1997)\",124],[751,\"Tomorrow Never Dies (1997)\",180],[752,\"Replacement Killers, The (1998)\",39],[753,\"Burnt By the Sun (1994)\",24],[754,\"Red Corner (1997)\",57],[755,\"Jumanji (1995)\",96],[756,\"Father of the Bride Part II (1995)\",128],[757,\"Across the Sea of Time (1995)\",4],[758,\"Lawnmower Man 2: Beyond Cyberspace (1996)\",21],[759,\"Fair Game (1995)\",11],[760,\"Screamers (1995)\",46],[761,\"Nick of Time (1995)\",44],[762,\"Beautiful Girls (1996)\",115],[763,\"Happy Gilmore (1996)\",149],[764,\"If Lucy Fell (1996)\",29],[765,\"Boomerang (1992)\",32],[766,\"Man of the Year (1995)\",9],[767,\"Addiction, The (1995)\",11],[768,\"Casper (1995)\",52],[769,\"Congo (1995)\",42],[770,\"Devil in a Blue Dress (1995)\",57],[771,\"Johnny Mnemonic (1995)\",41],[772,\"Kids (1995)\",49],[773,\"Mute Witness (1994)\",17],[774,\"Prophecy, The (1995)\",32],[775,\"Something to Talk About (1995)\",26],[776,\"Three Wishes (1995)\",9],[777,\"Castle Freak (1995)\",4],[778,\"Don Juan DeMarco (1995)\",76],[779,\"Drop Zone (1994)\",31],[780,\"Dumb & Dumber (1994)\",69],[781,\"French Kiss (1995)\",84],[782,\"Little Odessa (1994)\",10],[783,\"Milk Money (1994)\",37],[784,\"Beyond Bedlam (1993)\",2],[785,\"Only You (1994)\",39],[786,\"Perez Family, The (1995)\",14],[787,\"Roommates (1995)\",13],[788,\"Relative Fear (1994)\",3],[789,\"Swimming with Sharks (1995)\",47],[790,\"Tommy Boy (1995)\",66],[791,\"Baby-Sitters Club, The (1995)\",10],[792,\"Bullets Over Broadway (1994)\",86],[793,\"Crooklyn (1994)\",10],[794,\"It Could Happen to You (1994)\",46],[795,\"Richie Rich (1994)\",21],[796,\"Speechless (1994)\",36],[797,\"Timecop (1994)\",31],[798,\"Bad Company (1995)\",9],[799,\"Boys Life (1995)\",5],[800,\"In the Mouth of Madness (1995)\",26],[801,\"Air Up There, The (1994)\",16],[802,\"Hard Target (1993)\",40],[803,\"Heaven & Earth (1993)\",9],[804,\"Jimmy Hollywood (1994)\",8],[805,\"Manhattan Murder Mystery (1993)\",27],[806,\"Menace II Society (1993)\",50],[807,\"Poetic Justice (1993)\",9],[808,\"Program, The (1993)\",31],[809,\"Rising Sun (1993)\",43],[810,\"Shadow, The (1994)\",45],[811,\"Thirty-Two Short Films About Glenn Gould (1993)\",18],[812,\"Andre (1994)\",18],[813,\"Celluloid Closet, The (1995)\",56],[814,\"Great Day in Harlem, A (1994)\",1],[815,\"One Fine Day (1996)\",112],[816,\"Candyman: Farewell to the Flesh (1995)\",21],[817,\"Frisk (1995)\",3],[818,\"Girl 6 (1996)\",25],[819,\"Eddie (1996)\",40],[820,\"Space Jam (1996)\",93],[821,\"Mrs. Winterbourne (1996)\",22],[822,\"Faces (1968)\",4],[823,\"Mulholland Falls (1996)\",82],[824,\"Great White Hype, The (1996)\",49],[825,\"Arrival, The (1996)\",83],[826,\"Phantom, The (1996)\",80],[827,\"Daylight (1996)\",57],[828,\"Alaska (1996)\",13],[829,\"Fled (1996)\",34],[830,\"Power 98 (1995)\",1],[831,\"Escape from L.A. (1996)\",91],[832,\"Bogus (1996)\",22],[833,\"Bulletproof (1996)\",49],[834,\"Halloween: The Curse of Michael Myers (1995)\",25],[835,\"Gay Divorcee, The (1934)\",15],[836,\"Ninotchka (1939)\",26],[837,\"Meet John Doe (1941)\",25],[838,\"In the Line of Duty 2 (1987)\",4],[839,\"Loch Ness (1995)\",4],[840,\"Last Man Standing (1996)\",53],[841,\"Glimmer Man, The (1996)\",48],[842,\"Pollyanna (1960)\",27],[843,\"Shaggy Dog, The (1959)\",30],[844,\"Freeway (1996)\",42],[845,\"That Thing You Do! (1996)\",176],[846,\"To Gillian on Her 37th Birthday (1996)\",44],[847,\"Looking for Richard (1996)\",55],[848,\"Murder, My Sweet (1944)\",9],[849,\"Days of Thunder (1990)\",53],[850,\"Perfect Candidate, A (1996)\",4],[851,\"Two or Three Things I Know About Her (1966)\",4],[852,\"Bloody Child, The (1996)\",1],[853,\"Braindead (1992)\",14],[854,\"Bad Taste (1987)\",16],[855,\"Diva (1981)\",66],[856,\"Night on Earth (1991)\",36],[857,\"Paris Was a Woman (1995)\",1],[858,\"Amityville: Dollhouse (1996)\",3],[859,\"April Fool's Day (1986)\",15],[860,\"Believers, The (1987)\",16],[861,\"Nosferatu a Venezia (1986)\",3],[862,\"Jingle All the Way (1996)\",18],[863,\"Garden of Finzi-Contini, The (Giardino dei Finzi-Contini, Il) (1970)\",24],[864,\"My Fellow Americans (1996)\",86],[865,\"Ice Storm, The (1997)\",21],[866,\"Michael (1996)\",119],[867,\"Whole Wide World, The (1996)\",6],[868,\"Hearts and Minds (1996)\",5],[869,\"Fools Rush In (1997)\",24],[870,\"Touch (1997)\",9],[871,\"Vegas Vacation (1997)\",75],[872,\"Love Jones (1997)\",42],[873,\"Picture Perfect (1997)\",81],[874,\"Career Girls (1997)\",39],[875,\"She's So Lovely (1997)\",53],[876,\"Money Talks (1997)\",47],[877,\"Excess Baggage (1997)\",52],[878,\"That Darn Cat! (1997)\",33],[879,\"Peacemaker, The (1997)\",136],[880,\"Soul Food (1997)\",59],[881,\"Money Talks (1997)\",45],[882,\"Washington Square (1997)\",34],[883,\"Telling Lies in America (1997)\",13],[884,\"Year of the Horse (1997)\",7],[885,\"Phantoms (1998)\",13],[886,\"Life Less Ordinary, A (1997)\",53],[887,\"Eve's Bayou (1997)\",64],[888,\"One Night Stand (1997)\",15],[889,\"Tango Lesson, The (1997)\",13],[890,\"Mortal Kombat: Annihilation (1997)\",43],[891,\"Bent (1997)\",6],[892,\"Flubber (1997)\",53],[893,\"For Richer or Poorer (1997)\",14],[894,\"Home Alone 3 (1997)\",19],[895,\"Scream 2 (1997)\",106],[896,\"Sweet Hereafter, The (1997)\",44],[897,\"Time Tracers (1995)\",2],[898,\"Postman, The (1997)\",58],[899,\"Winter Guest, The (1997)\",9],[900,\"Kundun (1997)\",42],[901,\"Mr. Magoo (1997)\",12],[902,\"Big Lebowski, The (1998)\",42],[903,\"Afterglow (1997)\",18],[904,\"Ma vie en rose (My Life in Pink) (1997)\",20],[905,\"Great Expectations (1998)\",27],[906,\"Oscar & Lucinda (1997)\",21],[907,\"Vermin (1998)\",2],[908,\"Half Baked (1998)\",20],[909,\"Dangerous Beauty (1998)\",13],[910,\"Nil By Mouth (1997)\",4],[911,\"Twilight (1998)\",4],[912,\"U.S. Marshalls (1998)\",9],[913,\"Love and Death on Long Island (1997)\",2],[914,\"Wild Things (1998)\",11],[915,\"Primary Colors (1998)\",13],[916,\"Lost in Space (1998)\",18],[917,\"Mercury Rising (1998)\",7],[918,\"City of Angels (1998)\",8],[919,\"City of Lost Children, The (1995)\",96],[920,\"Two Bits (1995)\",5],[921,\"Farewell My Concubine (1993)\",46],[922,\"Dead Man (1995)\",34],[923,\"Raise the Red Lantern (1991)\",58],[924,\"White Squall (1996)\",85],[925,\"Unforgettable (1996)\",34],[926,\"Down Periscope (1996)\",101],[927,\"Flower of My Secret, The (Flor de mi secreto, La) (1995)\",6],[928,\"Craft, The (1996)\",104],[929,\"Harriet the Spy (1996)\",40],[930,\"Chain Reaction (1996)\",80],[931,\"Island of Dr. Moreau, The (1996)\",57],[932,\"First Kid (1996)\",40],[933,\"Funeral, The (1996)\",21],[934,\"Preacher's Wife, The (1996)\",68],[935,\"Paradise Road (1997)\",7],[936,\"Brassed Off (1996)\",32],[937,\"Thousand Acres, A (1997)\",37],[938,\"Smile Like Yours, A (1997)\",25],[939,\"Murder in the First (1995)\",60],[940,\"Airheads (1994)\",32],[941,\"With Honors (1994)\",46],[942,\"What's Love Got to Do with It (1993)\",45],[943,\"Killing Zoe (1994)\",40],[944,\"Renaissance Man (1994)\",43],[945,\"Charade (1963)\",40],[946,\"Fox and the Hound, The (1981)\",61],[947,\"Big Blue, The (Grand bleu, Le) (1988)\",17],[948,\"Booty Call (1997)\",48],[949,\"How to Make an American Quilt (1995)\",71],[950,\"Georgia (1995)\",30],[951,\"Indian in the Cupboard, The (1995)\",39],[952,\"Blue in the Face (1995)\",45],[953,\"Unstrung Heroes (1995)\",22],[954,\"Unzipped (1995)\",11],[955,\"Before Sunrise (1995)\",49],[956,\"Nobody's Fool (1994)\",46],[957,\"Pushing Hands (1992)\",2],[958,\"To Live (Huozhe) (1994)\",14],[959,\"Dazed and Confused (1993)\",64],[960,\"Naked (1993)\",25],[961,\"Orlando (1993)\",34],[962,\"Ruby in Paradise (1993)\",23],[963,\"Some Folks Call It a Sling Blade (1993)\",41],[964,\"Month by the Lake, A (1995)\",9],[965,\"Funny Face (1957)\",21],[966,\"Affair to Remember, An (1957)\",26],[967,\"Little Lord Fauntleroy (1936)\",12],[968,\"Inspector General, The (1949)\",18],[969,\"Winnie the Pooh and the Blustery Day (1968)\",75],[970,\"Hear My Song (1991)\",8],[971,\"Mediterraneo (1991)\",34],[972,\"Passion Fish (1992)\",28],[973,\"Grateful Dead (1995)\",4],[974,\"Eye for an Eye (1996)\",32],[975,\"Fear (1996)\",44],[976,\"Solo (1996)\",12],[977,\"Substitute, The (1996)\",49],[978,\"Heaven's Prisoners (1996)\",27],[979,\"Trigger Effect, The (1996)\",35],[980,\"Mother Night (1996)\",22],[981,\"Dangerous Ground (1997)\",8],[982,\"Maximum Risk (1996)\",20],[983,\"Rich Man's Wife, The (1996)\",15],[984,\"Shadow Conspiracy (1997)\",44],[985,\"Blood & Wine (1997)\",22],[986,\"Turbulence (1997)\",23],[987,\"Underworld (1997)\",4],[988,\"Beautician and the Beast, The (1997)\",86],[989,\"Cats Don't Dance (1997)\",32],[990,\"Anna Karenina (1997)\",33],[991,\"Keys to Tulsa (1997)\",25],[992,\"Head Above Water (1996)\",4],[993,\"Hercules (1997)\",66],[994,\"Last Time I Committed Suicide, The (1997)\",7],[995,\"Kiss Me, Guido (1997)\",31],[996,\"Big Green, The (1995)\",14],[997,\"Stuart Saves His Family (1995)\",16],[998,\"Cabin Boy (1994)\",16],[999,\"Clean Slate (1994)\",10],[1000,\"Lightning Jack (1994)\",10],[1001,\"Stupids, The (1996)\",17],[1002,\"Pest, The (1997)\",8],[1003,\"That Darn Cat! (1997)\",8],[1004,\"Geronimo: An American Legend (1993)\",9],[1005,\"Double vie de V\\u00e9ronique, La (Double Life of Veronique, The) (1991)\",22],[1006,\"Until the End of the World (Bis ans Ende der Welt) (1991)\",23],[1007,\"Waiting for Guffman (1996)\",47],[1008,\"I Shot Andy Warhol (1996)\",37],[1009,\"Stealing Beauty (1996)\",64],[1010,\"Basquiat (1996)\",44],[1011,\"2 Days in the Valley (1996)\",93],[1012,\"Private Parts (1997)\",100],[1013,\"Anaconda (1997)\",38],[1014,\"Romy and Michele's High School Reunion (1997)\",98],[1015,\"Shiloh (1997)\",12],[1016,\"Con Air (1997)\",137],[1017,\"Trees Lounge (1996)\",50],[1018,\"Tie Me Up! Tie Me Down! (1990)\",32],[1019,\"Die xue shuang xiong (Killer, The) (1989)\",31],[1020,\"Gaslight (1944)\",35],[1021,\"8 1\\u002f2 (1963)\",38],[1022,\"Fast, Cheap & Out of Control (1997)\",32],[1023,\"Fathers' Day (1997)\",31],[1024,\"Mrs. Dalloway (1997)\",15],[1025,\"Fire Down Below (1997)\",44],[1026,\"Lay of the Land, The (1997)\",4],[1027,\"Shooter, The (1995)\",3],[1028,\"Grumpier Old Men (1995)\",148],[1029,\"Jury Duty (1995)\",14],[1030,\"Beverly Hillbillies, The (1993)\",20],[1031,\"Lassie (1994)\",7],[1032,\"Little Big League (1994)\",16],[1033,\"Homeward Bound II: Lost in San Francisco (1996)\",32],[1034,\"Quest, The (1996)\",27],[1035,\"Cool Runnings (1993)\",68],[1036,\"Drop Dead Fred (1991)\",24],[1037,\"Grease 2 (1982)\",24],[1038,\"Switchback (1997)\",17],[1039,\"Hamlet (1996)\",90],[1040,\"Two if by Sea (1996)\",25],[1041,\"Forget Paris (1995)\",62],[1042,\"Just Cause (1995)\",28],[1043,\"Rent-a-Kid (1995)\",8],[1044,\"Paper, The (1994)\",40],[1045,\"Fearless (1993)\",25],[1046,\"Malice (1993)\",46],[1047,\"Multiplicity (1996)\",134],[1048,\"She's the One (1996)\",73],[1049,\"House Arrest (1996)\",25],[1050,\"Ghost and Mrs. Muir, The (1947)\",43],[1051,\"Associate, The (1996)\",41],[1052,\"Dracula: Dead and Loving It (1995)\",25],[1053,\"Now and Then (1995)\",24],[1054,\"Mr. Wrong (1996)\",23],[1055,\"Simple Twist of Fate, A (1994)\",10],[1056,\"Cronos (1992)\",10],[1057,\"Pallbearer, The (1996)\",22],[1058,\"War, The (1994)\",15],[1059,\"Don't Be a Menace to South Central While Drinking Your Juice in the Hood (1996)\",35],[1060,\"Adventures of Pinocchio, The (1996)\",39],[1061,\"Evening Star, The (1996)\",29],[1062,\"Four Days in September (1997)\",12],[1063,\"Little Princess, A (1995)\",41],[1064,\"Crossfire (1947)\",4],[1065,\"Koyaanisqatsi (1983)\",53],[1066,\"Balto (1995)\",16],[1067,\"Bottle Rocket (1996)\",44],[1068,\"Star Maker, The (Uomo delle stelle, L') (1995)\",12],[1069,\"Amateur (1994)\",18],[1070,\"Living in Oblivion (1995)\",27],[1071,\"Party Girl (1995)\",16],[1072,\"Pyromaniac's Love Story, A (1995)\",7],[1073,\"Shallow Grave (1994)\",66],[1074,\"Reality Bites (1994)\",77],[1075,\"Man of No Importance, A (1994)\",7],[1076,\"Pagemaster, The (1994)\",12],[1077,\"Love and a .45 (1994)\",8],[1078,\"Oliver & Company (1988)\",22],[1079,\"Joe's Apartment (1996)\",45],[1080,\"Celestial Clockwork (1994)\",2],[1081,\"Curdled (1996)\",8],[1082,\"Female Perversions (1996)\",8],[1083,\"Albino Alligator (1996)\",6],[1084,\"Anne Frank Remembered (1995)\",21],[1085,\"Carried Away (1996)\",11],[1086,\"It's My Party (1995)\",21],[1087,\"Bloodsport 2 (1995)\",10],[1088,\"Double Team (1997)\",13],[1089,\"Speed 2: Cruise Control (1997)\",38],[1090,\"Sliver (1993)\",37],[1091,\"Pete's Dragon (1977)\",43],[1092,\"Dear God (1996)\",12],[1093,\"Live Nude Girls (1995)\",23],[1094,\"Thin Line Between Love and Hate, A (1996)\",12],[1095,\"High School High (1996)\",29],[1096,\"Commandments (1997)\",3],[1097,\"Hate (Haine, La) (1995)\",18],[1098,\"Flirting With Disaster (1996)\",42],[1099,\"Red Firecracker, Green Firecracker (1994)\",13],[1100,\"What Happened Was... (1994)\",8],[1101,\"Six Degrees of Separation (1993)\",74],[1102,\"Two Much (1996)\",7],[1103,\"Trust (1990)\",19],[1104,\"C'est arriv\\u00e9 pr\\u00e8s de chez vous (1992)\",4],[1105,\"Firestorm (1998)\",18],[1106,\"Newton Boys, The (1998)\",4],[1107,\"Beyond Rangoon (1995)\",18],[1108,\"Feast of July (1995)\",5],[1109,\"Death and the Maiden (1994)\",28],[1110,\"Tank Girl (1995)\",41],[1111,\"Double Happiness (1994)\",7],[1112,\"Cobb (1994)\",15],[1113,\"Mrs. Parker and the Vicious Circle (1994)\",22],[1114,\"Faithful (1996)\",10],[1115,\"Twelfth Night (1996)\",29],[1116,\"Mark of Zorro, The (1940)\",13],[1117,\"Surviving Picasso (1996)\",19],[1118,\"Up in Smoke (1978)\",47],[1119,\"Some Kind of Wonderful (1987)\",59],[1120,\"I'm Not Rappaport (1996)\",17],[1121,\"Umbrellas of Cherbourg, The (Parapluies de Cherbourg, Les) (1964)\",21],[1122,\"They Made Me a Criminal (1939)\",1],[1123,\"Last Time I Saw Paris, The (1954)\",3],[1124,\"Farewell to Arms, A (1932)\",12],[1125,\"Innocents, The (1961)\",4],[1126,\"Old Man and the Sea, The (1958)\",32],[1127,\"Truman Show, The (1998)\",11],[1128,\"Heidi Fleiss: Hollywood Madam (1995) \",13],[1129,\"Chungking Express (1994)\",28],[1130,\"Jupiter's Wife (1994)\",1],[1131,\"Safe (1995)\",13],[1132,\"Feeling Minnesota (1996)\",32],[1133,\"Escape to Witch Mountain (1975)\",30],[1134,\"Get on the Bus (1996)\",38],[1135,\"Doors, The (1991)\",46],[1136,\"Ghosts of Mississippi (1996)\",29],[1137,\"Beautiful Thing (1996)\",29],[1138,\"Best Men (1997)\",5],[1139,\"Hackers (1995)\",33],[1140,\"Road to Wellville, The (1994)\",17],[1141,\"War Room, The (1993)\",9],[1142,\"When We Were Kings (1996)\",44],[1143,\"Hard Eight (1996)\",15],[1144,\"Quiet Room, The (1996)\",3],[1145,\"Blue Chips (1994)\",9],[1146,\"Calendar Girl (1993)\",3],[1147,\"My Family (1995)\",21],[1148,\"Tom & Viv (1994)\",9],[1149,\"Walkabout (1971)\",26],[1150,\"Last Dance (1996)\",9],[1151,\"Original Gangstas (1996)\",7],[1152,\"In Love and War (1996)\",28],[1153,\"Backbeat (1993)\",19],[1154,\"Alphaville (1965)\",12],[1155,\"Rendezvous in Paris (Rendez-vous de Paris, Les) (1995)\",3],[1156,\"Cyclo (1995)\",1],[1157,\"Relic, The (1997)\",25],[1158,\"Fille seule, La (A Single Girl) (1995)\",4],[1159,\"Stalker (1979)\",11],[1160,\"Love! Valour! Compassion! (1997)\",26],[1161,\"Palookaville (1996)\",13],[1162,\"Phat Beach (1996)\",5],[1163,\"Portrait of a Lady, The (1996)\",25],[1164,\"Zeus and Roxanne (1997)\",6],[1165,\"Big Bully (1996)\",14],[1166,\"Love & Human Remains (1993)\",12],[1167,\"Sum of Us, The (1994)\",11],[1168,\"Little Buddha (1993)\",22],[1169,\"Fresh (1994)\",10],[1170,\"Spanking the Monkey (1994)\",27],[1171,\"Wild Reeds (1994)\",14],[1172,\"Women, The (1939)\",15],[1173,\"Bliss (1997)\",7],[1174,\"Caught (1996)\",8],[1175,\"Hugo Pool (1997)\",5],[1176,\"Welcome To Sarajevo (1997)\",22],[1177,\"Dunston Checks In (1996)\",7],[1178,\"Major Payne (1994)\",19],[1179,\"Man of the House (1995)\",9],[1180,\"I Love Trouble (1994)\",10],[1181,\"Low Down Dirty Shame, A (1994)\",10],[1182,\"Cops and Robbersons (1994)\",13],[1183,\"Cowboy Way, The (1994)\",19],[1184,\"Endless Summer 2, The (1994)\",10],[1185,\"In the Army Now (1994)\",18],[1186,\"Inkwell, The (1994)\",3],[1187,\"Switchblade Sisters (1975)\",13],[1188,\"Young Guns II (1990)\",44],[1189,\"Prefontaine (1997)\",3],[1190,\"That Old Feeling (1997)\",11],[1191,\"Letter From Death Row, A (1998)\",3],[1192,\"Boys of St. Vincent, The (1993)\",13],[1193,\"Before the Rain (Pred dozhdot) (1994)\",10],[1194,\"Once Were Warriors (1994)\",31],[1195,\"Strawberry and Chocolate (Fresa y chocolate) (1993)\",11],[1196,\"Savage Nights (Nuits fauves, Les) (1992)\",3],[1197,\"Family Thing, A (1996)\",45],[1198,\"Purple Noon (1960)\",7],[1199,\"Cemetery Man (Dellamorte Dellamore) (1994)\",23],[1200,\"Kim (1950)\",7],[1201,\"Marlene Dietrich: Shadow and Light (1996) \",1],[1202,\"Maybe, Maybe Not (Bewegte Mann, Der) (1994)\",8],[1203,\"Top Hat (1935)\",21],[1204,\"To Be or Not to Be (1942)\",18],[1205,\"Secret Agent, The (1996)\",6],[1206,\"Amos & Andrew (1993)\",19],[1207,\"Jade (1995)\",17],[1208,\"Kiss of Death (1995)\",20],[1209,\"Mixed Nuts (1994)\",15],[1210,\"Virtuosity (1995)\",38],[1211,\"Blue Sky (1994)\",12],[1212,\"Flesh and Bone (1993)\",6],[1213,\"Guilty as Sin (1993)\",6],[1214,\"In the Realm of the Senses (Ai no corrida) (1976)\",9],[1215,\"Barb Wire (1996)\",30],[1216,\"Kissed (1996)\",6],[1217,\"Assassins (1995)\",39],[1218,\"Friday (1995)\",26],[1219,\"Goofy Movie, A (1995)\",20],[1220,\"Higher Learning (1995)\",30],[1221,\"When a Man Loves a Woman (1994)\",39],[1222,\"Judgment Night (1993)\",25],[1223,\"King of the Hill (1993)\",4],[1224,\"Scout, The (1994)\",12],[1225,\"Angus (1995)\",14],[1226,\"Night Falls on Manhattan (1997)\",32],[1227,\"Awfully Big Adventure, An (1995)\",8],[1228,\"Under Siege 2: Dark Territory (1995)\",48],[1229,\"Poison Ivy II (1995)\",13],[1230,\"Ready to Wear (Pret-A-Porter) (1994)\",18],[1231,\"Marked for Death (1990)\",22],[1232,\"Madonna: Truth or Dare (1991)\",17],[1233,\"N\\u00e9nette et Boni (1996)\",6],[1234,\"Chairman of the Board (1998)\",8],[1235,\"Big Bang Theory, The (1994)\",1],[1236,\"Other Voices, Other Rooms (1997)\",1],[1237,\"Twisted (1996)\",6],[1238,\"Full Speed (1996)\",8],[1239,\"Cutthroat Island (1995)\",18],[1240,\"Ghost in the Shell (Kokaku kidotai) (1995)\",26],[1241,\"Van, The (1996)\",6],[1242,\"Old Lady Who Walked in the Sea, The (Vieille qui marchait dans la mer, La) (1991)\",5],[1243,\"Night Flier (1997)\",7],[1244,\"Metro (1997)\",36],[1245,\"Gridlock'd (1997)\",19],[1246,\"Bushwhacked (1995)\",7],[1247,\"Bad Girls (1994)\",6],[1248,\"Blink (1994)\",19],[1249,\"For Love or Money (1993)\",12],[1250,\"Best of the Best 3: No Turning Back (1995)\",6],[1251,\"A Chef in Love (1996)\",8],[1252,\"Contempt (M\\u00e9pris, Le) (1963)\",9],[1253,\"Tie That Binds, The (1995)\",7],[1254,\"Gone Fishin' (1997)\",11],[1255,\"Broken English (1996)\",8],[1256,\"Designated Mourner, The (1997)\",3],[1257,\"Designated Mourner, The (1997)\",4],[1258,\"Trial and Error (1997)\",23],[1259,\"Pie in the Sky (1995)\",4],[1260,\"Total Eclipse (1995)\",4],[1261,\"Run of the Country, The (1995)\",4],[1262,\"Walking and Talking (1996)\",8],[1263,\"Foxfire (1996)\",15],[1264,\"Nothing to Lose (1994)\",7],[1265,\"Star Maps (1997)\",19],[1266,\"Bread and Chocolate (Pane e cioccolata) (1973)\",12],[1267,\"Clockers (1995)\",33],[1268,\"Bitter Moon (1992)\",10],[1269,\"Love in the Afternoon (1957)\",10],[1270,\"Life with Mikey (1993)\",7],[1271,\"North (1994)\",7],[1272,\"Talking About Sex (1994)\",5],[1273,\"Color of Night (1994)\",15],[1274,\"Robocop 3 (1993)\",11],[1275,\"Killer (Bulletproof Heart) (1994)\",4],[1276,\"Sunset Park (1996)\",8],[1277,\"Set It Off (1996)\",19],[1278,\"Selena (1997)\",16],[1279,\"Wild America (1997)\",9],[1280,\"Gang Related (1997)\",16],[1281,\"Manny & Lo (1996)\",13],[1282,\"Grass Harp, The (1995)\",9],[1283,\"Out to Sea (1997)\",19],[1284,\"Before and After (1996)\",26],[1285,\"Princess Caraboo (1994)\",15],[1286,\"Shall We Dance? (1937)\",17],[1287,\"Ed (1996)\",6],[1288,\"Denise Calls Up (1995)\",7],[1289,\"Jack and Sarah (1995)\",7],[1290,\"Country Life (1994)\",2],[1291,\"Celtic Pride (1996)\",15],[1292,\"Simple Wish, A (1997)\",3],[1293,\"Star Kid (1997)\",3],[1294,\"Ayn Rand: A Sense of Life (1997)\",7],[1295,\"Kicked in the Head (1997)\",7],[1296,\"Indian Summer (1996)\",20],[1297,\"Love Affair (1994)\",12],[1298,\"Band Wagon, The (1953)\",9],[1299,\"Penny Serenade (1941)\",8],[1300,\"'Til There Was You (1997)\",9],[1301,\"Stripes (1981)\",5],[1302,\"Late Bloomers (1996)\",5],[1303,\"Getaway, The (1994)\",18],[1304,\"New York Cop (1996)\",2],[1305,\"National Lampoon's Senior Trip (1995)\",7],[1306,\"Delta of Venus (1994)\",2],[1307,\"Carmen Miranda: Bananas Is My Business (1994)\",2],[1308,\"Babyfever (1994)\",2],[1309,\"Very Natural Thing, A (1974)\",1],[1310,\"Walk in the Sun, A (1945)\",1],[1311,\"Waiting to Exhale (1995)\",16],[1312,\"Pompatus of Love, The (1996)\",7],[1313,\"Palmetto (1998)\",14],[1314,\"Surviving the Game (1994)\",11],[1315,\"Inventing the Abbotts (1997)\",23],[1316,\"Horse Whisperer, The (1998)\",7],[1317,\"Journey of August King, The (1995)\",4],[1318,\"Catwalk (1995)\",3],[1319,\"Neon Bible, The (1995)\",4],[1320,\"Homage (1995)\",1],[1321,\"Open Season (1996)\",2],[1322,\"Metisse (Caf\\u00e9 au Lait) (1993)\",6],[1323,\"Wooden Man's Bride, The (Wu Kui) (1994)\",3],[1324,\"Loaded (1994)\",5],[1325,\"August (1996)\",1],[1326,\"Boys (1996)\",6],[1327,\"Captives (1994)\",3],[1328,\"Of Love and Shadows (1994)\",6],[1329,\"Low Life, The (1994)\",1],[1330,\"An Unforgettable Summer (1994)\",4],[1331,\"Last Klezmer: Leopold Kozlowski, His Life and Music, The (1995)\",4],[1332,\"My Life and Times With Antonin Artaud (En compagnie d'Antonin Artaud) (1993)\",2],[1333,\"Midnight Dancers (Sibak) (1994)\",5],[1334,\"Somebody to Love (1994)\",2],[1335,\"American Buffalo (1996)\",11],[1336,\"Kazaam (1996)\",10],[1337,\"Larger Than Life (1996)\",9],[1338,\"Two Deaths (1995)\",4],[1339,\"Stefano Quantestorie (1993)\",1],[1340,\"Crude Oasis, The (1995)\",1],[1341,\"Hedd Wyn (1992)\",1],[1342,\"Convent, The (Convento, O) (1995)\",2],[1343,\"Lotto Land (1995)\",1],[1344,\"Story of Xinghua, The (1993)\",5],[1345,\"Day the Sun Turned Cold, The (Tianguo niezi) (1994)\",2],[1346,\"Dingo (1992)\",5],[1347,\"Ballad of Narayama, The (Narayama Bushiko) (1958)\",4],[1348,\"Every Other Weekend (1990)\",1],[1349,\"Mille bolle blu (1993)\",1],[1350,\"Crows and Sparrows (1949)\",2],[1351,\"Lover's Knot (1996)\",3],[1352,\"Shadow of Angels (Schatten der Engel) (1976)\",1],[1353,\"1-900 (1994)\",5],[1354,\"Venice\\u002fVenice (1992)\",2],[1355,\"Infinity (1996)\",6],[1356,\"Ed's Next Move (1996)\",3],[1357,\"For the Moment (1994)\",3],[1358,\"The Deadly Cure (1996)\",2],[1359,\"Boys in Venice (1996)\",2],[1360,\"Sexual Life of the Belgians, The (1994)\",2],[1361,\"Search for One-eye Jimmy, The (1996)\",3],[1362,\"American Strays (1996)\",2],[1363,\"Leopard Son, The (1996)\",1],[1364,\"Bird of Prey (1996)\",1],[1365,\"Johnny 100 Pesos (1993)\",2],[1366,\"JLG\\u002fJLG - autoportrait de d\\u00e9cembre (1994)\",1],[1367,\"Faust (1994)\",5],[1368,\"Mina Tannenbaum (1994)\",6],[1369,\"Forbidden Christ, The (Cristo proibito, Il) (1950)\",4],[1370,\"I Can't Sleep (J'ai pas sommeil) (1994)\",3],[1371,\"Machine, The (1994)\",2],[1372,\"Stranger, The (1994)\",3],[1373,\"Good Morning (1971)\",1],[1374,\"Falling in Love Again (1980)\",2],[1375,\"Cement Garden, The (1993)\",10],[1376,\"Meet Wally Sparks (1997)\",7],[1377,\"Hotel de Love (1996)\",4],[1378,\"Rhyme & Reason (1997)\",5],[1379,\"Love and Other Catastrophes (1996)\",7],[1380,\"Hollow Reed (1996)\",6],[1381,\"Losing Chase (1996)\",8],[1382,\"Bonheur, Le (1965)\",4],[1383,\"Second Jungle Book: Mowgli & Baloo, The (1997)\",6],[1384,\"Squeeze (1996)\",3],[1385,\"Roseanna's Grave (For Roseanna) (1997)\",5],[1386,\"Tetsuo II: Body Hammer (1992)\",6],[1387,\"Fall (1997)\",3],[1388,\"Gabbeh (1996)\",6],[1389,\"Mondo (1996)\",3],[1390,\"Innocent Sleep, The (1995)\",2],[1391,\"For Ever Mozart (1996)\",3],[1392,\"Locusts, The (1997)\",5],[1393,\"Stag (1997)\",9],[1394,\"Swept from the Sea (1997)\",7],[1395,\"Hurricane Streets (1998)\",6],[1396,\"Stonewall (1995)\",5],[1397,\"Of Human Bondage (1934)\",5],[1398,\"Anna (1996)\",2],[1399,\"Stranger in the House (1997)\",7],[1400,\"Picture Bride (1995)\",10],[1401,\"M. Butterfly (1993)\",18],[1402,\"Ciao, Professore! (1993)\",4],[1403,\"Caro Diario (Dear Diary) (1994)\",4],[1404,\"Withnail and I (1987)\",13],[1405,\"Boy's Life 2 (1997)\",6],[1406,\"When Night Is Falling (1995)\",5],[1407,\"Specialist, The (1994)\",20],[1408,\"Gordy (1995)\",3],[1409,\"Swan Princess, The (1994)\",7],[1410,\"Harlem (1993)\",4],[1411,\"Barbarella (1968)\",28],[1412,\"Land Before Time III: The Time of the Great Giving (1995) (V)\",6],[1413,\"Street Fighter (1994)\",8],[1414,\"Coldblooded (1995)\",1],[1415,\"Next Karate Kid, The (1994)\",9],[1416,\"No Escape (1994)\",5],[1417,\"Turning, The (1992)\",2],[1418,\"Joy Luck Club, The (1993)\",3],[1419,\"Highlander III: The Sorcerer (1994)\",16],[1420,\"Gilligan's Island: The Movie (1998)\",3],[1421,\"My Crazy Life (Mi vida loca) (1993)\",11],[1422,\"Suture (1993)\",4],[1423,\"Walking Dead, The (1995)\",4],[1424,\"I Like It Like That (1994)\",3],[1425,\"I'll Do Anything (1994)\",10],[1426,\"Grace of My Heart (1996)\",8],[1427,\"Drunks (1995)\",5],[1428,\"SubUrbia (1997)\",12],[1429,\"Sliding Doors (1998)\",4],[1430,\"Ill Gotten Gains (1997)\",3],[1431,\"Legal Deceit (1997)\",5],[1432,\"Mighty, The (1998)\",3],[1433,\"Men of Means (1998)\",2],[1434,\"Shooting Fish (1997)\",10],[1435,\"Steal Big, Steal Little (1995)\",7],[1436,\"Mr. Jones (1993)\",2],[1437,\"House Party 3 (1994)\",9],[1438,\"Panther (1995)\",5],[1439,\"Jason's Lyric (1994)\",8],[1440,\"Above the Rim (1994)\",5],[1441,\"Moonlight and Valentino (1995)\",7],[1442,\"Scarlet Letter, The (1995)\",5],[1443,\"8 Seconds (1994)\",4],[1444,\"That Darn Cat! (1965)\",19],[1445,\"Ladybird Ladybird (1994)\",4],[1446,\"Bye Bye, Love (1995)\",15],[1447,\"Century (1993)\",1],[1448,\"My Favorite Season (1993)\",3],[1449,\"Pather Panchali (1955)\",8],[1450,\"Golden Earrings (1947)\",2],[1451,\"Foreign Correspondent (1940)\",15],[1452,\"Lady of Burlesque (1943)\",1],[1453,\"Angel on My Shoulder (1946)\",1],[1454,\"Angel and the Badman (1947)\",6],[1455,\"Outlaw, The (1943)\",2],[1456,\"Beat the Devil (1954)\",7],[1457,\"Love Is All There Is (1996)\",1],[1458,\"Damsel in Distress, A (1937)\",1],[1459,\"Madame Butterfly (1995)\",7],[1460,\"Sleepover (1995)\",1],[1461,\"Here Comes Cookie (1935)\",1],[1462,\"Thieves (Voleurs, Les) (1996)\",7],[1463,\"Boys, Les (1997)\",3],[1464,\"Stars Fell on Henrietta, The (1995)\",3],[1465,\"Last Summer in the Hamptons (1995)\",3],[1466,\"Margaret's Museum (1995)\",6],[1467,\"Saint of Fort Washington, The (1993)\",2],[1468,\"Cure, The (1995)\",6],[1469,\"Tom and Huck (1995)\",12],[1470,\"Gumby: The Movie (1995)\",5],[1471,\"Hideaway (1995)\",9],[1472,\"Visitors, The (Visiteurs, Les) (1993)\",2],[1473,\"Little Princess, The (1939)\",9],[1474,\"Nina Takes a Lover (1994)\",6],[1475,\"Bhaji on the Beach (1993)\",8],[1476,\"Raw Deal (1948)\",1],[1477,\"Nightwatch (1997)\",2],[1478,\"Dead Presidents (1995)\",18],[1479,\"Reckless (1995)\",8],[1480,\"Herbie Rides Again (1974)\",11],[1481,\"S.F.W. (1994)\",2],[1482,\"Gate of Heavenly Peace, The (1995)\",1],[1483,\"Man in the Iron Mask, The (1998)\",12],[1484,\"Jerky Boys, The (1994)\",3],[1485,\"Colonel Chabert, Le (1994)\",4],[1486,\"Girl in the Cadillac (1995)\",1],[1487,\"Even Cowgirls Get the Blues (1993)\",5],[1488,\"Germinal (1993)\",4],[1489,\"Chasers (1994)\",5],[1490,\"Fausto (1993)\",3],[1491,\"Tough and Deadly (1995)\",2],[1492,\"Window to Paris (1994)\",1],[1493,\"Modern Affair, A (1995)\",1],[1494,\"Mostro, Il (1994)\",1],[1495,\"Flirt (1995)\",5],[1496,\"Carpool (1996)\",5],[1497,\"Line King: Al Hirschfeld, The (1996)\",2],[1498,\"Farmer & Chase (1995)\",1],[1499,\"Grosse Fatigue (1994)\",4],[1500,\"Santa with Muscles (1996)\",2],[1501,\"Prisoner of the Mountains (Kavkazsky Plennik) (1996)\",5],[1502,\"Naked in New York (1994)\",2],[1503,\"Gold Diggers: The Secret of Bear Mountain (1995)\",10],[1504,\"Bewegte Mann, Der (1994)\",3],[1505,\"Killer: A Journal of Murder (1995)\",1],[1506,\"Nelly & Monsieur Arnaud (1995)\",3],[1507,\"Three Lives and Only One Death (1996)\",1],[1508,\"Babysitter, The (1995)\",3],[1509,\"Getting Even with Dad (1994)\",5],[1510,\"Mad Dog Time (1996)\",1],[1511,\"Children of the Revolution (1996)\",5],[1512,\"World of Apu, The (Apur Sansar) (1959)\",6],[1513,\"Sprung (1997)\",3],[1514,\"Dream With the Fishes (1997)\",7],[1515,\"Wings of Courage (1995)\",1],[1516,\"Wedding Gift, The (1994)\",3],[1517,\"Race the Sun (1996)\",5],[1518,\"Losing Isaiah (1995)\",12],[1519,\"New Jersey Drive (1995)\",2],[1520,\"Fear, The (1995)\",1],[1521,\"Mr. Wonderful (1993)\",4],[1522,\"Trial by Jury (1994)\",7],[1523,\"Good Man in Africa, A (1994)\",2],[1524,\"Kaspar Hauser (1993)\",8],[1525,\"Object of My Affection, The (1998)\",1],[1526,\"Witness (1985)\",1],[1527,\"Senseless (1998)\",7],[1528,\"Nowhere (1997)\",3],[1529,\"Underground (1995)\",5],[1530,\"Jefferson in Paris (1995)\",5],[1531,\"Far From Home: The Adventures of Yellow Dog (1995)\",7],[1532,\"Foreign Student (1994)\",2],[1533,\"I Don't Want to Talk About It (De eso no se habla) (1993)\",1],[1534,\"Twin Town (1997)\",6],[1535,\"Enfer, L' (1994)\",4],[1536,\"Aiqing wansui (1994)\",1],[1537,\"Cosi (1996)\",4],[1538,\"All Over Me (1997)\",3],[1539,\"Being Human (1993)\",4],[1540,\"Amazing Panda Adventure, The (1995)\",10],[1541,\"Beans of Egypt, Maine, The (1994)\",2],[1542,\"Scarlet Letter, The (1926)\",2],[1543,\"Johns (1996)\",1],[1544,\"It Takes Two (1995)\",3],[1545,\"Frankie Starlight (1995)\",4],[1546,\"Shadows (Cienie) (1988)\",1],[1547,\"Show, The (1995)\",2],[1548,\"The Courtyard (1995)\",1],[1549,\"Dream Man (1995)\",2],[1550,\"Destiny Turns on the Radio (1995)\",2],[1551,\"Glass Shield, The (1994)\",2],[1552,\"Hunted, The (1995)\",3],[1553,\"Underneath, The (1995)\",4],[1554,\"Safe Passage (1994)\",2],[1555,\"Secret Adventures of Tom Thumb, The (1993)\",5],[1556,\"Condition Red (1995)\",2],[1557,\"Yankee Zulu (1994)\",1],[1558,\"Aparajito (1956)\",7],[1559,\"Hostile Intentions (1994)\",1],[1560,\"Clean Slate (Coup de Torchon) (1981)\",4],[1561,\"Tigrero: A Film That Was Never Made (1994)\",1],[1562,\"Eye of Vichy, The (Oeil de Vichy, L') (1993)\",1],[1563,\"Promise, The (Versprechen, Das) (1994)\",1],[1564,\"To Cross the Rubicon (1991)\",1],[1565,\"Daens (1992)\",1],[1566,\"Man from Down Under, The (1943)\",1],[1567,\"Careful (1992)\",1],[1568,\"Vermont Is For Lovers (1992)\",1],[1569,\"Vie est belle, La (Life is Rosey) (1987)\",1],[1570,\"Quartier Mozart (1992)\",1],[1571,\"Touki Bouki (Journey of the Hyena) (1973)\",1],[1572,\"Wend Kuuni (God's Gift) (1982)\",1],[1573,\"Spirits of the Dead (Tre passi nel delirio) (1968)\",2],[1574,\"Pharaoh's Army (1995)\",1],[1575,\"I, Worst of All (Yo, la peor de todas) (1990)\",1],[1576,\"Hungarian Fairy Tale, A (1987)\",1],[1577,\"Death in the Garden (Mort en ce jardin, La) (1956)\",1],[1578,\"Collectionneuse, La (1967)\",2],[1579,\"Baton Rouge (1988)\",1],[1580,\"Liebelei (1933)\",1],[1581,\"Woman in Question, The (1950)\",1],[1582,\"T-Men (1947)\",1],[1583,\"Invitation, The (Zaproszenie) (1986)\",1],[1584,\"Symphonie pastorale, La (1946)\",1],[1585,\"American Dream (1990)\",2],[1586,\"Lashou shentan (1992)\",1],[1587,\"Terror in a Texas Town (1958)\",1],[1588,\"Salut cousin! (1996)\",2],[1589,\"Schizopolis (1996)\",4],[1590,\"To Have, or Not (1995)\",2],[1591,\"Duoluo tianshi (1995)\",6],[1592,\"Magic Hour, The (1998)\",5],[1593,\"Death in Brunswick (1991)\",1],[1594,\"Everest (1998)\",2],[1595,\"Shopping (1994)\",1],[1596,\"Nemesis 2: Nebula (1995)\",1],[1597,\"Romper Stomper (1992)\",5],[1598,\"City of Industry (1997)\",6],[1599,\"Someone Else's America (1995)\",1],[1600,\"Guantanamera (1994)\",4],[1601,\"Office Killer (1997)\",1],[1602,\"Price Above Rubies, A (1998)\",3],[1603,\"Angela (1995)\",1],[1604,\"He Walked by Night (1948)\",1],[1605,\"Love Serenade (1996)\",4],[1606,\"Deceiver (1997)\",1],[1607,\"Hurricane Streets (1998)\",3],[1608,\"Buddy (1997)\",4],[1609,\"B*A*P*S (1997)\",3],[1610,\"Truth or Consequences, N.M. (1997)\",3],[1611,\"Intimate Relations (1996)\",2],[1612,\"Leading Man, The (1996)\",4],[1613,\"Tokyo Fist (1995)\",1],[1614,\"Reluctant Debutante, The (1958)\",1],[1615,\"Warriors of Virtue (1997)\",10],[1616,\"Desert Winds (1995)\",1],[1617,\"Hugo Pool (1997)\",2],[1618,\"King of New York (1990)\",1],[1619,\"All Things Fair (1996)\",1],[1620,\"Sixth Man, The (1997)\",9],[1621,\"Butterfly Kiss (1995)\",1],[1622,\"Paris, France (1993)\",3],[1623,\"C\\u00e9r\\u00e9monie, La (1995)\",3],[1624,\"Hush (1998)\",1],[1625,\"Nightwatch (1997)\",1],[1626,\"Nobody Loves Me (Keiner liebt mich) (1994)\",1],[1627,\"Wife, The (1995)\",1],[1628,\"Lamerica (1994)\",4],[1629,\"Nico Icon (1995)\",2],[1630,\"Silence of the Palace, The (Saimt el Qusur) (1994)\",1],[1631,\"Slingshot, The (1993)\",2],[1632,\"Land and Freedom (Tierra y libertad) (1995)\",1],[1633,\"\\u00c1 k\\u00f6ldum klaka (Cold Fever) (1994)\",1],[1634,\"Etz Hadomim Tafus (Under the Domin Tree) (1994)\",1],[1635,\"Two Friends (1986) \",1],[1636,\"Brothers in Trouble (1995)\",1],[1637,\"Girls Town (1996)\",1],[1638,\"Normal Life (1996)\",1],[1639,\"Bitter Sugar (Azucar Amargo) (1996)\",3],[1640,\"Eighth Day, The (1996)\",1],[1641,\"Dadetown (1995)\",1],[1642,\"Some Mother's Son (1996)\",2],[1643,\"Angel Baby (1995)\",4],[1644,\"Sudden Manhattan (1996)\",2],[1645,\"Butcher Boy, The (1998)\",1],[1646,\"Men With Guns (1997)\",2],[1647,\"Hana-bi (1997)\",1],[1648,\"Niagara, Niagara (1997)\",1],[1649,\"Big One, The (1997)\",1],[1650,\"Butcher Boy, The (1998)\",1],[1651,\"Spanish Prisoner, The (1997)\",1],[1652,\"Temptress Moon (Feng Yue) (1996)\",3],[1653,\"Entertaining Angels: The Dorothy Day Story (1996)\",1],[1654,\"Chairman of the Board (1998)\",1],[1655,\"Favor, The (1994)\",1],[1656,\"Little City (1998)\",2],[1657,\"Target (1995)\",1],[1658,\"Substance of Fire, The (1996)\",3],[1659,\"Getting Away With Murder (1996)\",1],[1660,\"Small Faces (1995)\",1],[1661,\"New Age, The (1994)\",1],[1662,\"Rough Magic (1995)\",2],[1663,\"Nothing Personal (1995)\",1],[1664,\"8 Heads in a Duffel Bag (1997)\",4],[1665,\"Brother's Kiss, A (1997)\",1],[1666,\"Ripe (1996)\",1],[1667,\"Next Step, The (1995)\",1],[1668,\"Wedding Bell Blues (1996)\",1],[1669,\"MURDER and murder (1996)\",1],[1670,\"Tainted (1998)\",1],[1671,\"Further Gesture, A (1996)\",1],[1672,\"Kika (1993)\",2],[1673,\"Mirage (1995)\",1],[1674,\"Mamma Roma (1962)\",1],[1675,\"Sunchaser, The (1996)\",1],[1676,\"War at Home, The (1996)\",1],[1677,\"Sweet Nothing (1995)\",1],[1678,\"Mat' i syn (1997)\",1],[1679,\"B. Monkey (1998)\",1],[1680,\"Sliding Doors (1998)\",1],[1681,\"You So Crazy (1994)\",1],[1682,\"Scream of Stone (Schrei aus Stein) (1991)\",1]],\"hovertemplate\":\"tsne_1=%{x}\\u003cbr\\u003etsne_2=%{y}\\u003cbr\\u003eitem_id=%{customdata[0]}\\u003cbr\\u003etitle=%{customdata[1]}\\u003cbr\\u003epopularity=%{marker.color}\\u003cextra\\u003e\\u003c\\u002fextra\\u003e\",\"legendgroup\":\"\",\"marker\":{\"color\":{\"dtype\":\"i2\",\"bdata\":\"xAGDAFoA0QBWABoAiAHbACsBWQDsAAsBuAC3ACUBJwBcAAoARQBIAFQAKQG2AK4AJQFJADkAFAFyACUAmgBRAGEABwALAA0ACAB4AFcAOQAlAJQAKABPAFAAGwCFAHUAUQBHAlEAWwCAAGgAlQCKASgArwBTAEAAOwB\\u002fAFIAGwFzAKIAZwCGAEEB+wDcAIEAgAAHAAUANgCXACEAUAFEAG4ABQGwABIAOgCWAIoA1QATAV8AjwBoAHAAiQDbACcBAAGGAawA\\u002fAFJADYADwAFAEoARwAqAEEAggAfABABFAAJAEMADwB9AHoBJQEEAEMArQFqAHMAuwD0AGEAnQFBAIEAFwBfAPYAqwDGAAMBaQCrABMAMgA9AEgAOQDeAPMAQQAKALkAgAAXAJ0ARgFSAPcArgBiAJQAfwA8AGUARQDcAGoAXACXAEAAOgBDADwBdgB5AEEAbwFEAaQB0AAcAYkAfQDdAN0A+wHiACMBdADvAPsA0QCqAEIAfAAUAXQAnQDxAC0B+wDvAH8ApQDOAFkAGAG2AF4BiAAyAEIAyAC\\u002fAEsBzgBcAIYAcgDUACIBeACrAG8AQgBKAG0BiAAsAG0ApgChAPQAqwDHAI4AZQB8ABgB2QAtAIABAAGWAJwAgAB1AIQAMADwAHwABQCgAIIAxQAuAJ4AGgA+AKwAEAAvAf0BogB\\u002fACsAQgATAGUA4wAjAAkA\\u002fwA7AYgA0wDGAN8AvgAMASoBRwA8ABwAVQCSAOgAsQDBAKIA4QFOAN4BAwFgAH8AcgCTAOUBTQAGADIAwgBJAK8B5gApAYYAlQBXAGAAvAAeABwAkQBLAFAAXgEFAKAAcABmACoBqAAUAKkA2gDwAH0AgACvAK8AJwEtACkAcQCPAPsAQAAVACsAEgBbAC8AvQALADQAfAA3AEEAfgCJABsAHwApABQAGgAOAEgAKQBhAAgBjwASAAoACgAcAC8AJQAwAC8AqgAfADcAJwBDACIAJwALABcAGAANAGUAKwB0AGQAbwAfAEUA0ABXAEEAHAAbAAoAOwBEAMAADAA4ADYADAAaAFkAEgBMAKoAyQBlAFgBMQArAHAARgCiAKMAXQA3AD4AGQBAAEkAgQCyAFEAagAaACwBEwBVACAA2wB5AGEAXQCZAK4AqwBDANgAYwAFAAYABQAOADUABACiAC4AFgAJAHkAVQB1AD8AqgBCABAAEACRADAAGwBaABgAHABKAJQARwAbAFUANAAwAEAAQwBsAN0AngB+AMIA+gCgAF8AaACzALMAPwCAAPMAigB9AEAARABBADQAMgBDADsAPAA4ADsA5wBEAJgAPgAfAHsAOQAnAHoARABaAGIA1wB5AHkArQA5AEgAtADJAD8AWwBZAFAAfAB4ACMApAAuAEkAfADDAHkAXQBQAIEAFgAPAA0ANgAKAB4AQgAsACsAMQAzABUARwAMAP4AKQAMAFwAlwAYAC0APwBmAAoADAARAEYAiQAWADsAMAAdABsAFgCzACMA5gBDADIAHAAdACEADwAsAF0AKQBcABMAIAA7AKgAJQBPACcAIgAOAMoAKwASALIACQAMAAUAQAB\\u002fAM4ABAABAAIAFAAyANEAUQAfAEIAQgAeADwAKQAoACIAGwAzADsAQAASABIAQAArAAsAJwAnABYAUgAEAEsAqQBNAB8AdwA6AEUAGAAXAFsAJgAsACgAUgAhAFkABAAjABsAJgBGAEMAMgBIAKsAWgAiAJMA4wAsAIMATwBzAJkAWABSAHQALgBkAAUADAAGAA0AJAAuAEEAVgAwADYATQABANsAawAiABsAZAAxAKkAnQAyAEUALABXAJsAEACkAFsALAANAE8AKAAKAGYADwAKADUAEwAYAIkABgBGAGUAaABPAAEAMwBIAA0AVwA6AFIAEAAdAFYANgA6ACIATAAQAA4APwAtAFEAGAAnALQADwAbAIkATgA7AB8ApAA\\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\"},\"coloraxis\":\"coloraxis\",\"symbol\":\"circle\"},\"mode\":\"markers\",\"name\":\"\",\"showlegend\":false,\"x\":{\"dtype\":\"f4\",\"bdata\":\"tHazwKBHSEGkUqW\\u002fwaUZwMN2pUDWjIbBoZ1awcZYAMK1U+TBPJ7IwW577cB3WHXBXQpvwWkQhME88jnA\\u002fXmEwJjOcD1LlhHBPmfEwWiEj8HaGv5ACIkCwUeEZsGbxXBAHR0EwIedZb\\u002frBsDAICDjwLU7rUGssaXBUmWLv1owi8FYVkLBpZahwGyW00F6O5BB9cubQCNSNUHbZE3BglrgQLsv1T+n3mDBUa7\\u002fQMbB48FvGY3BhieKwbJAT8HKLObBNYmVQKVZ0cDibic\\u002fH62hwQ2oFkEcspu+zpiVwevte8Hc9cLB\\u002fHFLwUyl0sEPfdHBA8nPwYSiB0HUW1ZAK4F2wVlGrMH+nZI\\u002fRtJfQZSbpUD44\\u002f7AW4abwaCYV8AXBYu\\u002fDJj3v3rrwcBa77i\\u002fPWHawCqhoj+EPtBBKzSfwCb9PUEz1D7B0T2IwMapMsH+MyBApQ5aQfUOpcF3v6TB\\u002fQazv\\u002ftkg8FWgbE\\u002fLLVEwY0\\u002fMsH3E6PBPoLdQEtBVsDmhbfAH6vpwQgjCcLoagDCAXqCwfnZB0EZEQtAbAcAQnhWAUK5johBCgZxQZQqtcGYbHzACWgIwQ4awkFNchjBFSA6QQK6ncE3s3bBhVM2wSMIusHVIX9AqA\\u002fEQLWX0cHDv4FBquzTQJHVskE4gCFBlZP2walA+j+Ltfu\\u002fWon9wZK7O8EnWfrAGTDgQT9ft8EiqsnBH6kDwgj1+8H93cvBCnPowcdWi8HZ1U1BL3lbQceLO0FkXBnAUqonQHsm+cCGvevA+cWaQabEFkBIhlzAyewqQdn+jcC7ydHBIObHwaaoSMANmMTAHIqTwUWsMz\\u002ftqILB3wt7wZpzg0Hy8cjAyMR1wcZzD0AqB2fB8iSgwIzKdUGCGLLBd5bVwbKBLcDyh6DBmrSpwbIWu8Hv\\u002fsrB60fKwOEnr8BNdrfAeVJ9wd1x9cBHa9TBHtMBwvQqysFpa8vBpobQwNo4K8HGe\\u002ffAjofSwGtp7sGQl77AhiPowYcA48GlnobBF1DnwdoICMJ53NzBatnwwTTF98GKWt3AQWaxwVsU88HW+eXBCTzSwa\\u002fXYcFCLErBOM1twBHYwcHTd7DAW4T6wervl8Gxr7LB8Hvcwf8onsEQLpHA1S\\u002f8wVJwycGeEfHBqCoFvzwcAcCW\\u002fuDBbxkvQYGxjr\\u002fJdx2+xrsIwXxBnsFUfLG+7uPBwUrjm8EUylBBJHaAQFsfAkEu+s3AnJThQIQxqj\\u002fOoE9BTIDCv+PfhUATNPXBa7CTQVuwdMF\\u002f9gK+oiCBwRssPMDLx5JAtN0Bv9uj6MGF7i9Be80Dwbb8hEDFS53BvMSZQWUMWcEyr1dAoWZhwAndgMHRWaNAnAM8wUaknEHhPN6\\u002fn0qIwYISjcA+WJvBexNiQcbyfUFHW15B+NWywOdZA0Iw+O4\\u002fEE6ewATDoEAjUM6\\u002ff1SdwdOKhcF9vjLA2xwNQavkiMEEUxDA8KWTP6PL8cFi7YDBi3u+wMc0bD+xX548RhNEQPQoiUDIvG+9Bn6xwTEzhsAgbVzBlHprwVKvb8BJqGpA4IUfwVggzUCYT1FA6kbDwS1jF8Fx4QRBihiOQMWZmkB2IHfBc7RUwNSgl8De+Zc999o1Qe7pgcEIXK3B0XwaQO5Re8FOS67B5NuEwYeMcj8oMv5AIi0cv65YL8Hz4ZRAG0STwX\\u002fsBkIs\\u002fITBhdqGwcVBX8Fj9wfCCS2pwDf0vT99nHPAagwgQe6wI0H2uA\\u002fBClfWQEwHgkDoP\\u002fTAjOCFQJb0F0HiiLtAczdvwPfg976Sb4FA+4IxwT20x0D1AC9BL5tiwbdQSUGZD\\u002fBAUuqfwSFAEEFyTWdB9R0bQcsohsGAGp7BqQuvwYSmAsJSZxhBG4GwQJlkXMF3PStBv9S6QZcGfkGKDsS\\u002fwt8UQc\\u002fPzMDGawbCsvNCQaQqqMBq0sfBwB\\u002fOv1IdD8H6Rx5Bp29HQdBsmEBivNw\\u002fuDdIwcs7oEEGHAVBatBkQbaKIsH0w4LBnYRRQQvrfEHfmr1Bzd6WQSHIPEGXpB7ALo3xQCOG1UCbizrB8OmAwb5YskHIBopBDmkzwOv0Ur84OqLBpkDJQT1jhL9nDB3BOQJXQA2BJkD8awY\\u002fVD0SQQsPwkEOEkTBjzJNQWp8t0Fmj98\\u002fXmo5QYvE0j9hJuY+30SNwIm6BcKDqyxA1PlmQYs+nkHdGanBjVcPwY8i1jyptzFAIN4OPydIhkGKvq3Bab+OQHuj38D8QQdAEdsbwG10+sC8nanBOQ\\u002fGwJtyDMGI7gPCCLPvQVZGhMGOku\\u002fAL\\u002fnzwaeZtsFjrcPBM+y\\u002fwRtbB0GAtsTBGCIMQJ36IcB1X\\u002fHBX3wXwc8pBkL5oApCWn4FQvAw8EF\\u002f\\u002fQpBirnwQWWyzMHJuRLB74MNwQGOiUEE6dHA2Injv45j1kBmg5dBhADZP4TbCkFLRVNB4qEIQQToJ0EfLK5B02+QQf\\u002fUur9RT7fA4ZBNP+daWsHDtNjB+vOewUFMbcG8FCHB2eLWwVFkPMFOUz\\u002fAxWlvwbI8UT8IwZO+rSUavsb96EBbbrLBJU1wwWq4nkBZx\\u002fy9c6PkwVdN\\u002f8Gnku7BHrSxwX5b\\u002fMFMU\\u002f7B1WDBwQ\\u002fs08E50vjANzjfwbY\\u002fssG6\\u002frvB0f+rwby5u8GT5sfBe32ywfiS3sEK8\\u002fnAMMgCwsl71MFVj+vBloqTwQFCz8HsvgXCb+cYweGdVMHbWMjBSajIwcuUpsEcee7Be01lwevuvMGsudrB1DsGws3kcMHz5c\\u002fBeI2Bwdv36MEnktHB9nW2wVuqY8HDb7jBbncCwljYrcFAVLfB3J\\u002fKwf\\u002ff0sFOMLjBrn3hwZH2BcKdEgfCOTPqwavLyMH0WaTBSoufwXqMnMEqFCPBlHdAQHwkf8HWicnBbZglQVPsQkFyOB1B78LSQIQkpEF\\u002fr8TBuM8RwRIh7UFn9ilB9fgnwepIv0FPO4LBvI5gQCV\\u002fiUEnag1B9NUAwX2PhkEo861BtqezQcnGm8GhCabB1BxmPupKV0GYkrxAuMWEwDA0i0GNK4NBARiJQcrmEsDZoINBp7PWwE\\u002fN\\u002fEANvZRAeyaHQcIQ90AgAoW\\u002fA0aXQTcju0HdrYxA9Qf3QU6uAUGl8vFAyXvPv0K+ST8axI7B6JeiwOdYgsFRI8JBKAdOQYeVDMHUt3PAOWmLwY8I0kFLcCw+gDoswReGp8EsdQzAg6f4QBisW78Cc51BmpOeQVM4DEIfPwjBUfuxwTjrmcFyMvzB\\u002frHewU84hcHHxvHBW8jswWQSzsE1IejAiZmewSbM1cHrccjBiIKkwYhnscG4zs3BQYMgwTZPL8GirDzBcapDwZE0M0EdNMzAqegCwfG0AUEmU9jAQEkPwYG3qMEutvy+ajBEvpmPFcG\\u002fvXFBi6K7weTr28FNtrbBwgKOwXsYEUHo7sA\\u002ftXIHwb7FlcFZFLPBED5FwaZNt8Hj8U\\u002fBTuUlwaM6nsGMp5DBkA5QwcljtMGqm9fB6l+nwTiGpMHmPgDC69KDwVy0s8FYQo3Bs379wV1Es8GVaPbB18ZNv+pirsE08x\\u002fBgXO3wTZZ30Bzb4jBkZycwZ1F4UCs5aNBc6JoQRLIm0CC6c5Bq5wMP+A2Q8EtZXBBFvG2wJehmkDAR6rB40UswUKwWUIdqS9Bv3D+QK3KCEFslRJBj\\u002fEqQYnSK0HiCBvAF+Z2QAzMPsHsRlxBlUyYQTu7oECtndDAFK5AwTVGncD5543BHRGvwZFRWz5CrAdB0QxgwY2FfsBP1ibBSS6LQRzt1ME0J\\u002f+9ZhQPwY6HA8Eqe7nBhzrGQFGxw8Grc4DBNbeswRDwTMBB2FBCATXbwBNafcGXPb7ARw5SwT\\u002fG+cCCWZdBJ+uawTwNeEGXcV5AbjkKwDW0lz\\u002fnXk7AIs4Uway4ZkEdqKRAPJXMQLlVXEE95jPApY69wbATKEBJ4qDAjLF4wfWLiUHbmPfAUxuZwbLMFMHjD9VAzt0OP0omrcBlwIPBysQ3QPooe0HbhBzAigmCwTBVJcGl60LB7IH\\u002fQC7WF0FYeZTBItZ6wItLOMC8+8TBs0dvQNcFUUBB5HlBjfotwfsq+kFk03hBqkWFQFMZ8D\\u002f\\u002f+iJArq2lQBOwIsA5iQNBv7W3PuAetUD3etw97jhUQWAJmcGep29BQKKawQ97BMD5A4A\\u002fqCk0QZBK+0C4eJhBylBGwQ89F0Geyz9BmjZkvwdQHsBhT7hBaWpfQhv+q7\\u002fWfs3A7XiPQU1OYUIlOr\\u002fBo3dNP+B0v0Eaiq3BKnNTwWDNCUBCG8RB6qYmQXM39j9WJ7lBq2m2wcxzAEBjh59A0J1RQZAbGcAlQklBlfnjwW1Q6L9o9WLAIF9CQQrgwEBGSd1Aw8SEwbJPAkFKMIPB75heQl0EPUEnDKZBNUPSQNbG7sDLAmhB\\u002fh9YQRlMb0DNms7A9hApQUtaOMAQ4+q\\u002foPdGQakSUEE8YWZBXQIwQbgdC0ImCphBDst1QAzicEFbUIFBiPttweKXpsFST9TBknTKQcvODEKBUT1BGNdEQYFAI8ED3MHAZm2yPwa20kDHQJZA0x5Gwf1ZYsEbVD1BLfDJweEwx8EQfwxCNHiqwXsIKcFQj8rBlOeEwZkX+MBNhQxCCzSLwBhIcEHGUCbBKsMAQpW1l8Hak0E+lXqkwPKI4UATqK\\u002fBqZmuwbyaM0EKKyVAkLB1QbC337\\u002f0iA1BPw5iwQm+EsEXhXJBJWNbQVpUQUFbKJ5AJb00QIG8GEHAklrAsL2swAhHRsF+yGJBnwDswGslu8ENo5bAJSsTwe4jy0G7eWJBpz81QXyDKEAdXwxCT2QnwAlCkME1LApCO0cFwPVukcE1Fm7BhQ7bQcpyhsFvJEXBbz6swHYRCUC1ubbAm6+HQdMzDEEVOrHBMEqzQftIsEF+olfAIPoFQsFERcBj+t7B578pv5bKLkDv3Le9eaaawcIQB8HQO5XBqXGxwZp02MEgJO\\u002fAQbtUP15EuEE9M\\u002fpB4iPYQIy+2EDNG5NBlPC9Qc5d+T9TiHdBhddpQTyodcG3qJbB6vtIwccYA0HRKILAy15WQSP1gbyo1RnB9nLbQJjcr0FhwsLBtkT2wM1DncHfEZpBAkciwXX7zcB3Q6dAX\\u002fHcwBzWicDABzfB\\u002fFg0wQA2mMHbP3LA6FOiwdkv3MGmI5rB0ubmwatz58CGA8PBPpyvwRQkpMFBFqHB13YlwQblQsFaSbrBJdyuwYwMj8E7sLXBtxEXwVfZJEGYDAPBWZGuQQLfJEHIWa5AhwymwM9yNMHhUYRBNGOkQU\\u002fDckH9tVdBZIMkwKV5MUG8QchBdbiFQS8g7kAAsttAYReNQQxSnUEmpGc\\u002f8Z3cQIM6bMGMIYVBGIe0QatJgkGBnohAkNx7QWCL5EEZFClBlwy8QUm638CHxJLBrng9wYfivMEz9brBx29ywSVgHcE5Es2\\u002fyDkMwVx6c0F6cCRBuDflwEgUj0AC5STBsYSzP58MucH3BqbBbkOTwa\\u002fkVsHoNlxBYSaHwSr5P0HJ0KrAc9kIQvG6B0FeK8NB8Y6pQdzopkFLuUhBXT1FQf\\u002ftmUG\\u002fclpAUu8QQSq3\\u002fUECJ99A8fLLwROHV0Ee\\u002fPY\\u002fog48wXHgCkH+b0Q\\u002fSNl2wZ\\u002f4X7887pdBrgFDwSCsb0El5WXB4qKpQB9vh0FO6JRAwVeRQbhwiT9Z7rLBJrCyQVgHXcGNJk9BFHpiwZ7oR0GAMtbAqKSpwJf0rcEl17jBqfMwwXkkNcDIo0XBoEjQwdqdpMHMl07BHZ52QerPosHd07JAsxihwWfql0HrdHNAQv4kQJTmckHg2r7BQx1KwaKJSMHZ8ni\\u002fFTu\\u002fwSo0L8FNkBjBxacEQle3x0Gv\\u002f35BfF45QU0Onz8UYqhBVQJAweiz5UGiuV1Bl1zSP5WAiMET2TbBwuqgwUCcdD+QZZLBNO2cQb9BdMEKZaxBWGHrQGuhdsDEt0dBsWCOwQwT68BzAQvAAcFywXuOu0CiHJLBNWNHvbMaVMGK2L\\u002fBf6pxwb1RWMCq2gLBC0vIv6Z7q8F+lF3BRxN5wfZvkMGMFqLBl3N+waD8S0F4CC7B3OSRwb9nSMGCs6TBTD\\u002ffv580EkA8jx7BG8h1PoSJWkB1L9HB9cD\\u002fwLFOXkFfNa5B1H+cwFXuvMFp+9XBFmGWwRYmMkEwsgNC8CuTwX1zKMFti5vBfPK6wadcYkF\\u002f0uo+weBnwVGuUcE8plVCNn8VwZ4uEkEkKZzBq+qWwe1CGcEUVj3AQp7gQeRYcUGMFrJBuKKoQTkzZMELeafBnHqswOkTdMH+n4rBTTd5wVB6sMGvWPlAc9d2wEmcRsH4co3BtCjRQXrxZUF0wLdBxGJ8Qahw4UGj4m1B1w2JQZjS9EDW\\u002fHJB+3edwfqlN8HK8RFBpYXCweGYUT8JJZnBF\\u002fyDwCK9wsG6UcnBOGWSwS+QrcA24kvBGGKZwEDH08DhA47B\\u002fmlWQphQrsH0\\u002fLLBs+WcwaMJj0CDWyNBfiF8Qd\\u002f1jUHfWrhBQ0EDQSJWqcC2x9VAntHtQK9+yUFPTfJBPDvqQPMFA0G2\\u002fUzA7SoOQaiOQr9BM7tA3R0YQQCAWMBQsi1BCFRQQe8iz8BKRsRAfxljQM\\u002fHlUHVkdNBwPNyQaOkjEByhXXA4Ca2wMvkxb4SNl9CwJQqQD7JTUBZGmtBEmK+wT7gEMHyRqhAMfZ9QOTwTkFmQpHBtWWUQXJzeEFKhZ+\\u002f5OI+PxS\\u002f8kHQ75fBX\\u002f3gQNHaHkDTmsJBplW6v0ESqUH8n69Bn3MRQXMtjUHN0ZdBCSSBwQjgZsFC8JTB+A+FwQr1qcCQiJfBwGsbwQc1SMEa3pnA2opYQYoQkkEOv9JBS3KcQdhB2UHqeVdBJxNHQZbYscBRJrBA37IvQXDApEDrRmjAuLorwUWfd0G4xxtB9boVv\\u002fS7yMHwc\\u002f5B2Td6wS9hkUFEP1tCKjcYQOmhdkFXpgzBxT\\u002fRQNZ9pECvQFrBZ8stQSYtycEN82lAIQ+JQacZDMC1jmnBqQKlQd9qWkJcB3VBl9JTweLdzEHTCwdCdSZcQs0na0Dm0IhBv2ZQQAtXIMEtGUtB++HMPzGGmsArFvtBPOWkQU8zr0HQcfhBV\\u002fZ4QdQB577RhV3BreYRQS1AAUImin\\u002fB87WtQZppYMGr\\u002f1pCcwAawdTjhsEgM3VACKl7wcPn+EEVTZJB7p0JQqhPPUEJLmjARD\\u002f6QVw7\\u002f0GAngFCA4Jkv6JD90EtdJLB1mYqQRWeoMCnMlVAEkb5QbKJWkLx\\u002f\\u002ftBe7Z5wK8GAUJEkVrBVy4BQqfmPEGOmCHAQ233QfQYwcFtHvtBvracQVROU8H+nv5BNbP4QWz\\u002fXEIMDpBBZyf9QS2kx8GwfaLB8MuawdkJPMFFyvNBFO0jwa\\u002frAULM0f9B4tCPwcZeskGNoY7Bk0trwXJduMH8wpnAdM6jPpZYZMGb+G5BadkIQpnnZ8EToN1BUtECQUq3ccHQsgdBmPcaQXrM7kDy3qJAO2YqQWlQq8GHmFvB2H7KwWOfo8EH6UXBkVOQQfenMsH\\u002fXRbBNmJkQd1rXL8qgInBtah1wRMEwsEBIKZBj\\u002fIPQkTNM8GyDo1AVH+dQALgtkGPPUBBRHmDQZ4hw0ESfoVBvQeIQPSTXcEup5dBaXzmQQKkicCTQKJBz8axQVn\\u002fpkEe5\\u002fHAMRF1QPTMrr+5VHTBy6yZwJCdMkBKY\\u002fC\\u002fVa3SQYWLrEAsUVHB\\u002fqmFQTo8q0F6dndBLKdmwDdD58CzPsfAj6XHP+BOlEC48Fy\\u002fazKPQZuApcFgZkRBU\\u002fMUwZMwYkJMhMjBcREUwc\\u002fescETQ6PB1oJhQl7wk8Ee74JAGnCVwaETFcHlTKPBRL2DwftWU0Id+KxBemaMwe0MuUEqQnbBZSfAQPrlosG+k9LBzstPwS4gDUGIQpxBRiwiQYxJX0IWt+TAZWGEwPHvbsEy7FxCLqokQV3yYECjdhtBIl+4QWvNcEE2LUTBmJuRQF1BEUGUEi7BQZoJQpJ6z0Eq\\u002fY3BcEWmQcBTgEEtXF9Csm19QcUvVEJGhQZCrQTLvz9B20FEcNFBDVh9QQz+jcEE69XBrZKOwaskBUKcZzZA1zvnwDRvW0LsMWrB8M1gwJklOUFGCc1B4MfEQXKDhsGpu8nBTfGlQTBhhMDa38jAOo27waahAj8P6Fs\\u002fAzS5v3Thj0FKMVFAXZaJQfLzm0DxzaXBUfSVwZ67WEJq+eFBJCgiwTOrJcG7D69BxW5rwSjFrkGqdnjBWhNqQRPgk8HiOZbBrgedwRUshsGPz5xBtn1PQUCtnMHZWhZBIclYQu5BdsDrcRfBzg8IQiRWUEIKJAdC0rcHQsgWj0FhsFdCVXBWQXxQLEEHwgBClaaEwSdmB8FL1ghCanqUwYWcCEI80KfBUPUPQvJsD0I1EwZCnvlcQpPeBkKe6llCfhFdQg8qCkL5BAZChUdQQuyDCkIgpglCFW8FQshED0LxQQtCXqEHQgkkCUKW3i7A1HUPQvaFDEJdlV1CKb8LQs48V0IG8FZCbbMpwDh5BUIkDwhCfw8LQenTWMHWnAxBo62RwYsYkMF30lpCHpbBweDUWEKhEIFBKlwxwRlZk0GCCJbBUvBRwSMb8kEWqlrBgJFTQtFXl8EIYipAaruiQZukkMEZ7HJBiK4JQih2oEFrdvM\\u002frVqiwUzx+0BDmlxC4w88QWnsXUL0ebJARTpUQl7GXkDzOgRBXGoLQpwTNEAn\\u002f5rB8cyBQUMvG8CNDgtCDGCEQSFQKMHD+InBbjs5wEEfo0FP91fASworwGyErkHUczbASYZWQvdtOMBohldCde96wMseesBYjFJC1KBbwbDRhkHuFGNCeLVWQi3tkMGwlz\\u002fAIpZUQgnVUcA0L11CX4tXQjSJnkE6MlZCgltXQuncV0JtBZBBs057QTl2JsAGuAxC+dvLQZL1BEJQ53BBQrV3QcQnysFYMFpC5jmDQck6E0FozBRBfDd8QYHCFUFAmglCv76ZQe3qn0HQcKvBTyxdQhEmnEHUNxvBjnUGQgbTREFTRo5BvfqDQQAaG8E=\"},\"xaxis\":\"x\",\"y\":{\"dtype\":\"f4\",\"bdata\":\"SOWSwHA60EA5klNAnIOEQauntcF0HJXAkRhRQd2rG0HcqjVBBeQMwUjjBr8cGTZBa3utQZRVQEF9JbLB0MNGQT7z0z\\u002fU14ZBIFTpwJ8sA0HSBU3BTYxUwEIblEGXiJNBaG+YwU3XiEF+TxRA7uPxwGmDTcHUUoU+9WmKwPPpekH8J2TBWt97wTzuv8BWB6PAlHpHQY2NQ8G3dfm+iKNXweqq3EBtWyVBeWw\\u002fPwaDCsGTigDBmP4zQXQIqEH4iIFAXRQowGjCXMAU7Lq\\u002ffKgLQXfS6EAnXHvBWYe3QPY\\u002fvUHRVNrAZx+0Qacj9MDP2PPA1WzxwF8CssHHyDPAkkouQaS09sA9gL3AM\\u002fIpwXxZb8DBD03AhvKTQK4trMGFHFrBaLurwUr8nkGUCSvBXufdQFZtwcBz1s7At1dgwPbIwkC48aJBkVVcwGUJNcC6eyrB3d9DQdNFrEBCZDfBihoewMDTuUFM5zlBywU8QUMgXEGDU+ZAXFI2wdWlfMCdkILA6U0yP8b1T0GGxPxAvHnFQX2adL\\u002fNtvrAG4FtwIhYL8DnlAHB9xEOwcoVjsCUtXxBpY1GQK8+oMB3aRrBgJJrwaOSp8A\\u002fslBBrkmCQMDnfDx0g6LBNgu5wTq+GkGyu4vBxS25wQJjHUF3TBLADstjQSZTqcF3xIvB63AzQZBPqUBWTANBKmkIQM7dYEH+JZpB3QgDQaq2cEFrjJ9BtzD7QIj9oEGI\\u002fpPBP6cKQfmTBkGhQnfAqtcKwH9wusAgn4i\\u002fsdc9weoML8GnwSrAfgyawdnGqUG23aM\\u002fKRyEQajSfUEJBn9BJEmtQWGJvMAkkKlBTqwVQcFLO8E4mFLBQWJvQcb1tMFgIAZB2ybQvzjjPEFQVL3AMFr5QADGRUD7Ar5Bhh1SQDuKcr9gCCRBiN1YwC\\u002fTOL\\u002f3XUTAcc9zQTCulL92MoBBSCJtQRCmokH5m5FBGENiwDyYr0FZMY2\\u002f8TPeQEWSikE9HLPABz0VQXv32T8iWuC\\u002fSztaQUZ\\u002fUEEXqC9BUVYxQbdQ9UDwCwDAWMSgPZoRgUEVMX9AjxqKQaWDJkG5vxlBFWi9wGhIgkFiCIvAmGHKQDDILkEct4i\\u002fVmJnQYqit0GIGRXAdPcjQe1lscDOf15Bz9KEQToPJsDSP7xACsJ8Pyp+g8H4AQnBIHZgwaWE5UCILNXAOXpwQZo2nsCogA7BVk7swCBLZ7+ylgXArJYkPkdZdsD3XqNA\\u002fHtmwDST5MD0uRlB34ERQejDScG7A5TByqe6QcoiIr\\u002f+25JBmeODwQTmrsCGer7BhFpawSiwecGKAmDBy3YJwatQikBhk39BYh4IwcTdFMEULarAEbtUwXzROMFz5XI\\u002fIrpEPuRS\\u002f8ANuG3BQ8GxwSWjIcEoOIDBNKC2QUn1Z8BmIy9AAHgQwP8POj9F3UbBwKtjwTOIKsHNKDDBxTPRv1rzdMHEPRPB2suewXPxWEEJu8ZBFHquQEmjncFGcwBB6xKIwDjtOsHrMqfB3NLNwJt0c0AXhYlBnsAWwXHDkcHuOszB\\u002fxxQwYNkf0EJKJHB+wgkwNrPWb45oMPBzJkYweh8Y0CLSjzBPCAVP1br\\u002fkAQ96zBf+wXwCBZF8FjvbxAWm5ZwaZMAcEbA4TAUaR\\u002fwelUhUBssL7Bygm\\u002fwYl7HsEzkmzB26J1wSaLEz\\u002f7qnLBNSN2wVCST0GOKR1BaiWvQbCYj0FelbBB1BepwSNsssGBDMFBOlqxQHG+usH9yaLBtnzGwW2yCcEpr8vANB8iwcSwvsGMO8jBG9miwMusckAneSHADxGpQL0eUMEamhjB1bEMwc1hisFtARVBPMkbwDJn58Dc9PQ\\u002fb7u4QP\\u002fGKUFGOQvBBnqtwXnwcME+TIrBp+s0P3eOJsBY5h3BvOySwCiqtD8ExlVBGMOPwAeqZ8GUogTA3gJ6wVP\\u002fRkG7ACdBZNIwQZjWUcHHXoPBdwafQCcA+cDw8LJAw7GWwSC8dcF5vFK\\u002fHLUJQe2tisFUtqdAfem9QLaJg8F7o6zAYZbJwLEqn8EYmYJB+kw\\u002fwIoXysAfoAVBgwmpv1IKnkGBYac\\u002fF2kTwUiVBsH2WIFBRm8DPkggUcB64UXABz6ewdITFcGR3phBCJwowT1wBsGIRXDAtnCRwD3DEUG2LpLAyyhBvz65ikA+B6vB7WI2PnABYMBGtkNApKEywY824z+PfozB2r5DQXoeW8EARaRBL8g6wSLsTT9kUd29YAOAwHeDqsBJaBhBBM0VwTloZUFo3ARBgoOUv8MLVkGcG4XBX\\u002f59QddesUGmQ98\\u002f5OKUQDjDCr\\u002fyGKNAvVaNQbkC38AOh6RA6tryP0fGt0BIhZRAQ6ePQCWohsDYk3nAARlxwKY+V0FT4p9B3H3eQDsYTcHf3oBAxrOFQdUd+D8gQX1A0mmWwRr8lMAfXLbARQylwVAirkC5TsbAWbDZwGNHlkFgk3HBxoANP1TmOkFPv1zAUDAuQIrFJkBRi4DAtr8yvg0e4cB2oqTBT7FjQXo+yb\\u002ftTJrBX5hSwCx9REFg04JBFy2tQW2FhsGIMalAy0wAQRyRekH6f4pB\\u002fVqSQbRvDkEXvIBBhWqMQRUcssCsAgdBvcbHQOSsPEFBYfxAjGUsQRwYg0FpzZJBUeURQZ6OZEHJ6JI\\u002fmAXbQAETgEFsbUxB7dVPQXzuGUBqB4lA4dSrQN2c0UCX4wdBop1jQRC4jUHNLmRB163BQQ0lT0HC4ai\\u002fMLhPQbyBXEGk60XAGRaZQfzzeMBllX1AhCixQSSxn0FGd5hB5bHcQMCGkT9rcXZBxM0AQYhN9L\\u002fkGJFBslGZP+J+KEF2xSdBi1F9wBzn\\u002fEAafKy\\u002fZ0TTwBYGiUEVM6y\\u002fcXFGwTjo8UBTjslATnCRwfmk1MBgW0PBhsiAwQDOMMFJGpzAPQCHwSeecD8JBmK\\u002fcQ6bwXqqrkC7tZdAdPTxwARXU8AOkXRAYGlxwaOmfcHXRwDAWGzrQNkBAb7AmOxA1csRwVKwTEBT9UzBCQ08wWMwMcHVB56\\u002foZFEQe2Ecb8IrVjB6ti9wCncpcDAy5hA6sglQSLvcEBpMnHBGvgPwRhPH8G0hqrAZupHQKLxscFDjljBtVFrQY2Kk0E56QlBxzOJQQAUgkDq8MPAMOecQHbBHsEgPv2\\u002fP+iBQSAsKcBqMpTBiM8GQWhidkFdh6ZBCQRkwRy0CcGzA4PBLYQPQJbioD8dm3RB7IgiP4hjd0FRwHJBTWS1wLw20EDVCn5BXmF4QdMZcsCd6l1BkjulQRiF00Dg2WhAJo5ewDpnYT8GlVXAnpwMwGOi\\u002fkAia6BB8bQ1wVUKIUBG+HhBFi04we7qe8FU8i5BKvfDwCP5hUGkuiTAUCGkwYOKjT8EaTFBSkxPQVTQJkE1BGxBJDalQEGbYEEIpIRBLKyEQUCmgkGzoRjAGwWcQYTNjUGMJoNBD34iQRgdjkG99Vq\\u002fXX3rQF1\\u002fjkE\\u002fIlDA6YtkQUNJJUGI+R9BcSmkQJkeNkEUu4ZBd\\u002fYjQTqElkF00whAKe2VvzqhDUDOvM7AJ7mkQTpsbD7KWyBBUv+BQap9AcGEYVBAIoTuvwxnEEGX0FHA2XsZwcZZWEHZ\\u002fkfBokj2wLC2ib9ZTIFBE4g0wY33ZcFPAL\\u002fBDReBQXcsjcGTj4rBUNr+wGwMWsFuIqzApXWRwWqNg0AnjofB+eUFwblAj8HiFazBUSXgQLB5qz\\u002fzI3tAiqFFQcSGbEEjFyrBo2M5wSoHBUFobOrAAVKHv2iSTsB2WCRBAtzkwB3REkE9zWNAwhRwwUuwDcHbdY1Bc0X+wOmajL71FGjBUJIxQQGZNcGH\\u002fRNBIgiTQcTQPUFDslbB3NYhwENKZEAas7fAUZbdP2u6zECJKLFAHKzBwNsRuUCqP2PBLCPyvjWwKcFOMazBaYLxQAKti8EGo6E\\u002fUPtoQPl6DsEs1QjBW0bav3A8m0FQ5PO\\u002fcCWgwEclksGROi1Al++ewY1Snz+u0JXBN9\\u002fgvzoXp0A+bBBBWqC9wU3RzMAspv7ASQ8HwURVVMEqXlXANbM3wayCJ8BD2bXBYLvfQOcdZD\\u002fHvTRA6YG9QCpwDsHW6zRB9XokwV7wDUGJQxpAV6gEQX4P\\u002fUBJ\\u002fG7BDoOQwRJWmEF26Yo\\u002f3IUaQVQwmEEkSFbB894qwUxNk8FHeC5ASEETQbYZdsHKbXRByMWxwKxLvUF59jXB2yZgwXbd0UCfvlJB5cQoQY2rUMHglNG\\u002fR8crwSKpE0AhQKVBx123QEVhPsBfOAXBySLKP7hiBcGppTdAC8eivxyJecHDCV\\u002fBJe48wb0ft0HpsjHBb8QYQCVKdUGLzWjBO0eiwQYcRsFEQK7ALWuPv5oIHMHoSXjAzoRowReLAcEwREPAlIN\\u002fwRpLh0GHnaDBGT3QP05po8CZ+pxBCrRVvydhR0GzPDzBfbzlP7\\u002fCncGQlmTBcIagwf3Ruz5G\\u002fkS\\u002fjZMEQHXzH0HjdZzBKY8KwSPxAEHH2yhAF38BwAxyDD+Fzvg9QpGiwW6dP0F4Hl9BH3WQQdd0V8Bz2ZDB5jG8wMwIeEGJ2ZfBOM7Hv1eMM0Fonx8\\u002fV84AQdW+m8FsDpDAEshzQWCES0GJcHlAtSpZwZ1SWsEuwGVB6GK8QNjCrz+NWk9ATZMfQaXNo8FtGYVAoxJ2QVqt3cA\\u002fwTBBD8iTwRS\\u002flkB2aAXBNTCnwGZeLkHg21fBrQDqwBAAg8GQJarByObAQDRv7cAeMnvBjqpiwawIiMGjULjAzz8wwUKH7cAc+YfB3GOFwS\\u002fqlsCRJ2rB2NXCwHkUUkBdw5G\\u002fwTKFwcUzncAd\\u002fbm\\u002f\\u002f32TwRPJEsGE1JhA6wVgv7UzBsG0MonAjK6OwcmGbsGwxD\\u002fBpUY3wRT7y8CqjSnB39+iQPDpb0Dnl7pAqEfkPnZsh8FcMvBA\\u002fcImwXKEnkCZCjjA\\u002fOVeQRV1VUGqcGHA976PQDlCHkG0Wh3Bgx6DwWmeQcHmaNS\\u002f5Vk4wXWntcDzX4DBVpeCwObzpcCo4pW\\u002fY\\u002fSewZ0xx0CwkjbBbKMnwW\\u002f2+MB7r2vBcF1+wIAqSMEN3gNBzTyTwJwTTMEmvM1AWGlLQZ4WUkEbGADAt9HpQGX9p0H+sSRAldOSQRqI0UBLqxdBsqYHwV1ty0Dx9FBBaR5xwHJamz+pQwpB1V\\u002fPvzT3oEEb2B9AbwSPQWxJRkFnTSfBu1TDQLxbP0BCSrLAU4yKQStAh8BXNClB61wdwfPhmsCDBBdBcxucwPp3YME6LulAmDcjwc7Jl0F6RovAA+ekwAWkocFuyK7B4MktQb9EgMFaZFlA3WyqwVICjcFKM5PBape8wMO79z8Kl2nBy2TyQALl5MDmSJVAMweHQIMNAEH6C1rAkJ4AQbUU0kBc63XBmDjAv97VfMEHOj9BzMUaQI3Hqz8eQCjB4PiUwb1SIEHH+VxBSGHdQLra5MB7jghAZk2Awc19pcEqWaxBqf0CQdX9MsH3np1BCqJoQd8PIkAU+KXB+KRzwCbrqMHLDG\\u002fBpyTEQIhJmMGFEaPAYhbxwFEHDMGssTXBUt94wS4smcAg3hzBpyRdwfdRmUDFJfTAHt7AQPIgi8FF8oG\\u002fWvIWv+LGY8FVhoTBFo6CQaEOX8EI2HzBxrWLQbd+kcD4c+w+P28uwShq3UCvW4fBY3WOP1sdRcG3TSrBegAaQQV6NEBUYytBrUUxwOcsEMEUVGbBq2q8P5f4h0HT3MJA\\u002fIYwQXadG0FX4R7BH2mHQP4re0H0PhLABf3lQHJ3WkGP3BLB4iggwappqEBT4qxBURy9v3\\u002feZMATBS\\u002fACsOBPevyicCkwXJBCLl+wC\\u002fVhkGzlcZAjpEuwBSB\\u002f8AbLbfArgWKwWvnPEGAro3AS3fnPqidpb\\u002fuPHfAAVwCQXcBLsCmTtNATMRfQbw0uEH9mOXA\\u002fMsNwajNQ0Gi1lNA+PCgwfhFScFUnwzAw2NoQenORsFlr3PBGzdRP6M8qUB27OVA2g04wfxJbkEwqIfAVcDXwL39Y0Fh8oZAHs5BQe\\u002fuEMBAyHJA5bRlQPiNPUDw9mjAO9OYQbdU779w+nhBTBEWwBBx7kCy2LlALI0YQb+Rpz8kEV1ACjeiQdvDXMFR+Pe+vAa1QEVqcr\\u002fb+bhA+sFuQYw8EkHGtDBBRhs9QMWsPME0u\\u002fRAHU+AQAAFjEERGH9ATYIkwL1\\u002fjMAoAY7BlnNoQHk3IsA0NFzB0YRuQWClrz8d90dAPCZgwOIcU8HInZFBtsPUQCPeq8FUh9PAYsywwJrQQcHkZqXA\\u002fexLwep9SUFbapRBfrUaQN37BkFXnybAdQuZQSPch8E9uMTA6v8ZP+BM5UB8OgbBQCuHwfAU2kD6ZQdAPigCQHHshsCIPX7BVKGYQWw\\u002fc0FFP5JAC4HqP3i+mMFC3CDASL2TQTvN0774Rye\\u002fkqEeQQsKl0FZhAbBcsKYQefyckGYab6\\u002frDNFwWC1Q0G7nTNBVdKGQYDDMUA423nAdGa3QE9yAUHLOyXBmox8wecNHEEkC\\u002fhAiS8bQY0d0j\\u002fwqQ1BFaRDQX\\u002f3p8HGi6i+6hAowU2gicH2ZeC\\u002fuHkZQTVGmUGPJyfBBNhXvvSSXkC1OQ1BLkWkwB6MX8Bt4J9AnOOcQLOvI0H+GZ1BQp46wZE7fsEVU3jBpIlJwUg8BUAWlpTBDeAfwfPugcGFe91A\\u002fwi6wVBLbkC6SZFB1RQewV9WokB6q51BxZI1wV1sT8ByYs3ALgTpwEQoMcHiPF2+OFiqQXNqnkCJuag+WlgpwbCvAcDztLvAxGopPuif8kBCs5RBOOfSwGvFgcEFTP5ADxNoQUKSqD\\u002fxM\\u002fe\\u002fQouLwSB75D\\u002f3uC5AzbnZQAYd2EDXjy1A8bSXweumHsE+W\\u002f\\u002fA6+ufwAQGJ0H8Q8VAB2GyP\\u002fxPsMEQw1A\\u002fGIg4wGNXBMDtuxnAmYwMQHVAmcA3lD\\u002fBFmdZQXkuv8DcDyrB39rHwSBpmD6L1YXAuLeOQDzM3L8r3OdAvoPzP070oT8kt6m+2mxhwIzhe8EhzQdB67l4PxciYz\\u002fJYp5Aj7JFwaADlkBEqqVAfc5FvzGTTkHvvSNAfAuFwU4JXcHyZQ7Akd6YP1H\\u002fqUDiUoC\\u002fz2QSQb3AOUFEGTDADUTmQObnkr8\\u002fSbQ\\u002fimKIv02hpb\\u002f6amLBSFh9QdGcVsCvEpVAZ2oOQYgmor\\u002fXcidAv68fwEC3iMGWFlJBOHeDv8\\u002fv9L94Of+\\u002fG29ywTjihr+jHpvAdp8dwIb3W8GVxqRAJb5gvx3HVsFBLqC\\u002fu5mkQbBu0L\\u002fg3ls\\u002fmEIfwPACncHSr6VBAPoDwKvWJMD5zX1AdJKrPsr+kkHpNZ6\\u002fm373vh4bdMEA6HfAq1H+v1GvLUEaLG5AY4k1QbREDcHGkuS\\u002fPusZQT1T7L\\u002fHu9W\\u002f+YRHwIHEnb\\u002fVqkvAhwgDQQ9rQcCK+qpBj7aXwf2sIL\\u002f88efA+qvqQGjkVT+uqBFARKjHwAdjRL8FcczAPLq0wGdT2cD4354+OZy\\u002fwPJ9GcHTbNXAHKABv+hnkEEZ\\u002f7FBSmoCwCPb9kAROmZA8JxBwOqEq0G054BB7qvPQLpr4kA00rrAP3MYvpIRJ0CVwFjA83dcQWOHb0DKdnNBE7M0wIDq2sC0Xt8+g3eNQM9agcCYnZtAcEUSwPDobkAIH41A8E5HQCDFN0DE6GpB4vesQaYh5EAZbYpB2JFgwZCeUsE57jnB6zNevz65ScH9ljpAKHeAQKKqgED5aVFAI31TQRepV8FUrRpAtNWoQEV0Gb\\u002f2mXDAuVxdQIhhjkExEghBRkyQQb5qYMGUEzRBTUyRQQ9j6EDnkZpBjSpsweyd80DNIEtAE5adQeDdkEGKSJpBW94UQJItcsHFhxxAv8pkQbkh978TV6I\\u002foy74QFCL9sAPuRJBa4RcQHQobsFdU9TAkYttwfeYYMGAjfo+\\u002fbJXQT9ZoMA\\u002fR2nB4Ky+wBacFb\\u002ftaW9AgfAhwWSe+0ANSTtB0kwHwf+tg0A5XNRAtpnCP+EvF0AKhwZAxSSZwKdr9UCwj1DBmbMMQfVjS8EzMd0\\u002f5YhyQacB1kAITHK\\u002fkMAKQdjgY0EsbA1BLK78QI+wdD+CDn9Azms+wRmPWcEoEYFB0hxGQTklisFhB+G\\u002famFbQDusxT868TlBlng5QJvjNkHSuJ5B1K6aP9iUcMHWrFLB+E0Ywbf927+7YgJBKfFkQK96S0Hru0RBkKlUQeN1TsGXG7c+ZN99QRt2g0GoGRE\\u002fsJ0JQJtqjEAc5+bASnZtQENvqD\\u002fjSoxBCK2Wv\\u002fIizz819zFAeW2KQJDpJ0GRSYw\\u002fJUdPwfWjXsEIYUfBFjDnQMcGWsH1fN9A7tG7QEFQKEGKWULBmP8CO80UjkDlCwJBqMSKQU\\u002f5L8FvDr5AjYmfP+vH0kCmGM\\u002fA9kB\\u002fQLn+gUCUsspARz9zwRpnt0Bl017BHPBcweeSukA6iNNAYR1gwQFV4kAs77JAjZ3GQEthgEAC38ZAwKzGQIIl0UBUD6xBpJKAQOVmxEB\\u002fJUDBsGnQQKzTd8EEAGbBIRatQRX0tkCNC9BAzRK1wO+S6D+Pne\\u002fA4tKdO\\u002fvdOsDxAYPBZAqRP4U7acFD6K09EZ1jQc0tusCvledAn4qEQB2OGb3RWffAgcZkwR1cQUGjBWi\\u002fYs4Dv\\u002f4z8cC+mbzA+hTqvH5Rsr9gCv5AlfgLwb+ZmcDE+n3BjB+uwJkPeMET8+vAqM1rwfuWCEAYoZXBVwQfPxBzDUGC29M\\u002fEehKwJqI28AIt14\\u002fL4QgQQ4vNMEac1NB9KChQdCv+T9GoqNB+g+hQWyJbUByb6FBk7l4wYCjoUGbe13B3cmiQRJtokENe1TBOA4KweZO2L\\u002fanmvBFwVUwVUs8cDJB6JBXGOAwQ7EoEGp6lbB8450wQWvsr+naEXBHd9VwW5GccFBhoW\\u002f3jcPQbysHEF4QWg\\u002fdLa3P1+0Rz8e6sHAZApywAU1DT8km0fBJqZowGhQvMDkR7HAR5tqwGaerMBZWYw95LcjP34TpT9OGQZBNzhQwZmVpLycWnFBw1Epv9hOFMC7ZkLAvIsQQV6adEE=\"},\"yaxis\":\"y\",\"type\":\"scattergl\"}],                        {\"template\":{\"data\":{\"histogram2dcontour\":[{\"type\":\"histogram2dcontour\",\"colorbar\":{\"outlinewidth\":0,\"ticks\":\"\"},\"colorscale\":[[0.0,\"#0d0887\"],[0.1111111111111111,\"#46039f\"],[0.2222222222222222,\"#7201a8\"],[0.3333333333333333,\"#9c179e\"],[0.4444444444444444,\"#bd3786\"],[0.5555555555555556,\"#d8576b\"],[0.6666666666666666,\"#ed7953\"],[0.7777777777777778,\"#fb9f3a\"],[0.8888888888888888,\"#fdca26\"],[1.0,\"#f0f921\"]]}],\"choropleth\":[{\"type\":\"choropleth\",\"colorbar\":{\"outlinewidth\":0,\"ticks\":\"\"}}],\"histogram2d\":[{\"type\":\"histogram2d\",\"colorbar\":{\"outlinewidth\":0,\"ticks\":\"\"},\"colorscale\":[[0.0,\"#0d0887\"],[0.1111111111111111,\"#46039f\"],[0.2222222222222222,\"#7201a8\"],[0.3333333333333333,\"#9c179e\"],[0.4444444444444444,\"#bd3786\"],[0.5555555555555556,\"#d8576b\"],[0.6666666666666666,\"#ed7953\"],[0.7777777777777778,\"#fb9f3a\"],[0.8888888888888888,\"#fdca26\"],[1.0,\"#f0f921\"]]}],\"heatmap\":[{\"type\":\"heatmap\",\"colorbar\":{\"outlinewidth\":0,\"ticks\":\"\"},\"colorscale\":[[0.0,\"#0d0887\"],[0.1111111111111111,\"#46039f\"],[0.2222222222222222,\"#7201a8\"],[0.3333333333333333,\"#9c179e\"],[0.4444444444444444,\"#bd3786\"],[0.5555555555555556,\"#d8576b\"],[0.6666666666666666,\"#ed7953\"],[0.7777777777777778,\"#fb9f3a\"],[0.8888888888888888,\"#fdca26\"],[1.0,\"#f0f921\"]]}],\"contourcarpet\":[{\"type\":\"contourcarpet\",\"colorbar\":{\"outlinewidth\":0,\"ticks\":\"\"}}],\"contour\":[{\"type\":\"contour\",\"colorbar\":{\"outlinewidth\":0,\"ticks\":\"\"},\"colorscale\":[[0.0,\"#0d0887\"],[0.1111111111111111,\"#46039f\"],[0.2222222222222222,\"#7201a8\"],[0.3333333333333333,\"#9c179e\"],[0.4444444444444444,\"#bd3786\"],[0.5555555555555556,\"#d8576b\"],[0.6666666666666666,\"#ed7953\"],[0.7777777777777778,\"#fb9f3a\"],[0.8888888888888888,\"#fdca26\"],[1.0,\"#f0f921\"]]}],\"surface\":[{\"type\":\"surface\",\"colorbar\":{\"outlinewidth\":0,\"ticks\":\"\"},\"colorscale\":[[0.0,\"#0d0887\"],[0.1111111111111111,\"#46039f\"],[0.2222222222222222,\"#7201a8\"],[0.3333333333333333,\"#9c179e\"],[0.4444444444444444,\"#bd3786\"],[0.5555555555555556,\"#d8576b\"],[0.6666666666666666,\"#ed7953\"],[0.7777777777777778,\"#fb9f3a\"],[0.8888888888888888,\"#fdca26\"],[1.0,\"#f0f921\"]]}],\"mesh3d\":[{\"type\":\"mesh3d\",\"colorbar\":{\"outlinewidth\":0,\"ticks\":\"\"}}],\"scatter\":[{\"fillpattern\":{\"fillmode\":\"overlay\",\"size\":10,\"solidity\":0.2},\"type\":\"scatter\"}],\"parcoords\":[{\"type\":\"parcoords\",\"line\":{\"colorbar\":{\"outlinewidth\":0,\"ticks\":\"\"}}}],\"scatterpolargl\":[{\"type\":\"scatterpolargl\",\"marker\":{\"colorbar\":{\"outlinewidth\":0,\"ticks\":\"\"}}}],\"bar\":[{\"error_x\":{\"color\":\"#2a3f5f\"},\"error_y\":{\"color\":\"#2a3f5f\"},\"marker\":{\"line\":{\"color\":\"#E5ECF6\",\"width\":0.5},\"pattern\":{\"fillmode\":\"overlay\",\"size\":10,\"solidity\":0.2}},\"type\":\"bar\"}],\"scattergeo\":[{\"type\":\"scattergeo\",\"marker\":{\"colorbar\":{\"outlinewidth\":0,\"ticks\":\"\"}}}],\"scatterpolar\":[{\"type\":\"scatterpolar\",\"marker\":{\"colorbar\":{\"outlinewidth\":0,\"ticks\":\"\"}}}],\"histogram\":[{\"marker\":{\"pattern\":{\"fillmode\":\"overlay\",\"size\":10,\"solidity\":0.2}},\"type\":\"histogram\"}],\"scattergl\":[{\"type\":\"scattergl\",\"marker\":{\"colorbar\":{\"outlinewidth\":0,\"ticks\":\"\"}}}],\"scatter3d\":[{\"type\":\"scatter3d\",\"line\":{\"colorbar\":{\"outlinewidth\":0,\"ticks\":\"\"}},\"marker\":{\"colorbar\":{\"outlinewidth\":0,\"ticks\":\"\"}}}],\"scattermap\":[{\"type\":\"scattermap\",\"marker\":{\"colorbar\":{\"outlinewidth\":0,\"ticks\":\"\"}}}],\"scattermapbox\":[{\"type\":\"scattermapbox\",\"marker\":{\"colorbar\":{\"outlinewidth\":0,\"ticks\":\"\"}}}],\"scatterternary\":[{\"type\":\"scatterternary\",\"marker\":{\"colorbar\":{\"outlinewidth\":0,\"ticks\":\"\"}}}],\"scattercarpet\":[{\"type\":\"scattercarpet\",\"marker\":{\"colorbar\":{\"outlinewidth\":0,\"ticks\":\"\"}}}],\"carpet\":[{\"aaxis\":{\"endlinecolor\":\"#2a3f5f\",\"gridcolor\":\"white\",\"linecolor\":\"white\",\"minorgridcolor\":\"white\",\"startlinecolor\":\"#2a3f5f\"},\"baxis\":{\"endlinecolor\":\"#2a3f5f\",\"gridcolor\":\"white\",\"linecolor\":\"white\",\"minorgridcolor\":\"white\",\"startlinecolor\":\"#2a3f5f\"},\"type\":\"carpet\"}],\"table\":[{\"cells\":{\"fill\":{\"color\":\"#EBF0F8\"},\"line\":{\"color\":\"white\"}},\"header\":{\"fill\":{\"color\":\"#C8D4E3\"},\"line\":{\"color\":\"white\"}},\"type\":\"table\"}],\"barpolar\":[{\"marker\":{\"line\":{\"color\":\"#E5ECF6\",\"width\":0.5},\"pattern\":{\"fillmode\":\"overlay\",\"size\":10,\"solidity\":0.2}},\"type\":\"barpolar\"}],\"pie\":[{\"automargin\":true,\"type\":\"pie\"}]},\"layout\":{\"autotypenumbers\":\"strict\",\"colorway\":[\"#636efa\",\"#EF553B\",\"#00cc96\",\"#ab63fa\",\"#FFA15A\",\"#19d3f3\",\"#FF6692\",\"#B6E880\",\"#FF97FF\",\"#FECB52\"],\"font\":{\"color\":\"#2a3f5f\"},\"hovermode\":\"closest\",\"hoverlabel\":{\"align\":\"left\"},\"paper_bgcolor\":\"white\",\"plot_bgcolor\":\"#E5ECF6\",\"polar\":{\"bgcolor\":\"#E5ECF6\",\"angularaxis\":{\"gridcolor\":\"white\",\"linecolor\":\"white\",\"ticks\":\"\"},\"radialaxis\":{\"gridcolor\":\"white\",\"linecolor\":\"white\",\"ticks\":\"\"}},\"ternary\":{\"bgcolor\":\"#E5ECF6\",\"aaxis\":{\"gridcolor\":\"white\",\"linecolor\":\"white\",\"ticks\":\"\"},\"baxis\":{\"gridcolor\":\"white\",\"linecolor\":\"white\",\"ticks\":\"\"},\"caxis\":{\"gridcolor\":\"white\",\"linecolor\":\"white\",\"ticks\":\"\"}},\"coloraxis\":{\"colorbar\":{\"outlinewidth\":0,\"ticks\":\"\"}},\"colorscale\":{\"sequential\":[[0.0,\"#0d0887\"],[0.1111111111111111,\"#46039f\"],[0.2222222222222222,\"#7201a8\"],[0.3333333333333333,\"#9c179e\"],[0.4444444444444444,\"#bd3786\"],[0.5555555555555556,\"#d8576b\"],[0.6666666666666666,\"#ed7953\"],[0.7777777777777778,\"#fb9f3a\"],[0.8888888888888888,\"#fdca26\"],[1.0,\"#f0f921\"]],\"sequentialminus\":[[0.0,\"#0d0887\"],[0.1111111111111111,\"#46039f\"],[0.2222222222222222,\"#7201a8\"],[0.3333333333333333,\"#9c179e\"],[0.4444444444444444,\"#bd3786\"],[0.5555555555555556,\"#d8576b\"],[0.6666666666666666,\"#ed7953\"],[0.7777777777777778,\"#fb9f3a\"],[0.8888888888888888,\"#fdca26\"],[1.0,\"#f0f921\"]],\"diverging\":[[0,\"#8e0152\"],[0.1,\"#c51b7d\"],[0.2,\"#de77ae\"],[0.3,\"#f1b6da\"],[0.4,\"#fde0ef\"],[0.5,\"#f7f7f7\"],[0.6,\"#e6f5d0\"],[0.7,\"#b8e186\"],[0.8,\"#7fbc41\"],[0.9,\"#4d9221\"],[1,\"#276419\"]]},\"xaxis\":{\"gridcolor\":\"white\",\"linecolor\":\"white\",\"ticks\":\"\",\"title\":{\"standoff\":15},\"zerolinecolor\":\"white\",\"automargin\":true,\"zerolinewidth\":2},\"yaxis\":{\"gridcolor\":\"white\",\"linecolor\":\"white\",\"ticks\":\"\",\"title\":{\"standoff\":15},\"zerolinecolor\":\"white\",\"automargin\":true,\"zerolinewidth\":2},\"scene\":{\"xaxis\":{\"backgroundcolor\":\"#E5ECF6\",\"gridcolor\":\"white\",\"linecolor\":\"white\",\"showbackground\":true,\"ticks\":\"\",\"zerolinecolor\":\"white\",\"gridwidth\":2},\"yaxis\":{\"backgroundcolor\":\"#E5ECF6\",\"gridcolor\":\"white\",\"linecolor\":\"white\",\"showbackground\":true,\"ticks\":\"\",\"zerolinecolor\":\"white\",\"gridwidth\":2},\"zaxis\":{\"backgroundcolor\":\"#E5ECF6\",\"gridcolor\":\"white\",\"linecolor\":\"white\",\"showbackground\":true,\"ticks\":\"\",\"zerolinecolor\":\"white\",\"gridwidth\":2}},\"shapedefaults\":{\"line\":{\"color\":\"#2a3f5f\"}},\"annotationdefaults\":{\"arrowcolor\":\"#2a3f5f\",\"arrowhead\":0,\"arrowwidth\":1},\"geo\":{\"bgcolor\":\"white\",\"landcolor\":\"#E5ECF6\",\"subunitcolor\":\"white\",\"showland\":true,\"showlakes\":true,\"lakecolor\":\"white\"},\"title\":{\"x\":0.05},\"mapbox\":{\"style\":\"light\"}}},\"xaxis\":{\"anchor\":\"y\",\"domain\":[0.0,1.0],\"title\":{\"text\":\"tsne_1\"}},\"yaxis\":{\"anchor\":\"x\",\"domain\":[0.0,1.0],\"title\":{\"text\":\"tsne_2\"}},\"coloraxis\":{\"colorbar\":{\"title\":{\"text\":\"popularity\"}},\"colorscale\":[[0.0,\"#0d0887\"],[0.1111111111111111,\"#46039f\"],[0.2222222222222222,\"#7201a8\"],[0.3333333333333333,\"#9c179e\"],[0.4444444444444444,\"#bd3786\"],[0.5555555555555556,\"#d8576b\"],[0.6666666666666666,\"#ed7953\"],[0.7777777777777778,\"#fb9f3a\"],[0.8888888888888888,\"#fdca26\"],[1.0,\"#f0f921\"]]},\"legend\":{\"tracegroupgap\":0},\"margin\":{\"t\":60}},                        {\"responsive\": true}                    )                };            </script>        </div>"
      ],
      "text/plain": [
       "Figure({\n",
       "    'data': [{'customdata': array([[1, 'Toy Story (1995)', 452],\n",
       "                                   [2, 'GoldenEye (1995)', 131],\n",
       "                                   [3, 'Four Rooms (1995)', 90],\n",
       "                                   ...,\n",
       "                                   [1680, 'Sliding Doors (1998)', 1],\n",
       "                                   [1681, 'You So Crazy (1994)', 1],\n",
       "                                   [1682, 'Scream of Stone (Schrei aus Stein) (1991)', 1]], dtype=object),\n",
       "              'hovertemplate': ('tsne_1=%{x}<br>tsne_2=%{y}<br>' ... '%{marker.color}<extra></extra>'),\n",
       "              'legendgroup': '',\n",
       "              'marker': {'color': {'bdata': ('xAGDAFoA0QBWABoAiAHbACsBWQDsAA' ... 'ABAAEAAQABAAEAAQABAAEAAQABAA=='),\n",
       "                                   'dtype': 'i2'},\n",
       "                         'coloraxis': 'coloraxis',\n",
       "                         'symbol': 'circle'},\n",
       "              'mode': 'markers',\n",
       "              'name': '',\n",
       "              'showlegend': False,\n",
       "              'type': 'scattergl',\n",
       "              'x': {'bdata': ('tHazwKBHSEGkUqW/waUZwMN2pUDWjI' ... 'vBjnUGQgbTREFTRo5BvfqDQQAaG8E='),\n",
       "                    'dtype': 'f4'},\n",
       "              'xaxis': 'x',\n",
       "              'y': {'bdata': ('SOWSwHA60EA5klNAnIOEQauntcF0HJ' ... 'FBw1Epv9hOFMC7ZkLAvIsQQV6adEE='),\n",
       "                    'dtype': 'f4'},\n",
       "              'yaxis': 'y'}],\n",
       "    'layout': {'coloraxis': {'colorbar': {'title': {'text': 'popularity'}},\n",
       "                             'colorscale': [[0.0, '#0d0887'], [0.1111111111111111,\n",
       "                                            '#46039f'], [0.2222222222222222,\n",
       "                                            '#7201a8'], [0.3333333333333333,\n",
       "                                            '#9c179e'], [0.4444444444444444,\n",
       "                                            '#bd3786'], [0.5555555555555556,\n",
       "                                            '#d8576b'], [0.6666666666666666,\n",
       "                                            '#ed7953'], [0.7777777777777778,\n",
       "                                            '#fb9f3a'], [0.8888888888888888,\n",
       "                                            '#fdca26'], [1.0, '#f0f921']]},\n",
       "               'legend': {'tracegroupgap': 0},\n",
       "               'margin': {'t': 60},\n",
       "               'template': '...',\n",
       "               'xaxis': {'anchor': 'y', 'domain': [0.0, 1.0], 'title': {'text': 'tsne_1'}},\n",
       "               'yaxis': {'anchor': 'x', 'domain': [0.0, 1.0], 'title': {'text': 'tsne_2'}}}\n",
       "})"
      ]
     },
     "execution_count": 41,
     "metadata": {},
     "output_type": "execute_result"
    }
   ],
   "source": [
    "import plotly.express as px\n",
    "\n",
    "tsne_df = pd.DataFrame(item_tsne, columns=[\"tsne_1\", \"tsne_2\"])\n",
    "tsne_df[\"item_id\"] = np.arange(item_tsne.shape[0])\n",
    "tsne_df = tsne_df.merge(items.reset_index())\n",
    "\n",
    "px.scatter(tsne_df, x=\"tsne_1\", y=\"tsne_2\",\n",
    "           color=\"popularity\",\n",
    "           hover_data=[\"item_id\", \"title\", \"popularity\"])"
   ]
  },
  {
   "cell_type": "markdown",
   "metadata": {},
   "source": [
    "### Exercises\n",
    "\n",
    " - Add another layer to the neural network and retrain, compare train/test error.\n",
    " - Try adding more dropout and change layer sizes.\n"
   ]
  },
  {
   "cell_type": "code",
   "execution_count": 43,
   "metadata": {},
   "outputs": [
    {
     "name": "stdout",
     "output_type": "stream",
     "text": [
      "Epoch 1/10\n",
      "\u001b[1m1250/1250\u001b[0m \u001b[32m━━━━━━━━━━━━━━━━━━━━\u001b[0m\u001b[37m\u001b[0m \u001b[1m2s\u001b[0m 2ms/step - loss: 1.2004 - val_loss: 0.7664\n",
      "Epoch 2/10\n",
      "\u001b[1m1250/1250\u001b[0m \u001b[32m━━━━━━━━━━━━━━━━━━━━\u001b[0m\u001b[37m\u001b[0m \u001b[1m2s\u001b[0m 2ms/step - loss: 0.7675 - val_loss: 0.7425\n",
      "Epoch 3/10\n",
      "\u001b[1m1250/1250\u001b[0m \u001b[32m━━━━━━━━━━━━━━━━━━━━\u001b[0m\u001b[37m\u001b[0m \u001b[1m2s\u001b[0m 2ms/step - loss: 0.7406 - val_loss: 0.7327\n",
      "Epoch 4/10\n",
      "\u001b[1m1250/1250\u001b[0m \u001b[32m━━━━━━━━━━━━━━━━━━━━\u001b[0m\u001b[37m\u001b[0m \u001b[1m2s\u001b[0m 2ms/step - loss: 0.7261 - val_loss: 0.7234\n",
      "Epoch 5/10\n",
      "\u001b[1m1250/1250\u001b[0m \u001b[32m━━━━━━━━━━━━━━━━━━━━\u001b[0m\u001b[37m\u001b[0m \u001b[1m2s\u001b[0m 2ms/step - loss: 0.7078 - val_loss: 0.7215\n",
      "Epoch 6/10\n",
      "\u001b[1m1250/1250\u001b[0m \u001b[32m━━━━━━━━━━━━━━━━━━━━\u001b[0m\u001b[37m\u001b[0m \u001b[1m2s\u001b[0m 2ms/step - loss: 0.6867 - val_loss: 0.7179\n",
      "Epoch 7/10\n",
      "\u001b[1m1250/1250\u001b[0m \u001b[32m━━━━━━━━━━━━━━━━━━━━\u001b[0m\u001b[37m\u001b[0m \u001b[1m2s\u001b[0m 2ms/step - loss: 0.6742 - val_loss: 0.7134\n",
      "Epoch 8/10\n",
      "\u001b[1m1250/1250\u001b[0m \u001b[32m━━━━━━━━━━━━━━━━━━━━\u001b[0m\u001b[37m\u001b[0m \u001b[1m2s\u001b[0m 2ms/step - loss: 0.6704 - val_loss: 0.7143\n",
      "Epoch 9/10\n",
      "\u001b[1m1250/1250\u001b[0m \u001b[32m━━━━━━━━━━━━━━━━━━━━\u001b[0m\u001b[37m\u001b[0m \u001b[1m2s\u001b[0m 1ms/step - loss: 0.6623 - val_loss: 0.7128\n",
      "Epoch 10/10\n",
      "\u001b[1m1250/1250\u001b[0m \u001b[32m━━━━━━━━━━━━━━━━━━━━\u001b[0m\u001b[37m\u001b[0m \u001b[1m2s\u001b[0m 2ms/step - loss: 0.6521 - val_loss: 0.7124\n",
      "\u001b[1m2500/2500\u001b[0m \u001b[32m━━━━━━━━━━━━━━━━━━━━\u001b[0m\u001b[37m\u001b[0m \u001b[1m1s\u001b[0m 455us/step - loss: 0.6283\n",
      "\u001b[1m625/625\u001b[0m \u001b[32m━━━━━━━━━━━━━━━━━━━━\u001b[0m\u001b[37m\u001b[0m \u001b[1m0s\u001b[0m 466us/step - loss: 0.7149\n",
      "Train MAE: 0.630, Test MAE: 0.712\n"
     ]
    }
   ],
   "source": [
    "from tensorflow.keras.models import Model\n",
    "from tensorflow.keras.layers import Input, Embedding, Flatten, Concatenate, Dense, Dropout\n",
    "import numpy as np\n",
    "\n",
    "# Define number of unique users and items\n",
    "num_users = int(np.max(user_id_train)) + 1\n",
    "num_items = int(np.max(item_id_train)) + 1\n",
    "\n",
    "# Define inputs\n",
    "user_input = Input(shape=(1,))\n",
    "item_input = Input(shape=(1,))\n",
    "\n",
    "# Embedding layers\n",
    "user_embed = Embedding(num_users, 50)(user_input)\n",
    "item_embed = Embedding(num_items, 50)(item_input)\n",
    "\n",
    "user_vec = Flatten()(user_embed)\n",
    "item_vec = Flatten()(item_embed)\n",
    "\n",
    "# Combine and add layers\n",
    "x = Concatenate()([user_vec, item_vec])\n",
    "x = Dense(128, activation='relu')(x)\n",
    "x = Dropout(0.5)(x)               # Try changing to 0.6 or 0.7\n",
    "x = Dense(64, activation='relu')(x)  # Added another hidden layer\n",
    "output = Dense(1)(x)\n",
    "\n",
    "# Compile model\n",
    "model = Model(inputs=[user_input, item_input], outputs=output)\n",
    "model.compile(optimizer='adam', loss='mae')\n",
    "\n",
    "# Train the model\n",
    "model.fit([user_id_train, item_id_train], rating_train, \n",
    "          validation_data=([user_id_test, item_id_test], rating_test),\n",
    "          epochs=10, batch_size=64)\n",
    "\n",
    "\n",
    "train_loss = model.evaluate([user_id_train, item_id_train], rating_train)\n",
    "test_loss = model.evaluate([user_id_test, item_id_test], rating_test)\n",
    "print(f\"Train MAE: {train_loss:.3f}, Test MAE: {test_loss:.3f}\")"
   ]
  },
  {
   "cell_type": "markdown",
   "metadata": {},
   "source": [
    "### A recommendation function for a given user\n",
    "\n",
    "Once the model is trained, the system can be used to recommend a few items for a user that they haven't seen before. The following code does that.\n",
    "\n",
    "- we use the `model.predict` to compute the ratings a user would have given to all items\n",
    "- we build a function that sorts these items and excludes those the user has already seen."
   ]
  },
  {
   "cell_type": "code",
   "execution_count": 44,
   "metadata": {
    "scrolled": true
   },
   "outputs": [],
   "source": [
    "def recommend(user_id, top_n=10):\n",
    "    item_ids = range(1, items['item_id'].max())\n",
    "    seen_mask = all_ratings[\"user_id\"] == user_id\n",
    "    seen_movies = set(all_ratings[seen_mask][\"item_id\"])\n",
    "    item_ids = list(filter(lambda x: x not in seen_movies, item_ids))\n",
    "\n",
    "    user = np.zeros_like(item_ids)\n",
    "    user[:len(item_ids)] = user_id\n",
    "    items_ = np.array(item_ids)\n",
    "    ratings = model.predict([user, items_]).flatten()\n",
    "    top_items = ratings.argsort()[-top_n:][::-1]\n",
    "    return [(indexed_items.loc[item_id][\"title\"], ratings[item_id]) for item_id in top_items]"
   ]
  },
  {
   "cell_type": "code",
   "execution_count": 45,
   "metadata": {},
   "outputs": [
    {
     "name": "stdout",
     "output_type": "stream",
     "text": [
      "\u001b[1m48/48\u001b[0m \u001b[32m━━━━━━━━━━━━━━━━━━━━\u001b[0m\u001b[37m\u001b[0m \u001b[1m0s\u001b[0m 1ms/step\n",
      "    5.3: Letter From Death Row, A (1998)\n",
      "    5.2: Celtic Pride (1996)\n",
      "    4.9: Kazaam (1996)\n",
      "    4.9: Loaded (1994)\n",
      "    4.8: Sexual Life of the Belgians, The (1994)\n",
      "    4.7: Color of Night (1994)\n",
      "    4.6: Devil's Advocate, The (1997)\n",
      "    4.6: Fox and the Hound, The (1981)\n",
      "    4.6: Surviving Picasso (1996)\n",
      "    4.6: Nosferatu (Nosferatu, eine Symphonie des Grauens) (1922)\n"
     ]
    }
   ],
   "source": [
    "for title, pred_rating in recommend(5):\n",
    "    print(\"    %0.1f: %s\" % (pred_rating, title))"
   ]
  },
  {
   "cell_type": "markdown",
   "metadata": {
    "collapsed": false
   },
   "source": [
    "### Exercises\n",
    "\n",
    "- Try modifying our neural network to improve recommendation. You could try adding more layers, or using a different loss function. \n",
    "- Your goal is to improve the Mean Absolute Error on the test set. Show the results of your best model."
   ]
  },
  {
   "cell_type": "code",
   "execution_count": 46,
   "metadata": {
    "collapsed": false
   },
   "outputs": [],
   "source": [
    "\n",
    "\n",
    "class ImprovedRegressionModel(Model):\n",
    "    def __init__(self, embedding_size, max_user_id, max_item_id):\n",
    "        super().__init__()\n",
    "        self.user_embedding = Embedding(input_dim=max_user_id + 1, output_dim=embedding_size, name=\"user_embedding\")\n",
    "        self.item_embedding = Embedding(input_dim=max_item_id + 1, output_dim=embedding_size, name=\"item_embedding\")\n",
    "        self.flatten = Flatten()\n",
    "\n",
    "        # New Dense layers\n",
    "        self.concat = Concatenate()\n",
    "        self.dense1 = Dense(128, activation='relu')\n",
    "        self.dropout1 = Dropout(0.3)\n",
    "        self.dense2 = Dense(64, activation='relu')\n",
    "        self.output_layer = Dense(1)  # Single output: predicted rating\n",
    "\n",
    "    def call(self, inputs):\n",
    "        user_input, item_input = inputs\n",
    "        user_vec = self.flatten(self.user_embedding(user_input))\n",
    "        item_vec = self.flatten(self.item_embedding(item_input))\n",
    "\n",
    "        x = self.concat([user_vec, item_vec])\n",
    "        x = self.dense1(x)\n",
    "        x = self.dropout1(x)\n",
    "        x = self.dense2(x)\n",
    "        return self.output_layer(x)"
   ]
  },
  {
   "cell_type": "code",
   "execution_count": 47,
   "metadata": {
    "collapsed": false
   },
   "outputs": [
    {
     "name": "stdout",
     "output_type": "stream",
     "text": [
      "Epoch 1/10\n",
      "\u001b[1m1125/1125\u001b[0m \u001b[32m━━━━━━━━━━━━━━━━━━━━\u001b[0m\u001b[37m\u001b[0m \u001b[1m2s\u001b[0m 1ms/step - loss: 0.6479 - val_loss: 0.6572\n",
      "Epoch 2/10\n",
      "\u001b[1m1125/1125\u001b[0m \u001b[32m━━━━━━━━━━━━━━━━━━━━\u001b[0m\u001b[37m\u001b[0m \u001b[1m2s\u001b[0m 2ms/step - loss: 0.6417 - val_loss: 0.6658\n",
      "Epoch 3/10\n",
      "\u001b[1m1125/1125\u001b[0m \u001b[32m━━━━━━━━━━━━━━━━━━━━\u001b[0m\u001b[37m\u001b[0m \u001b[1m2s\u001b[0m 2ms/step - loss: 0.6347 - val_loss: 0.6701\n",
      "Epoch 4/10\n",
      "\u001b[1m1125/1125\u001b[0m \u001b[32m━━━━━━━━━━━━━━━━━━━━\u001b[0m\u001b[37m\u001b[0m \u001b[1m2s\u001b[0m 1ms/step - loss: 0.6264 - val_loss: 0.6746\n",
      "Epoch 5/10\n",
      "\u001b[1m1125/1125\u001b[0m \u001b[32m━━━━━━━━━━━━━━━━━━━━\u001b[0m\u001b[37m\u001b[0m \u001b[1m1s\u001b[0m 1ms/step - loss: 0.6244 - val_loss: 0.6746\n",
      "Epoch 6/10\n",
      "\u001b[1m1125/1125\u001b[0m \u001b[32m━━━━━━━━━━━━━━━━━━━━\u001b[0m\u001b[37m\u001b[0m \u001b[1m2s\u001b[0m 1ms/step - loss: 0.6232 - val_loss: 0.6758\n",
      "Epoch 7/10\n",
      "\u001b[1m1125/1125\u001b[0m \u001b[32m━━━━━━━━━━━━━━━━━━━━\u001b[0m\u001b[37m\u001b[0m \u001b[1m1s\u001b[0m 1ms/step - loss: 0.6118 - val_loss: 0.6819\n",
      "Epoch 8/10\n",
      "\u001b[1m1125/1125\u001b[0m \u001b[32m━━━━━━━━━━━━━━━━━━━━\u001b[0m\u001b[37m\u001b[0m \u001b[1m2s\u001b[0m 1ms/step - loss: 0.6073 - val_loss: 0.6815\n",
      "Epoch 9/10\n",
      "\u001b[1m1125/1125\u001b[0m \u001b[32m━━━━━━━━━━━━━━━━━━━━\u001b[0m\u001b[37m\u001b[0m \u001b[1m1s\u001b[0m 1ms/step - loss: 0.6081 - val_loss: 0.6846\n",
      "Epoch 10/10\n",
      "\u001b[1m1125/1125\u001b[0m \u001b[32m━━━━━━━━━━━━━━━━━━━━\u001b[0m\u001b[37m\u001b[0m \u001b[1m2s\u001b[0m 1ms/step - loss: 0.6016 - val_loss: 0.6833\n"
     ]
    }
   ],
   "source": [
    "# Training the model\n",
    "history = model.fit([user_id_train, item_id_train], rating_train,\n",
    "                    batch_size=64, epochs=10, validation_split=0.1,\n",
    "                    shuffle=True)"
   ]
  },
  {
   "cell_type": "code",
   "execution_count": 48,
   "metadata": {},
   "outputs": [
    {
     "name": "stdout",
     "output_type": "stream",
     "text": [
      "\u001b[1m625/625\u001b[0m \u001b[32m━━━━━━━━━━━━━━━━━━━━\u001b[0m\u001b[37m\u001b[0m \u001b[1m0s\u001b[0m 438us/step\n",
      "Test Mean Absolute Error : 0.7195\n"
     ]
    }
   ],
   "source": [
    "#Evaluate on Test Set\n",
    "from sklearn.metrics import mean_absolute_error\n",
    "\n",
    "preds = model.predict([user_id_test, item_id_test])\n",
    "mae = mean_absolute_error(rating_test, preds)\n",
    "print(f\"Test Mean Absolute Error : {mae:.4f}\")"
   ]
  }
 ],
 "metadata": {
  "kernelspec": {
   "display_name": "dsi_env",
   "language": "python",
   "name": "python3"
  },
  "language_info": {
   "codemirror_mode": {
    "name": "ipython",
    "version": 3
   },
   "file_extension": ".py",
   "mimetype": "text/x-python",
   "name": "python",
   "nbconvert_exporter": "python",
   "pygments_lexer": "ipython3",
   "version": "3.9.12"
  }
 },
 "nbformat": 4,
 "nbformat_minor": 4
}
